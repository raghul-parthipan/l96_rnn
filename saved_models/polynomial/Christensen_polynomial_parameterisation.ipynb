{
 "cells": [
  {
   "cell_type": "code",
   "execution_count": 5,
   "metadata": {},
   "outputs": [],
   "source": [
    "import numpy as np\n",
    "import matplotlib.pyplot as plt\n",
    "import sklearn\n",
    "import time\n",
    "from pickle import load\n",
    "import tensorflow as tf\n",
    "from tensorflow import keras\n",
    "\n",
    "tf.random.set_seed(42)\n",
    "K = keras.backend\n",
    "\n",
    "from sklearn.preprocessing import StandardScaler,PowerTransformer\n",
    "import math\n",
    "from scipy.stats import multivariate_normal\n",
    "from scipy.stats import norm\n",
    "import os\n",
    "import pickle\n",
    "\n",
    "from sklearn.preprocessing import PolynomialFeatures\n",
    "from sklearn.linear_model import LinearRegression\n",
    "import scipy.optimize"
   ]
  },
  {
   "cell_type": "code",
   "execution_count": 6,
   "metadata": {},
   "outputs": [],
   "source": [
    "k = 8\n",
    "J = 32\n",
    "save_time_step = 0.005\n",
    "h=1 \n",
    "c=10\n",
    "b=10\n"
   ]
  },
  {
   "cell_type": "markdown",
   "metadata": {},
   "source": [
    "# 1. Prepare data for training with differing F values"
   ]
  },
  {
   "cell_type": "code",
   "execution_count": 7,
   "metadata": {},
   "outputs": [],
   "source": [
    "train1 = np.load(\"../../data/truth_run/climate_change_exp/train_set_1.npy\")\n",
    "train2 = np.load(\"../../data/truth_run/climate_change_exp/train_set_2.npy\")\n",
    "train3 = np.load(\"../../data/truth_run/climate_change_exp/train_set_3.npy\")\n",
    "f20 = np.load(\"../../data/truth_run/training_dataset.npy\")\n",
    "train4 = np.concatenate([f20, 20*np.ones(shape=(f20.shape[0],k,1))],axis=2)[:200000]\n",
    "\n",
    "def u_deriver(x_train,F,save_time_step=save_time_step):\n",
    "    u_t = -np.roll(x_train[:-1,:],1,axis=1) * (np.roll(x_train[:-1,:],2,axis=1) - np.roll(x_train[:-1,:],-1,axis=1)) - x_train[:-1,:] + F -(x_train[1:,:] - x_train[:-1,:])/save_time_step\n",
    "    return u_t\n",
    "\n",
    "u_t_train_1 = u_deriver(train1[:,:,0],train1[0,0,-1])\n",
    "u_t_train_2 = u_deriver(train2[:,:,0],train2[0,0,-1])\n",
    "u_t_train_3 = u_deriver(train3[:,:,0],train3[0,0,-1])\n",
    "u_t_train_4 = u_deriver(train4[:,:,0],train4[0,0,-1])\n",
    "\n",
    "x_combo = np.ravel(np.concatenate([train1[:-1,:,0],train2[:-1,:,0],train3[:-1,:,0],train4[:-1,:,0]],axis=0)).reshape(-1,1)\n",
    "\n",
    "\n",
    "u_combo = np.ravel(np.concatenate([u_t_train_1,u_t_train_2,u_t_train_3,u_t_train_4],axis=0)).reshape(-1,1)\n",
    "\n",
    "\n"
   ]
  },
  {
   "cell_type": "code",
   "execution_count": null,
   "metadata": {},
   "outputs": [],
   "source": []
  },
  {
   "cell_type": "code",
   "execution_count": 8,
   "metadata": {},
   "outputs": [
    {
     "data": {
      "text/html": [
       "<style>#sk-container-id-1 {color: black;background-color: white;}#sk-container-id-1 pre{padding: 0;}#sk-container-id-1 div.sk-toggleable {background-color: white;}#sk-container-id-1 label.sk-toggleable__label {cursor: pointer;display: block;width: 100%;margin-bottom: 0;padding: 0.3em;box-sizing: border-box;text-align: center;}#sk-container-id-1 label.sk-toggleable__label-arrow:before {content: \"▸\";float: left;margin-right: 0.25em;color: #696969;}#sk-container-id-1 label.sk-toggleable__label-arrow:hover:before {color: black;}#sk-container-id-1 div.sk-estimator:hover label.sk-toggleable__label-arrow:before {color: black;}#sk-container-id-1 div.sk-toggleable__content {max-height: 0;max-width: 0;overflow: hidden;text-align: left;background-color: #f0f8ff;}#sk-container-id-1 div.sk-toggleable__content pre {margin: 0.2em;color: black;border-radius: 0.25em;background-color: #f0f8ff;}#sk-container-id-1 input.sk-toggleable__control:checked~div.sk-toggleable__content {max-height: 200px;max-width: 100%;overflow: auto;}#sk-container-id-1 input.sk-toggleable__control:checked~label.sk-toggleable__label-arrow:before {content: \"▾\";}#sk-container-id-1 div.sk-estimator input.sk-toggleable__control:checked~label.sk-toggleable__label {background-color: #d4ebff;}#sk-container-id-1 div.sk-label input.sk-toggleable__control:checked~label.sk-toggleable__label {background-color: #d4ebff;}#sk-container-id-1 input.sk-hidden--visually {border: 0;clip: rect(1px 1px 1px 1px);clip: rect(1px, 1px, 1px, 1px);height: 1px;margin: -1px;overflow: hidden;padding: 0;position: absolute;width: 1px;}#sk-container-id-1 div.sk-estimator {font-family: monospace;background-color: #f0f8ff;border: 1px dotted black;border-radius: 0.25em;box-sizing: border-box;margin-bottom: 0.5em;}#sk-container-id-1 div.sk-estimator:hover {background-color: #d4ebff;}#sk-container-id-1 div.sk-parallel-item::after {content: \"\";width: 100%;border-bottom: 1px solid gray;flex-grow: 1;}#sk-container-id-1 div.sk-label:hover label.sk-toggleable__label {background-color: #d4ebff;}#sk-container-id-1 div.sk-serial::before {content: \"\";position: absolute;border-left: 1px solid gray;box-sizing: border-box;top: 0;bottom: 0;left: 50%;z-index: 0;}#sk-container-id-1 div.sk-serial {display: flex;flex-direction: column;align-items: center;background-color: white;padding-right: 0.2em;padding-left: 0.2em;position: relative;}#sk-container-id-1 div.sk-item {position: relative;z-index: 1;}#sk-container-id-1 div.sk-parallel {display: flex;align-items: stretch;justify-content: center;background-color: white;position: relative;}#sk-container-id-1 div.sk-item::before, #sk-container-id-1 div.sk-parallel-item::before {content: \"\";position: absolute;border-left: 1px solid gray;box-sizing: border-box;top: 0;bottom: 0;left: 50%;z-index: -1;}#sk-container-id-1 div.sk-parallel-item {display: flex;flex-direction: column;z-index: 1;position: relative;background-color: white;}#sk-container-id-1 div.sk-parallel-item:first-child::after {align-self: flex-end;width: 50%;}#sk-container-id-1 div.sk-parallel-item:last-child::after {align-self: flex-start;width: 50%;}#sk-container-id-1 div.sk-parallel-item:only-child::after {width: 0;}#sk-container-id-1 div.sk-dashed-wrapped {border: 1px dashed gray;margin: 0 0.4em 0.5em 0.4em;box-sizing: border-box;padding-bottom: 0.4em;background-color: white;}#sk-container-id-1 div.sk-label label {font-family: monospace;font-weight: bold;display: inline-block;line-height: 1.2em;}#sk-container-id-1 div.sk-label-container {text-align: center;}#sk-container-id-1 div.sk-container {/* jupyter's `normalize.less` sets `[hidden] { display: none; }` but bootstrap.min.css set `[hidden] { display: none !important; }` so we also need the `!important` here to be able to override the default hidden behavior on the sphinx rendered scikit-learn.org. See: https://github.com/scikit-learn/scikit-learn/issues/21755 */display: inline-block !important;position: relative;}#sk-container-id-1 div.sk-text-repr-fallback {display: none;}</style><div id=\"sk-container-id-1\" class=\"sk-top-container\"><div class=\"sk-text-repr-fallback\"><pre>LinearRegression(fit_intercept=False)</pre><b>In a Jupyter environment, please rerun this cell to show the HTML representation or trust the notebook. <br />On GitHub, the HTML representation is unable to render, please try loading this page with nbviewer.org.</b></div><div class=\"sk-container\" hidden><div class=\"sk-item\"><div class=\"sk-estimator sk-toggleable\"><input class=\"sk-toggleable__control sk-hidden--visually\" id=\"sk-estimator-id-1\" type=\"checkbox\" checked><label for=\"sk-estimator-id-1\" class=\"sk-toggleable__label sk-toggleable__label-arrow\">LinearRegression</label><div class=\"sk-toggleable__content\"><pre>LinearRegression(fit_intercept=False)</pre></div></div></div></div></div>"
      ],
      "text/plain": [
       "LinearRegression(fit_intercept=False)"
      ]
     },
     "execution_count": 8,
     "metadata": {},
     "output_type": "execute_result"
    }
   ],
   "source": [
    "u_combo_no_ravel = np.concatenate([u_t_train_1,u_t_train_2,u_t_train_3,u_t_train_4],axis=0)\n",
    "\n",
    "poly = PolynomialFeatures(degree=3,include_bias=True)\n",
    "\n",
    "x_t_poly = poly.fit_transform(x_combo)\n",
    "\n",
    "reg = LinearRegression(fit_intercept=False)\n",
    "\n",
    "reg.fit(x_t_poly,u_combo)"
   ]
  },
  {
   "cell_type": "code",
   "execution_count": 9,
   "metadata": {},
   "outputs": [
    {
     "data": {
      "text/plain": [
       "array([[ 0.33066235,  1.29657398, -0.01247788, -0.00233539]])"
      ]
     },
     "execution_count": 9,
     "metadata": {},
     "output_type": "execute_result"
    }
   ],
   "source": [
    "reg.coef_"
   ]
  },
  {
   "cell_type": "code",
   "execution_count": 10,
   "metadata": {},
   "outputs": [
    {
     "data": {
      "text/plain": [
       "(3999992, 1)"
      ]
     },
     "execution_count": 10,
     "metadata": {},
     "output_type": "execute_result"
    }
   ],
   "source": [
    "u_combo.shape"
   ]
  },
  {
   "cell_type": "code",
   "execution_count": 11,
   "metadata": {},
   "outputs": [
    {
     "data": {
      "text/plain": [
       "(3999991, 1)"
      ]
     },
     "execution_count": 11,
     "metadata": {},
     "output_type": "execute_result"
    }
   ],
   "source": [
    "x_combo[:-1,:].shape"
   ]
  },
  {
   "cell_type": "code",
   "execution_count": 32,
   "metadata": {},
   "outputs": [
    {
     "data": {
      "image/png": "[encoded data removed]",
      "text/plain": [
       "<Figure size 640x480 with 1 Axes>"
      ]
     },
     "metadata": {},
     "output_type": "display_data"
    }
   ],
   "source": [
    "\n",
    "\n",
    "plt.figure()\n",
    "plt.scatter(x=np.ravel(x_combo[:,:]),y=np.ravel(u_combo[:]))\n",
    "plt.scatter(x=np.ravel(x_combo[:,:]),y=reg.predict(x_t_poly[:]))\n",
    "plt.show()"
   ]
  },
  {
   "cell_type": "code",
   "execution_count": 21,
   "metadata": {},
   "outputs": [],
   "source": [
    "x = np.linspace(-20,30)"
   ]
  },
  {
   "cell_type": "code",
   "execution_count": 27,
   "metadata": {},
   "outputs": [
    {
     "data": {
      "text/plain": [
       "<matplotlib.collections.PathCollection at 0x7f7760b3c3a0>"
      ]
     },
     "execution_count": 27,
     "metadata": {},
     "output_type": "execute_result"
    },
    {
     "data": {
      "image/png": "[encoded data removed]",
      "text/plain": [
       "<Figure size 640x480 with 1 Axes>"
      ]
     },
     "metadata": {},
     "output_type": "display_data"
    }
   ],
   "source": [
    "plt.scatter(x=x,y=reg.predict(poly.transform(x.reshape(-1,1))))"
   ]
  },
  {
   "cell_type": "code",
   "execution_count": 12,
   "metadata": {},
   "outputs": [],
   "source": [
    "u_t_pred = reg.predict(x_t_poly).reshape(-1,k)"
   ]
  },
  {
   "cell_type": "code",
   "execution_count": 13,
   "metadata": {},
   "outputs": [],
   "source": [
    "residual =  u_combo_no_ravel - u_t_pred"
   ]
  },
  {
   "cell_type": "code",
   "execution_count": 14,
   "metadata": {},
   "outputs": [],
   "source": [
    "\n",
    "\n",
    "h_t = np.ravel(residual[1:,:])\n",
    "h_t_minus1 = np.ravel(residual[:-1,:])\n",
    "\n"
   ]
  },
  {
   "cell_type": "code",
   "execution_count": 14,
   "metadata": {},
   "outputs": [],
   "source": [
    "\n",
    "\n",
    "# need to find optimum sigma and phi values. Model as normally distributed variable h_t, and then maximise loglik\n",
    "\n",
    "def loglik(h_t,h_t_minus1,theta):\n",
    "    tau,rho = theta\n",
    "    sigma = np.exp(tau) # ensures sigma is positive\n",
    "    phi = np.exp(rho) / (1+ np.exp(rho)) #ensures phi is between 0 and 1\n",
    "    lik = norm.pdf(h_t,loc=phi*h_t_minus1,scale=sigma*(1-phi**2)**0.5)\n",
    "    return np.log(lik)\n",
    "\n"
   ]
  },
  {
   "cell_type": "code",
   "execution_count": 15,
   "metadata": {},
   "outputs": [],
   "source": [
    "initial_guess = [0.7,4]"
   ]
  },
  {
   "cell_type": "code",
   "execution_count": 16,
   "metadata": {},
   "outputs": [
    {
     "name": "stdout",
     "output_type": "stream",
     "text": [
      "Optimization terminated successfully.\n",
      "         Current function value: 1344451.876842\n",
      "         Iterations: 32\n",
      "         Function evaluations: 60\n"
     ]
    }
   ],
   "source": [
    "theta_mle = scipy.optimize.fmin(lambda theta: -np.sum(loglik(h_t,h_t_minus1,theta)), initial_guess, maxiter=5000)"
   ]
  },
  {
   "cell_type": "code",
   "execution_count": 17,
   "metadata": {},
   "outputs": [
    {
     "data": {
      "text/plain": [
       "array([0.69891197, 4.23509231])"
      ]
     },
     "execution_count": 17,
     "metadata": {},
     "output_type": "execute_result"
    }
   ],
   "source": [
    "theta_mle"
   ]
  },
  {
   "cell_type": "code",
   "execution_count": 18,
   "metadata": {},
   "outputs": [
    {
     "data": {
      "text/plain": [
       "0.9857281607542057"
      ]
     },
     "execution_count": 18,
     "metadata": {},
     "output_type": "execute_result"
    }
   ],
   "source": [
    "phi = np.exp(theta_mle[1]) / (1+np.exp(theta_mle[1]))\n",
    "phi\n"
   ]
  },
  {
   "cell_type": "code",
   "execution_count": 19,
   "metadata": {},
   "outputs": [
    {
     "data": {
      "text/plain": [
       "2.0115628798707323"
      ]
     },
     "execution_count": 19,
     "metadata": {},
     "output_type": "execute_result"
    }
   ],
   "source": [
    "sigma = np.exp(theta_mle[0])\n",
    "sigma\n"
   ]
  },
  {
   "cell_type": "markdown",
   "metadata": {},
   "source": [
    "# 2. Eval of holdout likelihood"
   ]
  },
  {
   "cell_type": "code",
   "execution_count": 15,
   "metadata": {},
   "outputs": [],
   "source": [
    "def _rhs_X_dt(X, F,U,dt=0.005):\n",
    "    \"\"\"Compute the right hand side of the X-ODE.\"\"\"\n",
    "\n",
    "    dXdt = (-np.roll(X, 1,axis=1) * (np.roll(X, 2,axis=1) - np.roll(X, -1,axis=1)) -\n",
    "                X + F - U)\n",
    "\n",
    "    return dt * dXdt \n",
    "\n",
    "\n",
    "def U(Xt,Xt_1,F,dt=0.005):\n",
    "    k1_X = _rhs_X_dt(Xt,F,U=0)\n",
    "    k2_X = _rhs_X_dt(Xt + k1_X / 2,F, U=0)\n",
    "    Xt_1_pred = k2_X + Xt \n",
    "    #print(Xt_1_pred)\n",
    "    Ut = (Xt_1_pred - Xt_1 )/dt\n",
    "\n",
    "    return Ut\n",
    "\n",
    "\n",
    "def avg_loglikelihood_proper_generation_method(climate_eval_dataset,F,sigma=2.01156,phi=0.985728,dt=0.005):\n",
    "    \"\"\"Shape of climate_eval_dataset is num_steps x k x 2\"\"\"\n",
    "    \n",
    "    data = climate_eval_dataset[:,:,0] #so we get num_steps x k shape\n",
    "    \n",
    "    #we now need to work out the actual epsilon from each step\n",
    "    \n",
    "    u_t = U(data[:-1,:],data[1:,:],F)    \n",
    "    X_poly = poly.fit_transform(data[:-1,:].reshape(-1,1))\n",
    "    U_d = reg.predict(X_poly).reshape(-1,k)\n",
    "    h_t = u_t - U_d\n",
    "    \n",
    "    #likelihood calculations \n",
    "    \n",
    "    #other terms\n",
    "    h_time_plus_one = h_t[1:,:]\n",
    "    h_time = h_t[:-1,:]\n",
    "    \n",
    "    term1 = norm.logpdf(h_time[:1,:],loc=0,scale=sigma) -np.log(dt) #scaling factor\n",
    "    \n",
    "    loglik_rest = norm.logpdf(h_time_plus_one,loc=phi*h_time,scale=sigma*(1-phi**2)**0.5) -np.log(dt) #scaling factor\n",
    "    \n",
    "    loglik_full = np.concatenate([term1,loglik_rest],axis=0)\n",
    "    \n",
    "    #combine\n",
    "    return np.mean(loglik_full)\n",
    "\n",
    "\n",
    "def loglikelihood_proper_generation_method(climate_eval_dataset,F,sigma=2.01156,phi=0.985728,dt=0.005):\n",
    "    \"\"\"Shape of climate_eval_dataset is num_steps x k x 2\"\"\"\n",
    "    \n",
    "    data = climate_eval_dataset[:,:,0] #so we get num_steps x k shape\n",
    "    \n",
    "    #we now need to work out the actual epsilon from each step\n",
    "    \n",
    "    u_t = U(data[:-1,:],data[1:,:],F)    \n",
    "    X_poly = poly.fit_transform(data[:-1,:].reshape(-1,1))\n",
    "    U_d = reg.predict(X_poly).reshape(-1,k)\n",
    "    h_t = u_t - U_d\n",
    "    \n",
    "    #likelihood calculations \n",
    "    \n",
    "    #other terms\n",
    "    h_time_plus_one = h_t[1:,:]\n",
    "    h_time = h_t[:-1,:]\n",
    "    \n",
    "    term1 = norm.logpdf(h_time[:1,:],loc=0,scale=sigma) -np.log(dt) #scaling factor\n",
    "    \n",
    "    loglik_rest = norm.logpdf(h_time_plus_one,loc=phi*h_time,scale=sigma*(1-phi**2)**0.5) -np.log(dt) #scaling factor\n",
    "    \n",
    "    loglik_full = np.concatenate([term1,loglik_rest],axis=0)\n",
    "    \n",
    "    #combine\n",
    "    return loglik_full\n"
   ]
  },
  {
   "cell_type": "markdown",
   "metadata": {},
   "source": [
    "## F = 20"
   ]
  },
  {
   "cell_type": "code",
   "execution_count": 19,
   "metadata": {},
   "outputs": [],
   "source": [
    "test_set = np.load(\"../../data/truth_run/climate_eval_dataset.npy\")[:int(10000/0.005)]"
   ]
  },
  {
   "cell_type": "code",
   "execution_count": 20,
   "metadata": {},
   "outputs": [
    {
     "data": {
      "text/plain": [
       "4.976350701114215"
      ]
     },
     "execution_count": 20,
     "metadata": {},
     "output_type": "execute_result"
    }
   ],
   "source": [
    "\n",
    "\n",
    "#10000 MTU\n",
    "avg_loglikelihood_proper_generation_method(test_set,F=20)\n",
    "\n"
   ]
  },
  {
   "cell_type": "markdown",
   "metadata": {},
   "source": [
    "## F = 28"
   ]
  },
  {
   "cell_type": "code",
   "execution_count": 16,
   "metadata": {},
   "outputs": [],
   "source": [
    "test_set_28 = np.load(\"../../data/truth_run/climate_change_exp/full_28_set.npy\")[:int(10000/0.005)]\n"
   ]
  },
  {
   "cell_type": "code",
   "execution_count": 17,
   "metadata": {},
   "outputs": [
    {
     "data": {
      "text/plain": [
       "4.07074918818514"
      ]
     },
     "execution_count": 17,
     "metadata": {},
     "output_type": "execute_result"
    }
   ],
   "source": [
    "\n",
    "\n",
    "#10000 MTU\n",
    "avg_loglikelihood_proper_generation_method(test_set_28,F=28)\n",
    "\n"
   ]
  },
  {
   "cell_type": "markdown",
   "metadata": {},
   "source": [
    "What's the likelihood at the point where X = 27?"
   ]
  },
  {
   "cell_type": "code",
   "execution_count": 40,
   "metadata": {},
   "outputs": [],
   "source": [
    "loglik_array = loglikelihood_proper_generation_method(test_set_28,F=28)\n"
   ]
  },
  {
   "cell_type": "code",
   "execution_count": 43,
   "metadata": {
    "scrolled": true
   },
   "outputs": [
    {
     "data": {
      "text/plain": [
       "(array([2.0000000e+00, 0.0000000e+00, 1.3000000e+01, 2.2000000e+01,\n",
       "        7.9000000e+01, 2.9100000e+02, 1.2490000e+03, 5.9830000e+03,\n",
       "        4.7545000e+04, 1.5944808e+07]),\n",
       " array([-297.260041  , -266.98781656, -236.71559213, -206.44336769,\n",
       "        -176.17114326, -145.89891883, -115.62669439,  -85.35446996,\n",
       "         -55.08224552,  -24.81002109,    5.46220335]),\n",
       " <BarContainer object of 10 artists>)"
      ]
     },
     "execution_count": 43,
     "metadata": {},
     "output_type": "execute_result"
    },
    {
     "data": {
      "image/png": "[encoded data removed]",
      "text/plain": [
       "<Figure size 640x480 with 1 Axes>"
      ]
     },
     "metadata": {},
     "output_type": "display_data"
    }
   ],
   "source": [
    "plt.hist(np.ravel(loglik_array))"
   ]
  },
  {
   "cell_type": "code",
   "execution_count": 50,
   "metadata": {},
   "outputs": [
    {
     "data": {
      "text/plain": [
       "(414154, 0)"
      ]
     },
     "execution_count": 50,
     "metadata": {},
     "output_type": "execute_result"
    }
   ],
   "source": [
    "np.unravel_index(loglik_array.argmin(),loglik_array.shape)"
   ]
  },
  {
   "cell_type": "code",
   "execution_count": 76,
   "metadata": {},
   "outputs": [
    {
     "data": {
      "text/plain": [
       "array([-297.260041  ,    4.15087704,    5.30953056,    5.42996968,\n",
       "          4.9048068 ,    5.34177776,    5.43398155,    5.33127695])"
      ]
     },
     "execution_count": 76,
     "metadata": {},
     "output_type": "execute_result"
    }
   ],
   "source": [
    "loglik_array[414154]"
   ]
  },
  {
   "cell_type": "code",
   "execution_count": 60,
   "metadata": {},
   "outputs": [
    {
     "data": {
      "text/plain": [
       "(1999999, 8)"
      ]
     },
     "execution_count": 60,
     "metadata": {},
     "output_type": "execute_result"
    }
   ],
   "source": [
    "loglik_array.shape"
   ]
  },
  {
   "cell_type": "code",
   "execution_count": 63,
   "metadata": {},
   "outputs": [
    {
     "data": {
      "text/plain": [
       "array([[[  20.78730897,  147.17100071],\n",
       "        [ -10.01710764,  103.98312029],\n",
       "        [   6.34975467, -124.85034243],\n",
       "        [   8.3235972 , -104.68545094],\n",
       "        [   6.46942709,   32.83393758],\n",
       "        [   2.40507345,   34.78207175],\n",
       "        [   2.94722132,  -11.74293504],\n",
       "        [  11.35199524,  -54.17651649]]])"
      ]
     },
     "execution_count": 63,
     "metadata": {},
     "output_type": "execute_result"
    }
   ],
   "source": [
    "test_set_28[414154:414155]"
   ]
  },
  {
   "cell_type": "code",
   "execution_count": 77,
   "metadata": {},
   "outputs": [],
   "source": [
    "u_t = U(test_set_28[414153:414155,:,0],test_set_28[414154:414156,:,0],F=28)\n",
    "X_poly = poly.fit_transform(test_set_28[414153:414155,:,0].reshape(-1,1))\n",
    "U_d = reg.predict(X_poly).reshape(-1,k)\n",
    "h_t = u_t - U_d\n",
    "h_time_plus_one = h_t[1:,:]\n",
    "h_time = h_t[:-1,:]"
   ]
  },
  {
   "cell_type": "code",
   "execution_count": 78,
   "metadata": {},
   "outputs": [
    {
     "data": {
      "text/plain": [
       "array([[14.15296175,  5.58239262, -4.68942128, -1.93607268,  0.33303964,\n",
       "         1.52123127, -1.44010414, -1.90462574],\n",
       "       [ 5.6185257 ,  6.05113111, -4.80961855, -1.99442258, -0.02925992,\n",
       "         1.66571208, -1.3390979 , -1.70415676]])"
      ]
     },
     "execution_count": 78,
     "metadata": {},
     "output_type": "execute_result"
    }
   ],
   "source": [
    "h_t"
   ]
  },
  {
   "cell_type": "code",
   "execution_count": 79,
   "metadata": {},
   "outputs": [
    {
     "data": {
      "text/plain": [
       "array([[-297.26272063,    4.15087458,    5.30953468,    5.4299738 ,\n",
       "           4.90480616,    5.34178127,    5.43398531,    5.33127956]])"
      ]
     },
     "execution_count": 79,
     "metadata": {},
     "output_type": "execute_result"
    }
   ],
   "source": [
    "loglik_rest = norm.logpdf(h_time_plus_one,loc=phi*h_time,scale=sigma*(1-phi**2)**0.5) -np.log(0.005) #scaling factor\n",
    "loglik_rest"
   ]
  },
  {
   "cell_type": "code",
   "execution_count": 84,
   "metadata": {},
   "outputs": [
    {
     "data": {
      "text/plain": [
       "array([[ 21.53453086,  -9.68090604,   5.59993703,   7.76528786,\n",
       "          6.54410096,   2.4712509 ,   2.77589505,  11.03964602],\n",
       "       [ 20.78730897, -10.01710764,   6.34975467,   8.3235972 ,\n",
       "          6.46942709,   2.40507345,   2.94722132,  11.35199524]])"
      ]
     },
     "execution_count": 84,
     "metadata": {},
     "output_type": "execute_result"
    }
   ],
   "source": [
    "test_set_28[414153:414155,:,0]"
   ]
  },
  {
   "cell_type": "code",
   "execution_count": 83,
   "metadata": {},
   "outputs": [
    {
     "data": {
      "text/plain": [
       "array([[ -0.85669275, -11.27188628,   6.78997894,   8.55298523,\n",
       "          7.6267045 ,   3.42337249,   3.78371231,   9.98151431],\n",
       "       [  0.91354894, -11.56191979,   7.46258548,   8.91155691,\n",
       "          7.5641605 ,   3.34435158,   3.98378272,  10.02490506]])"
      ]
     },
     "execution_count": 83,
     "metadata": {},
     "output_type": "execute_result"
    }
   ],
   "source": [
    "U_d"
   ]
  },
  {
   "cell_type": "code",
   "execution_count": 82,
   "metadata": {},
   "outputs": [
    {
     "data": {
      "text/plain": [
       "array([[13.29626899, -5.68949366,  2.10055766,  6.61691255,  7.95974414,\n",
       "         4.94460375,  2.34360816,  8.07688857],\n",
       "       [ 6.53207464, -5.51078868,  2.65296693,  6.91713433,  7.53490058,\n",
       "         5.01006366,  2.64468482,  8.32074831]])"
      ]
     },
     "execution_count": 82,
     "metadata": {},
     "output_type": "execute_result"
    }
   ],
   "source": [
    "u_t"
   ]
  },
  {
   "cell_type": "code",
   "execution_count": 37,
   "metadata": {},
   "outputs": [
    {
     "data": {
      "text/plain": [
       "27.338758174861738"
      ]
     },
     "execution_count": 37,
     "metadata": {},
     "output_type": "execute_result"
    }
   ],
   "source": [
    "test_set_28[:,:,0].max()"
   ]
  },
  {
   "cell_type": "code",
   "execution_count": 85,
   "metadata": {},
   "outputs": [
    {
     "data": {
      "text/plain": [
       "(1758635, 5)"
      ]
     },
     "execution_count": 85,
     "metadata": {},
     "output_type": "execute_result"
    }
   ],
   "source": [
    "np.unravel_index(test_set_28[:,:,0].argmax(),test_set_28[:,:,0].shape)"
   ]
  },
  {
   "cell_type": "code",
   "execution_count": 86,
   "metadata": {},
   "outputs": [
    {
     "data": {
      "text/plain": [
       "array([ 7.2092242 ,  5.62799461, -1.45237158,  1.4530485 ,  9.46610167,\n",
       "       27.33875817,  2.58694589, -8.13381548])"
      ]
     },
     "execution_count": 86,
     "metadata": {},
     "output_type": "execute_result"
    }
   ],
   "source": [
    "test_set_28[1758635,:,0]"
   ]
  },
  {
   "cell_type": "code",
   "execution_count": 99,
   "metadata": {},
   "outputs": [],
   "source": [
    "u_t = U(test_set_28[1758635:1758637,:,0],test_set_28[1758636:1758638,:,0],F=28)\n",
    "X_poly = poly.fit_transform(test_set_28[1758635:1758637,:,0].reshape(-1,1))\n",
    "U_d = reg.predict(X_poly).reshape(-1,k)\n",
    "h_t = u_t - U_d\n",
    "h_time_plus_one = h_t[1:,:]\n",
    "h_time = h_t[:-1,:]"
   ]
  },
  {
   "cell_type": "code",
   "execution_count": 88,
   "metadata": {},
   "outputs": [
    {
     "data": {
      "text/plain": [
       "array([[ 7.2092242 ,  5.62799461, -1.45237158,  1.4530485 ,  9.46610167,\n",
       "        27.33875817,  2.58694589, -8.13381548],\n",
       "       [ 7.10421643,  5.94694909, -1.46080987,  1.55002571,  9.74090266,\n",
       "        27.26423127,  0.25947495, -8.07439214]])"
      ]
     },
     "execution_count": 88,
     "metadata": {},
     "output_type": "execute_result"
    }
   ],
   "source": [
    "test_set_28[1758635:1758637,:,0]"
   ]
  },
  {
   "cell_type": "code",
   "execution_count": 90,
   "metadata": {},
   "outputs": [
    {
     "data": {
      "text/plain": [
       "array([[ 6.19144214,  6.74082166, -1.90187134,  1.53359535,  6.82121305,\n",
       "        14.9812982 ,  5.16444232, -4.90560134],\n",
       "       [ 6.16031903,  7.0948787 , -1.97181092,  1.73234348,  7.4255373 ,\n",
       "        17.44185638,  2.28422951, -5.31292163]])"
      ]
     },
     "execution_count": 90,
     "metadata": {},
     "output_type": "execute_result"
    }
   ],
   "source": [
    "u_t"
   ]
  },
  {
   "cell_type": "code",
   "execution_count": 100,
   "metadata": {},
   "outputs": [
    {
     "data": {
      "text/plain": [
       "array([[  8.15440777,   6.81623134,  -1.57161075,   2.18113731,\n",
       "          9.50510719, -21.26823178,   3.5608918 ,  -9.78422161],\n",
       "       [  8.07469436,   7.10884433,  -1.58273291,   2.30170911,\n",
       "          9.61796974, -20.92488886,   0.66620991,  -9.7225001 ]])"
      ]
     },
     "execution_count": 100,
     "metadata": {},
     "output_type": "execute_result"
    }
   ],
   "source": [
    "U_d"
   ]
  },
  {
   "cell_type": "code",
   "execution_count": 101,
   "metadata": {},
   "outputs": [
    {
     "data": {
      "text/plain": [
       "array([[-1.96296563e+00, -7.54096835e-02, -3.30260589e-01,\n",
       "        -6.47541962e-01, -2.68389414e+00,  3.62495300e+01,\n",
       "         1.60355052e+00,  4.87862028e+00],\n",
       "       [-1.91437534e+00, -1.39656379e-02, -3.89078008e-01,\n",
       "        -5.69365624e-01, -2.19243243e+00,  3.83667452e+01,\n",
       "         1.61801960e+00,  4.40957847e+00]])"
      ]
     },
     "execution_count": 101,
     "metadata": {},
     "output_type": "execute_result"
    }
   ],
   "source": [
    "h_t"
   ]
  },
  {
   "cell_type": "code",
   "execution_count": 102,
   "metadata": {},
   "outputs": [
    {
     "data": {
      "text/plain": [
       "array([36.24952998, 38.36674523])"
      ]
     },
     "execution_count": 102,
     "metadata": {},
     "output_type": "execute_result"
    }
   ],
   "source": [
    "h_t[:,5]"
   ]
  },
  {
   "cell_type": "code",
   "execution_count": 108,
   "metadata": {},
   "outputs": [],
   "source": [
    "u_t = U(test_set_28[1758600:1758600+500,:,0],test_set_28[1758600 + 1:1758600 + 1 + 500,:,0],F=28)\n",
    "X_poly = poly.fit_transform(test_set_28[1758600:1758600+500,:,0].reshape(-1,1))\n",
    "U_d = reg.predict(X_poly).reshape(-1,k)\n",
    "h_t = u_t - U_d\n",
    "h_time_plus_one = h_t[1:,:]\n",
    "h_time = h_t[:-1,:]\n",
    "\n",
    "loglik_rest = norm.logpdf(h_time_plus_one,loc=phi*h_time,scale=sigma*(1-phi**2)**0.5) -np.log(0.005) #scaling factor\n"
   ]
  },
  {
   "cell_type": "code",
   "execution_count": 121,
   "metadata": {
    "scrolled": true
   },
   "outputs": [
    {
     "data": {
      "text/plain": [
       "[<matplotlib.lines.Line2D at 0x7f7760182b60>]"
      ]
     },
     "execution_count": 121,
     "metadata": {},
     "output_type": "execute_result"
    },
    {
     "data": {
      "image/png": "[encoded data removed]",
      "text/plain": [
       "<Figure size 640x480 with 1 Axes>"
      ]
     },
     "metadata": {},
     "output_type": "display_data"
    }
   ],
   "source": [
    "plt.plot((h_time_plus_one - phi*h_time)[:50,5],color=\"blue\")\n",
    "# plt.plot(h_t[:50,5],color=\"k\")\n",
    "plt.plot(loglik_rest[:50,5],color=\"red\")"
   ]
  },
  {
   "cell_type": "code",
   "execution_count": 122,
   "metadata": {},
   "outputs": [
    {
     "data": {
      "text/plain": [
       "array([-1.99770326, -5.06333679, -6.39786349, -2.90375394, -2.76330995,\n",
       "       -5.38419974, -1.24410028,  2.19173402, -0.87817299, -2.6399213 ])"
      ]
     },
     "execution_count": 122,
     "metadata": {},
     "output_type": "execute_result"
    }
   ],
   "source": [
    "(h_time_plus_one - phi*h_time)[40:50,5]"
   ]
  },
  {
   "cell_type": "code",
   "execution_count": 123,
   "metadata": {},
   "outputs": [
    {
     "data": {
      "text/plain": [
       "array([ -11.93842332, -106.32102653, -173.01097874,  -31.30178438,\n",
       "        -27.83150615, -120.93729471,   -1.28639448,  -15.48271395,\n",
       "          2.0997006 ,  -24.92459477])"
      ]
     },
     "execution_count": 123,
     "metadata": {},
     "output_type": "execute_result"
    }
   ],
   "source": [
    "loglik_rest[40:50,5]"
   ]
  },
  {
   "cell_type": "code",
   "execution_count": 125,
   "metadata": {},
   "outputs": [
    {
     "data": {
      "text/plain": [
       "-178.3092961081726"
      ]
     },
     "execution_count": 125,
     "metadata": {},
     "output_type": "execute_result"
    }
   ],
   "source": [
    "norm.logpdf(h_time_plus_one[42,5],loc=phi*h_time[42,5],scale=sigma*(1-phi**2)**0.5)"
   ]
  },
  {
   "cell_type": "code",
   "execution_count": 127,
   "metadata": {},
   "outputs": [
    {
     "data": {
      "text/plain": [
       "-36.6001017429702"
      ]
     },
     "execution_count": 127,
     "metadata": {},
     "output_type": "execute_result"
    }
   ],
   "source": [
    "norm.logpdf(h_time_plus_one[43,5],loc=phi*h_time[43,5],scale=sigma*(1-phi**2)**0.5)"
   ]
  },
  {
   "cell_type": "markdown",
   "metadata": {},
   "source": [
    "Loglik depends on the differences between the hs. As long as the \"true\" hs change smoothly, loglik will be fine. Even if u makes a poor prediction, if the h required to correct it is not too different to the h at the previous time-step, log-lik will be ok."
   ]
  },
  {
   "cell_type": "markdown",
   "metadata": {},
   "source": [
    "# 3. Generate data"
   ]
  },
  {
   "cell_type": "code",
   "execution_count": 128,
   "metadata": {},
   "outputs": [
    {
     "data": {
      "text/plain": [
       "10000000.0"
      ]
     },
     "execution_count": 128,
     "metadata": {},
     "output_type": "execute_result"
    }
   ],
   "source": [
    "50000/0.005"
   ]
  },
  {
   "cell_type": "code",
   "execution_count": 129,
   "metadata": {},
   "outputs": [
    {
     "data": {
      "text/plain": [
       "10000000"
      ]
     },
     "execution_count": 129,
     "metadata": {},
     "output_type": "execute_result"
    }
   ],
   "source": [
    "10000000 /"
   ]
  },
  {
   "cell_type": "code",
   "execution_count": 130,
   "metadata": {},
   "outputs": [
    {
     "data": {
      "text/plain": [
       "200000.0"
      ]
     },
     "execution_count": 130,
     "metadata": {},
     "output_type": "execute_result"
    }
   ],
   "source": [
    "1000 / 0.005"
   ]
  },
  {
   "cell_type": "code",
   "execution_count": 134,
   "metadata": {},
   "outputs": [
    {
     "data": {
      "text/plain": [
       "0"
      ]
     },
     "execution_count": 134,
     "metadata": {},
     "output_type": "execute_result"
    }
   ],
   "source": [
    "1000 % 1000"
   ]
  },
  {
   "cell_type": "code",
   "execution_count": null,
   "metadata": {},
   "outputs": [],
   "source": []
  }
 ],
 "metadata": {
  "kernelspec": {
   "display_name": "Python [conda env:updated_tf]",
   "language": "python",
   "name": "conda-env-updated_tf-py"
  },
  "language_info": {
   "codemirror_mode": {
    "name": "ipython",
    "version": 3
   },
   "file_extension": ".py",
   "mimetype": "text/x-python",
   "name": "python",
   "nbconvert_exporter": "python",
   "pygments_lexer": "ipython3",
   "version": "3.10.9"
  }
 },
 "nbformat": 4,
 "nbformat_minor": 4
}
