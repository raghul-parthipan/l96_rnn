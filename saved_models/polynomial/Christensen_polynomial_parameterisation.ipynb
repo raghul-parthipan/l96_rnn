{
 "cells": [
  {
   "cell_type": "markdown",
   "metadata": {},
   "source": [
    "Sections 1 needs to be run in all cases to retrain the model (very quick). \n",
    "\n",
    "Section 2 calculates the hold-out likelihood.\n",
    "\n",
    "Section 3 is for generating data."
   ]
  },
  {
   "cell_type": "code",
   "execution_count": 1,
   "metadata": {},
   "outputs": [],
   "source": [
    "import numpy as np\n",
    "import sklearn\n",
    "import time\n",
    "import matplotlib.pyplot as plt\n",
    "from sklearn.preprocessing import PolynomialFeatures\n",
    "from sklearn.linear_model import LinearRegression\n",
    "import scipy.optimize\n",
    "from scipy.stats import norm\n",
    "import seaborn as sns\n"
   ]
  },
  {
   "cell_type": "code",
   "execution_count": 2,
   "metadata": {},
   "outputs": [],
   "source": [
    "k = 8\n",
    "J = 32\n",
    "save_time_step = 0.005\n",
    "h=1 \n",
    "F=20\n",
    "c=10\n",
    "b=10"
   ]
  },
  {
   "cell_type": "markdown",
   "metadata": {},
   "source": [
    "# 1: Get data and train model #"
   ]
  },
  {
   "cell_type": "code",
   "execution_count": 3,
   "metadata": {},
   "outputs": [],
   "source": [
    "x_train = np.load(\"../../data/truth_run/training_dataset.npy\")"
   ]
  },
  {
   "cell_type": "code",
   "execution_count": 4,
   "metadata": {},
   "outputs": [],
   "source": [
    "x = x_train[:,:,0]"
   ]
  },
  {
   "cell_type": "code",
   "execution_count": 5,
   "metadata": {},
   "outputs": [],
   "source": [
    "u_t = -np.roll(x[:-1,:],1,axis=1) * (np.roll(x[:-1,:],2,axis=1) - np.roll(x[:-1,:],-1,axis=1)) - x[:-1,:] + F -(x[1:,:] - x[:-1,:])/save_time_step"
   ]
  },
  {
   "cell_type": "code",
   "execution_count": 6,
   "metadata": {},
   "outputs": [],
   "source": [
    "x_t_ravel = np.ravel(x[:-1,:]).reshape(-1,1)\n",
    "u_t_ravel = np.ravel(u_t).reshape(-1,1)"
   ]
  },
  {
   "cell_type": "code",
   "execution_count": 7,
   "metadata": {},
   "outputs": [],
   "source": [
    "poly = PolynomialFeatures(degree=3,include_bias=True)"
   ]
  },
  {
   "cell_type": "code",
   "execution_count": 8,
   "metadata": {},
   "outputs": [],
   "source": [
    "x_t_poly = poly.fit_transform(x_t_ravel)"
   ]
  },
  {
   "cell_type": "code",
   "execution_count": 9,
   "metadata": {},
   "outputs": [],
   "source": [
    "reg = LinearRegression(fit_intercept=False)"
   ]
  },
  {
   "cell_type": "code",
   "execution_count": 10,
   "metadata": {},
   "outputs": [
    {
     "data": {
      "text/plain": [
       "LinearRegression(fit_intercept=False)"
      ]
     },
     "execution_count": 10,
     "metadata": {},
     "output_type": "execute_result"
    }
   ],
   "source": [
    "reg.fit(x_t_poly,u_t_ravel)"
   ]
  },
  {
   "cell_type": "code",
   "execution_count": 11,
   "metadata": {},
   "outputs": [
    {
     "data": {
      "text/plain": [
       "array([[ 0.34484477,  1.29971787, -0.01271022, -0.00238594]])"
      ]
     },
     "execution_count": 11,
     "metadata": {},
     "output_type": "execute_result"
    }
   ],
   "source": [
    "reg.coef_"
   ]
  },
  {
   "cell_type": "code",
   "execution_count": 12,
   "metadata": {},
   "outputs": [
    {
     "data": {
      "image/png": "[encoded data removed]",
      "text/plain": [
       "<Figure size 432x288 with 1 Axes>"
      ]
     },
     "metadata": {
      "needs_background": "light"
     },
     "output_type": "display_data"
    }
   ],
   "source": [
    "plt.figure()\n",
    "plt.scatter(x=np.ravel(x[:-1,:]),y=np.ravel(u_t))\n",
    "plt.scatter(x=np.ravel(x[:-1,:]),y=reg.predict(x_t_poly))\n",
    "plt.show()\n",
    "\n",
    "#plot of u vs x"
   ]
  },
  {
   "cell_type": "code",
   "execution_count": 18,
   "metadata": {},
   "outputs": [],
   "source": [
    "u_t_pred = reg.predict(x_t_poly).reshape(-1,k)"
   ]
  },
  {
   "cell_type": "code",
   "execution_count": 19,
   "metadata": {},
   "outputs": [],
   "source": [
    "residual =  u_t - u_t_pred"
   ]
  },
  {
   "cell_type": "code",
   "execution_count": 20,
   "metadata": {},
   "outputs": [],
   "source": [
    "h_t = np.ravel(residual[1:,:])\n",
    "h_t_minus1 = np.ravel(residual[:-1,:])"
   ]
  },
  {
   "cell_type": "code",
   "execution_count": 21,
   "metadata": {},
   "outputs": [
    {
     "data": {
      "text/plain": [
       "<matplotlib.collections.PathCollection at 0x7f638dda2250>"
      ]
     },
     "execution_count": 21,
     "metadata": {},
     "output_type": "execute_result"
    },
    {
     "data": {
      "image/png": "[encoded data removed]",
      "text/plain": [
       "<Figure size 432x288 with 1 Axes>"
      ]
     },
     "metadata": {
      "needs_background": "light"
     },
     "output_type": "display_data"
    }
   ],
   "source": [
    "plt.scatter(x=np.ravel(h_t_minus1),y=np.ravel(h_t))"
   ]
  },
  {
   "cell_type": "code",
   "execution_count": 15,
   "metadata": {},
   "outputs": [],
   "source": [
    "# need to find optimum sigma and phi values. Model as normally distributed variable h_t, and then maximise loglik\n",
    "\n",
    "def loglik(h_t,h_t_minus1,theta):\n",
    "    tau,rho = theta\n",
    "    sigma = np.exp(tau) # ensures sigma is positive\n",
    "    phi = np.exp(rho) / (1+ np.exp(rho)) #ensures phi is between 0 and 1\n",
    "    lik = norm.pdf(h_t,loc=phi*h_t_minus1,scale=sigma*(1-phi**2)**0.5)\n",
    "    return np.log(lik)"
   ]
  },
  {
   "cell_type": "code",
   "execution_count": 16,
   "metadata": {},
   "outputs": [],
   "source": [
    "initial_guess = [0.7,4]"
   ]
  },
  {
   "cell_type": "code",
   "execution_count": 17,
   "metadata": {
    "scrolled": true
   },
   "outputs": [
    {
     "name": "stdout",
     "output_type": "stream",
     "text": [
      "Optimization terminated successfully.\n",
      "         Current function value: 1057200.577661\n",
      "         Iterations: 33\n",
      "         Function evaluations: 66\n"
     ]
    }
   ],
   "source": [
    "theta_mle = scipy.optimize.fmin(lambda theta: -np.sum(loglik(h_t,h_t_minus1,theta)), initial_guess, maxiter=5000)"
   ]
  },
  {
   "cell_type": "code",
   "execution_count": 18,
   "metadata": {},
   "outputs": [
    {
     "data": {
      "text/plain": [
       "array([0.69118557, 4.2303411 ])"
      ]
     },
     "execution_count": 18,
     "metadata": {},
     "output_type": "execute_result"
    }
   ],
   "source": [
    "theta_mle"
   ]
  },
  {
   "cell_type": "code",
   "execution_count": 19,
   "metadata": {},
   "outputs": [
    {
     "data": {
      "text/plain": [
       "0.9856611655437044"
      ]
     },
     "execution_count": 19,
     "metadata": {},
     "output_type": "execute_result"
    }
   ],
   "source": [
    "phi = np.exp(theta_mle[1]) / (1+np.exp(theta_mle[1]))\n",
    "phi"
   ]
  },
  {
   "cell_type": "code",
   "execution_count": 20,
   "metadata": {},
   "outputs": [
    {
     "data": {
      "text/plain": [
       "1.996080629655475"
      ]
     },
     "execution_count": 20,
     "metadata": {},
     "output_type": "execute_result"
    }
   ],
   "source": [
    "sigma = np.exp(theta_mle[0])\n",
    "sigma"
   ]
  },
  {
   "cell_type": "markdown",
   "metadata": {},
   "source": [
    "# 2: Evaluate hold-out data log-likelihood #"
   ]
  },
  {
   "cell_type": "code",
   "execution_count": 12,
   "metadata": {},
   "outputs": [],
   "source": [
    "def _rhs_X_dt(X, F,U,dt=0.005):\n",
    "    \"\"\"Compute the right hand side of the X-ODE.\"\"\"\n",
    "\n",
    "    dXdt = (-np.roll(X, 1,axis=1) * (np.roll(X, 2,axis=1) - np.roll(X, -1,axis=1)) -\n",
    "                X + F - U)\n",
    "\n",
    "    return dt * dXdt \n",
    "\n",
    "\n",
    "def U(Xt,Xt_1,F,dt=0.005):\n",
    "    k1_X = _rhs_X_dt(Xt,F,U=0)\n",
    "    k2_X = _rhs_X_dt(Xt + k1_X / 2,F, U=0)\n",
    "    Xt_1_pred = k2_X + Xt \n",
    "    #print(Xt_1_pred)\n",
    "    Ut = (Xt_1_pred - Xt_1 )/dt\n",
    "\n",
    "    return Ut\n",
    "\n",
    "\n",
    "def avg_loglikelihood_proper_generation_method(climate_eval_dataset,F,sigma=1.99608,phi=0.98566,dt=0.005):\n",
    "    \"\"\"Shape of climate_eval_dataset is num_steps x k x 2\"\"\"\n",
    "    \n",
    "    data = climate_eval_dataset[:,:,0] #so we get num_steps x k shape\n",
    "    \n",
    "    #we now need to work out the actual epsilon from each step\n",
    "    \n",
    "    u_t = U(data[:-1,:],data[1:,:],F)    \n",
    "    X_poly = poly.fit_transform(data[:-1,:].reshape(-1,1))\n",
    "    U_d = reg.predict(X_poly).reshape(-1,k)\n",
    "    h_t = u_t - U_d\n",
    "    \n",
    "    #likelihood calculations \n",
    "    \n",
    "    #other terms\n",
    "    h_time_plus_one = h_t[1:,:]\n",
    "    h_time = h_t[:-1,:]\n",
    "    \n",
    "    term1 = norm.logpdf(h_time[:1,:],loc=0,scale=sigma) -np.log(dt) #scaling factor\n",
    "    \n",
    "    loglik_rest = norm.logpdf(h_time_plus_one,loc=phi*h_time,scale=sigma*(1-phi**2)**0.5) -np.log(dt) #scaling factor\n",
    "    \n",
    "    loglik_full = np.concatenate([term1,loglik_rest],axis=0)\n",
    "    \n",
    "    #combine\n",
    "    return np.mean(loglik_full)\n",
    "\n",
    "    "
   ]
  },
  {
   "cell_type": "markdown",
   "metadata": {},
   "source": [
    "## F = 20 ##"
   ]
  },
  {
   "cell_type": "code",
   "execution_count": 13,
   "metadata": {},
   "outputs": [],
   "source": [
    "test_set = np.load(\"../../data/truth_run/climate_eval_dataset.npy\")"
   ]
  },
  {
   "cell_type": "code",
   "execution_count": 14,
   "metadata": {},
   "outputs": [
    {
     "data": {
      "text/plain": [
       "(2000001, 8, 2)"
      ]
     },
     "execution_count": 14,
     "metadata": {},
     "output_type": "execute_result"
    }
   ],
   "source": [
    "test_set.shape"
   ]
  },
  {
   "cell_type": "code",
   "execution_count": 19,
   "metadata": {},
   "outputs": [
    {
     "data": {
      "text/plain": [
       "4.976354044985707"
      ]
     },
     "execution_count": 19,
     "metadata": {},
     "output_type": "execute_result"
    }
   ],
   "source": [
    "#10000 MTU\n",
    "avg_loglikelihood_proper_generation_method(test_set,F=20)"
   ]
  },
  {
   "cell_type": "markdown",
   "metadata": {},
   "source": [
    "## F = 23 data ##"
   ]
  },
  {
   "cell_type": "code",
   "execution_count": 20,
   "metadata": {},
   "outputs": [],
   "source": [
    "\n",
    "test_set_23 = np.load(\"../../data/truth_run/climate_change_exp/full_test_set.npy\")"
   ]
  },
  {
   "cell_type": "code",
   "execution_count": 98,
   "metadata": {},
   "outputs": [
    {
     "data": {
      "text/plain": [
       "4.7276309132474985"
      ]
     },
     "execution_count": 98,
     "metadata": {},
     "output_type": "execute_result"
    }
   ],
   "source": [
    "#10000 MTU\n",
    "avg_loglikelihood_proper_generation_method(test_set_23,F=23)"
   ]
  },
  {
   "cell_type": "markdown",
   "metadata": {},
   "source": [
    "## F = 28 data ##"
   ]
  },
  {
   "cell_type": "code",
   "execution_count": 22,
   "metadata": {},
   "outputs": [],
   "source": [
    "\n",
    "test_set_28 = np.load(\"../../data/truth_run/climate_change_exp/full_28_set.npy\")[:int(10000/0.005)]"
   ]
  },
  {
   "cell_type": "code",
   "execution_count": 23,
   "metadata": {},
   "outputs": [
    {
     "data": {
      "text/plain": [
       "4.050082941185682"
      ]
     },
     "execution_count": 23,
     "metadata": {},
     "output_type": "execute_result"
    }
   ],
   "source": [
    "#10000 MTU\n",
    "avg_loglikelihood_proper_generation_method(test_set_28,F=28)"
   ]
  },
  {
   "cell_type": "markdown",
   "metadata": {},
   "source": [
    "# 3: Generate data using this parameterisation #"
   ]
  },
  {
   "cell_type": "markdown",
   "metadata": {},
   "source": [
    "This is done and saved in consecutive chunks for computational reasons (prevent kernel dying)."
   ]
  },
  {
   "cell_type": "code",
   "execution_count": 34,
   "metadata": {},
   "outputs": [],
   "source": [
    "def simulate_polynomial_param(initX,num_steps, sigma = 1.99608,phi =0.98566 ,F=20,dt=0.005):\n",
    "    \n",
    "    \"num steps is #MTU/0.005\"\n",
    "    \n",
    "    def _rhs_X_dt(X, U):\n",
    "        \"\"\"Compute the right hand side of the X-ODE.\"\"\"\n",
    "\n",
    "        dXdt = (-np.roll(X, 1) * (np.roll(X, 2) - np.roll(X, -1)) -\n",
    "                    X + F - U)\n",
    "            \n",
    "        return dt * dXdt \n",
    "    \n",
    "    def sub_grid_u_term(X,array_h):\n",
    "        h_t_minus1 = array_h\n",
    "        X_poly = poly.fit_transform(X.reshape(-1,1))\n",
    "        U_d = reg.predict(X_poly)\n",
    "        z = np.random.normal(size=(k,1))\n",
    "        h_t = phi*h_t_minus1 + sigma*((1-phi**2)**0.5)*z\n",
    "        U_pred = U_d + h_t\n",
    "        return U_pred.reshape(k),h_t\n",
    "    \n",
    "    \n",
    "    def step(X_in,array_h):\n",
    "        \"\"\"Integrate one time step\"\"\"\n",
    "        X = X_in.copy()\n",
    "        k1_X = _rhs_X_dt(X, U=0)\n",
    "        k2_X = _rhs_X_dt(X + k1_X / 2, U=0)\n",
    "\n",
    "        U,h_t = sub_grid_u_term(X,array_h) ######\n",
    "        \n",
    "        X += k2_X\n",
    "        \n",
    "        X += - U * dt\n",
    "        return X,h_t\n",
    "        \n",
    "    \n",
    "    array = np.zeros(shape=(k,num_steps))\n",
    "    array[:,0] = initX\n",
    "    \n",
    "    #array_h = np.zeros(shape=(k,1))\n",
    "    array_h = sigma*np.random.normal(size=(k,1)) \n",
    "    \n",
    "    for i in range(num_steps-1):\n",
    "        X_new, h_new = step(array[:,i],array_h)\n",
    "        array[:,i+1] = X_new\n",
    "        array_h = h_new\n",
    "        \n",
    "    return array\n",
    "\n",
    "# can output last hidden state too to feed into the next arrays"
   ]
  },
  {
   "cell_type": "markdown",
   "metadata": {},
   "source": [
    "The cell below is an example of how data is generated. The actual code used to generate all the data is commented out in the F=20 and F=23 sections below."
   ]
  },
  {
   "cell_type": "code",
   "execution_count": null,
   "metadata": {},
   "outputs": [],
   "source": [
    "#example of generating data \n",
    "\n",
    "x_climate = np.load(\"../../data/truth_run/climate_eval_dataset.npy\")\n",
    "\n",
    "init_X_climate = x_climate[0,:,0]\n",
    "\n",
    "num_steps_climate = int(1/0.005) #1 MTU of data\n",
    "\n",
    "data = simulate_polynomial_param(init_X_climate,num_steps_climate,sigma = 1.99608,phi =0.98566 ,F=20,dt=0.005)"
   ]
  },
  {
   "cell_type": "markdown",
   "metadata": {},
   "source": [
    "## F = 20 ##"
   ]
  },
  {
   "cell_type": "code",
   "execution_count": 23,
   "metadata": {},
   "outputs": [],
   "source": [
    "# x_climate = np.load(\"../../data/truth_run/climate_eval_dataset.npy\")\n",
    "# init_X_climate = x_climate[0,:,0]\n",
    "# num_steps_climate = int(10002/0.005) \n",
    "# x_array_climate = simulate_polynomial_param(init_X_climate,num_steps_climate)\n",
    "# np.save(\"../../data/simulation_runs/polynomial_param/climate_eval_dataset.npy\",x_array_climate)\n",
    "\n",
    "# init_X_extra = x_array_climate[:,-1]\n",
    "# x_array_extra = simulate_polynomial_param(init_X_extra,num_steps_climate)[:,1:]\n",
    "# np.save(\"../../data/simulation_runs/polynomial_param/extra_dataset.npy\",x_array_extra)\n",
    "\n",
    "# init_X_extra2 = x_array_extra[:,-1]\n",
    "# x_array_extra2 = simulate_polynomial_param(init_X_extra2,num_steps_climate)[:,1:]\n",
    "# np.save(\"../../data/simulation_runs/polynomial_param/extra_dataset2.npy\",x_array_extra2)\n",
    "\n",
    "\n",
    "\n",
    "# ##### and so on##############\n"
   ]
  },
  {
   "cell_type": "markdown",
   "metadata": {},
   "source": [
    "## Climate change F = 23 ## "
   ]
  },
  {
   "cell_type": "code",
   "execution_count": 21,
   "metadata": {},
   "outputs": [],
   "source": [
    "# test_set_climate = np.load(\"../../data/truth_run/climate_change_exp/full_test_set.npy\")\n",
    "# init_X_clim_test = test_set_climate[0,:,0]\n",
    "# num_steps_test = int(10002/0.005) #last part is 2MTU burn in \n",
    "\n",
    "# x_array_test = simulate_polynomial_param(init_X_clim_test,num_steps_test,sigma = 1.99608,phi =0.98566 ,F=23,dt=0.005)\n",
    "# np.save(\"../../data/simulation_runs/polynomial_param/climate_change/climate_change_exp_test_f_23.npy\",x_array_test)\n",
    "\n",
    "# init_X_extra = x_array_test[:,-1]\n",
    "# x_array_extra = simulate_polynomial_param(init_X_extra,num_steps_test,sigma = 1.99608,phi =0.98566 ,F=23,dt=0.005)[:,1:]\n",
    "# np.save(\"../../data/simulation_runs/polynomial_param/climate_change/extra_dataset_a.npy\",x_array_extra)\n",
    "\n",
    "# init_X_extra2 = x_array_extra[:,-1]\n",
    "# x_array_extra2 = simulate_polynomial_param(init_X_extra2,num_steps_test,sigma = 1.99608,phi =0.98566 ,F=23,dt=0.005)[:,1:]\n",
    "# np.save(\"../../data/simulation_runs/polynomial_param/climate_change/extra_dataset2_a.npy\",x_array_extra2)\n",
    "\n",
    "# ######### and so on ##########\n"
   ]
  },
  {
   "cell_type": "markdown",
   "metadata": {},
   "source": [
    "## Weather analysis ##"
   ]
  },
  {
   "cell_type": "code",
   "execution_count": 31,
   "metadata": {},
   "outputs": [],
   "source": [
    "truth_weather = np.load(\"../../data/truth_run/weather_experiments/weather_array_longer.npy\")"
   ]
  },
  {
   "cell_type": "code",
   "execution_count": 32,
   "metadata": {},
   "outputs": [],
   "source": [
    "truth_weather_init_conditions = truth_weather[:,0,:]\n",
    "num_init_conds = truth_weather.shape[0]\n",
    "length_simulations = truth_weather.shape[1]\n",
    "num_ensemble_members = 40"
   ]
  },
  {
   "cell_type": "code",
   "execution_count": 33,
   "metadata": {},
   "outputs": [],
   "source": [
    "def simulate_polynomial_param_weather(starting_condition,num_steps,num_ensemble_members=40,\n",
    "                                      sigma = 1.99608,phi =0.98566 ,F=20,dt=0.005):\n",
    "    \n",
    "    \n",
    "    def _rhs_X_dt(X, U):\n",
    "        \"\"\"Compute the right hand side of the X-ODE.\"\"\"\n",
    "\n",
    "        dXdt = (-np.roll(X, 1,axis=1) * (np.roll(X, 2,axis=1) - np.roll(X, -1,axis=1)) -\n",
    "                    X + F - U)\n",
    "            \n",
    "        return dt * dXdt \n",
    "    \n",
    "    def sub_grid_u_term(X,array_h):\n",
    "        h_t_minus1 = array_h\n",
    "        X_poly = poly.fit_transform(X.reshape(-1,1))\n",
    "        U_d = reg.predict(X_poly).reshape(-1,k)\n",
    "        z = np.random.normal(size=(length,k))\n",
    "        U_pred = U_d + h_t_minus1\n",
    "        h_t = phi*h_t_minus1 + sigma*((1-phi**2)**0.5)*z\n",
    "        return U_pred,h_t\n",
    "    \n",
    "    \n",
    "    def step(X_in,array_h):\n",
    "        \"\"\"Integrate one time step\"\"\"\n",
    "        X = X_in.copy()\n",
    "        k1_X = _rhs_X_dt(X, U=0)\n",
    "        k2_X = _rhs_X_dt(X + k1_X / 2, U=0)\n",
    "\n",
    "        U,h_t = sub_grid_u_term(X,array_h) ######\n",
    "        \n",
    "        X += k2_X\n",
    "        \n",
    "        X += - U * dt\n",
    "        return X,h_t\n",
    "        \n",
    "        \n",
    "    #np.random.seed(42)\n",
    "    initX = starting_condition.repeat(num_ensemble_members,axis=0)  \n",
    "    \n",
    "    length = initX.shape[0]\n",
    "    \n",
    "    array = np.zeros(shape=(length,k,num_steps))\n",
    "    array[:,:,0] = initX\n",
    "    \n",
    "    array_h = sigma*np.random.normal(size=(length,k)) \n",
    "    \n",
    "    for i in range(num_steps-1):\n",
    "        print(i)\n",
    "        X_new, h_new = step(array[:,:,i],array_h)\n",
    "        array[:,:,i+1] = X_new\n",
    "        array_h = h_new\n",
    "        \n",
    "    return array.reshape(starting_condition.shape[0],num_ensemble_members,k,num_steps)"
   ]
  },
  {
   "cell_type": "code",
   "execution_count": 29,
   "metadata": {},
   "outputs": [
    {
     "data": {
      "text/plain": [
       "(745, 8)"
      ]
     },
     "execution_count": 29,
     "metadata": {},
     "output_type": "execute_result"
    }
   ],
   "source": [
    "truth_weather_init_conditions.shape"
   ]
  },
  {
   "cell_type": "code",
   "execution_count": 58,
   "metadata": {
    "scrolled": true
   },
   "outputs": [
    {
     "name": "stdout",
     "output_type": "stream",
     "text": [
      "0\n",
      "1\n",
      "2\n",
      "3\n",
      "4\n",
      "5\n",
      "6\n",
      "7\n",
      "8\n",
      "9\n",
      "10\n",
      "11\n",
      "12\n",
      "13\n",
      "14\n",
      "15\n",
      "16\n",
      "17\n",
      "18\n",
      "19\n",
      "20\n",
      "21\n",
      "22\n",
      "23\n",
      "24\n",
      "25\n",
      "26\n",
      "27\n",
      "28\n",
      "29\n",
      "30\n",
      "31\n",
      "32\n",
      "33\n",
      "34\n",
      "35\n",
      "36\n",
      "37\n",
      "38\n",
      "39\n",
      "40\n",
      "41\n",
      "42\n",
      "43\n",
      "44\n",
      "45\n",
      "46\n",
      "47\n",
      "48\n",
      "49\n",
      "50\n",
      "51\n",
      "52\n",
      "53\n",
      "54\n",
      "55\n",
      "56\n",
      "57\n",
      "58\n",
      "59\n",
      "60\n",
      "61\n",
      "62\n",
      "63\n",
      "64\n",
      "65\n",
      "66\n",
      "67\n",
      "68\n",
      "69\n",
      "70\n",
      "71\n",
      "72\n",
      "73\n",
      "74\n",
      "75\n",
      "76\n",
      "77\n",
      "78\n",
      "79\n",
      "80\n",
      "81\n",
      "82\n",
      "83\n",
      "84\n",
      "85\n",
      "86\n",
      "87\n",
      "88\n",
      "89\n",
      "90\n",
      "91\n",
      "92\n",
      "93\n",
      "94\n",
      "95\n",
      "96\n",
      "97\n",
      "98\n",
      "99\n",
      "100\n",
      "101\n",
      "102\n",
      "103\n",
      "104\n",
      "105\n",
      "106\n",
      "107\n",
      "108\n",
      "109\n",
      "110\n",
      "111\n",
      "112\n",
      "113\n",
      "114\n",
      "115\n",
      "116\n",
      "117\n",
      "118\n",
      "119\n",
      "120\n",
      "121\n",
      "122\n",
      "123\n",
      "124\n",
      "125\n",
      "126\n",
      "127\n",
      "128\n",
      "129\n",
      "130\n",
      "131\n",
      "132\n",
      "133\n",
      "134\n",
      "135\n",
      "136\n",
      "137\n",
      "138\n",
      "139\n",
      "140\n",
      "141\n",
      "142\n",
      "143\n",
      "144\n",
      "145\n",
      "146\n",
      "147\n",
      "148\n",
      "149\n",
      "150\n",
      "151\n",
      "152\n",
      "153\n",
      "154\n",
      "155\n",
      "156\n",
      "157\n",
      "158\n",
      "159\n",
      "160\n",
      "161\n",
      "162\n",
      "163\n",
      "164\n",
      "165\n",
      "166\n",
      "167\n",
      "168\n",
      "169\n",
      "170\n",
      "171\n",
      "172\n",
      "173\n",
      "174\n",
      "175\n",
      "176\n",
      "177\n",
      "178\n",
      "179\n",
      "180\n",
      "181\n",
      "182\n",
      "183\n",
      "184\n",
      "185\n",
      "186\n",
      "187\n",
      "188\n",
      "189\n",
      "190\n",
      "191\n",
      "192\n",
      "193\n",
      "194\n",
      "195\n",
      "196\n",
      "197\n",
      "198\n",
      "199\n",
      "200\n",
      "201\n",
      "202\n",
      "203\n",
      "204\n",
      "205\n",
      "206\n",
      "207\n",
      "208\n",
      "209\n",
      "210\n",
      "211\n",
      "212\n",
      "213\n",
      "214\n",
      "215\n",
      "216\n",
      "217\n",
      "218\n",
      "219\n",
      "220\n",
      "221\n",
      "222\n",
      "223\n",
      "224\n",
      "225\n",
      "226\n",
      "227\n",
      "228\n",
      "229\n",
      "230\n",
      "231\n",
      "232\n",
      "233\n",
      "234\n",
      "235\n",
      "236\n",
      "237\n",
      "238\n",
      "239\n",
      "240\n",
      "241\n",
      "242\n",
      "243\n",
      "244\n",
      "245\n",
      "246\n",
      "247\n",
      "248\n",
      "249\n",
      "250\n",
      "251\n",
      "252\n",
      "253\n",
      "254\n",
      "255\n",
      "256\n",
      "257\n",
      "258\n",
      "259\n",
      "260\n",
      "261\n",
      "262\n",
      "263\n",
      "264\n",
      "265\n",
      "266\n",
      "267\n",
      "268\n",
      "269\n",
      "270\n",
      "271\n",
      "272\n",
      "273\n",
      "274\n",
      "275\n",
      "276\n",
      "277\n",
      "278\n",
      "279\n",
      "280\n",
      "281\n",
      "282\n",
      "283\n",
      "284\n",
      "285\n",
      "286\n",
      "287\n",
      "288\n",
      "289\n",
      "290\n",
      "291\n",
      "292\n",
      "293\n",
      "294\n",
      "295\n",
      "296\n",
      "297\n",
      "298\n",
      "299\n",
      "300\n",
      "301\n",
      "302\n",
      "303\n",
      "304\n",
      "305\n",
      "306\n",
      "307\n",
      "308\n",
      "309\n",
      "310\n",
      "311\n",
      "312\n",
      "313\n",
      "314\n",
      "315\n",
      "316\n",
      "317\n",
      "318\n",
      "319\n",
      "320\n",
      "321\n",
      "322\n",
      "323\n",
      "324\n",
      "325\n",
      "326\n",
      "327\n",
      "328\n",
      "329\n",
      "330\n",
      "331\n",
      "332\n",
      "333\n",
      "334\n",
      "335\n",
      "336\n",
      "337\n",
      "338\n",
      "339\n",
      "340\n",
      "341\n",
      "342\n",
      "343\n",
      "344\n",
      "345\n",
      "346\n",
      "347\n",
      "348\n",
      "349\n",
      "350\n",
      "351\n",
      "352\n",
      "353\n",
      "354\n",
      "355\n",
      "356\n",
      "357\n",
      "358\n",
      "359\n",
      "360\n",
      "361\n",
      "362\n",
      "363\n",
      "364\n",
      "365\n",
      "366\n",
      "367\n",
      "368\n",
      "369\n",
      "370\n",
      "371\n",
      "372\n",
      "373\n",
      "374\n",
      "375\n",
      "376\n",
      "377\n",
      "378\n",
      "379\n",
      "380\n",
      "381\n",
      "382\n",
      "383\n",
      "384\n",
      "385\n",
      "386\n",
      "387\n",
      "388\n",
      "389\n",
      "390\n",
      "391\n",
      "392\n",
      "393\n",
      "394\n",
      "395\n",
      "396\n",
      "397\n",
      "398\n",
      "399\n",
      "400\n",
      "401\n",
      "402\n",
      "403\n",
      "404\n",
      "405\n",
      "406\n",
      "407\n",
      "408\n",
      "409\n",
      "410\n",
      "411\n",
      "412\n",
      "413\n",
      "414\n",
      "415\n",
      "416\n",
      "417\n",
      "418\n",
      "419\n",
      "420\n",
      "421\n",
      "422\n",
      "423\n",
      "424\n",
      "425\n",
      "426\n",
      "427\n",
      "428\n",
      "429\n",
      "430\n",
      "431\n",
      "432\n",
      "433\n",
      "434\n",
      "435\n",
      "436\n",
      "437\n",
      "438\n",
      "439\n",
      "440\n",
      "441\n",
      "442\n",
      "443\n",
      "444\n",
      "445\n",
      "446\n",
      "447\n",
      "448\n",
      "449\n",
      "450\n",
      "451\n",
      "452\n",
      "453\n",
      "454\n",
      "455\n",
      "456\n",
      "457\n",
      "458\n",
      "459\n",
      "460\n",
      "461\n",
      "462\n",
      "463\n",
      "464\n",
      "465\n",
      "466\n",
      "467\n",
      "468\n",
      "469\n",
      "470\n",
      "471\n",
      "472\n",
      "473\n",
      "474\n",
      "475\n",
      "476\n",
      "477\n",
      "478\n",
      "479\n",
      "480\n",
      "481\n",
      "482\n",
      "483\n",
      "484\n",
      "485\n",
      "486\n",
      "487\n",
      "488\n",
      "489\n",
      "490\n",
      "491\n",
      "492\n",
      "493\n",
      "494\n",
      "495\n",
      "496\n",
      "497\n",
      "498\n",
      "499\n",
      "500\n",
      "501\n",
      "502\n",
      "503\n",
      "504\n",
      "505\n",
      "506\n",
      "507\n",
      "508\n",
      "509\n",
      "510\n",
      "511\n",
      "512\n",
      "513\n",
      "514\n",
      "515\n",
      "516\n",
      "517\n",
      "518\n",
      "519\n",
      "520\n",
      "521\n",
      "522\n",
      "523\n",
      "524\n",
      "525\n",
      "526\n",
      "527\n",
      "528\n",
      "529\n",
      "530\n",
      "531\n",
      "532\n",
      "533\n",
      "534\n",
      "535\n",
      "536\n",
      "537\n",
      "538\n",
      "539\n",
      "540\n",
      "541\n",
      "542\n",
      "543\n",
      "544\n",
      "545\n",
      "546\n",
      "547\n",
      "548\n",
      "549\n",
      "550\n",
      "551\n",
      "552\n",
      "553\n",
      "554\n",
      "555\n",
      "556\n",
      "557\n",
      "558\n",
      "559\n",
      "560\n",
      "561\n",
      "562\n",
      "563\n",
      "564\n",
      "565\n",
      "566\n",
      "567\n",
      "568\n",
      "569\n",
      "570\n",
      "571\n",
      "572\n",
      "573\n",
      "574\n",
      "575\n",
      "576\n",
      "577\n",
      "578\n",
      "579\n",
      "580\n",
      "581\n",
      "582\n",
      "583\n",
      "584\n",
      "585\n",
      "586\n",
      "587\n",
      "588\n",
      "589\n",
      "590\n",
      "591\n",
      "592\n",
      "593\n",
      "594\n",
      "595\n",
      "596\n",
      "597\n",
      "598\n",
      "599\n",
      "600\n",
      "601\n",
      "602\n",
      "603\n",
      "604\n",
      "605\n",
      "606\n",
      "607\n",
      "608\n",
      "609\n",
      "610\n",
      "611\n",
      "612\n",
      "613\n",
      "614\n",
      "615\n",
      "616\n",
      "617\n",
      "618\n",
      "619\n",
      "620\n",
      "621\n",
      "622\n",
      "623\n",
      "624\n",
      "625\n",
      "626\n",
      "627\n",
      "628\n",
      "629\n",
      "630\n",
      "631\n",
      "632\n",
      "633\n",
      "634\n",
      "635\n",
      "636\n",
      "637\n",
      "638\n",
      "639\n",
      "640\n",
      "641\n",
      "642\n",
      "643\n",
      "644\n",
      "645\n",
      "646\n",
      "647\n",
      "648\n",
      "649\n",
      "650\n",
      "651\n",
      "652\n",
      "653\n",
      "654\n",
      "655\n",
      "656\n",
      "657\n",
      "658\n",
      "659\n",
      "660\n",
      "661\n",
      "662\n",
      "663\n",
      "664\n",
      "665\n",
      "666\n",
      "667\n",
      "668\n",
      "669\n",
      "670\n",
      "671\n",
      "672\n",
      "673\n",
      "674\n",
      "675\n",
      "676\n",
      "677\n",
      "678\n",
      "679\n",
      "680\n",
      "681\n",
      "682\n",
      "683\n",
      "684\n",
      "685\n",
      "686\n",
      "687\n",
      "688\n",
      "689\n",
      "690\n",
      "691\n",
      "692\n",
      "693\n",
      "694\n",
      "695\n",
      "696\n",
      "697\n",
      "698\n"
     ]
    }
   ],
   "source": [
    "array = simulate_polynomial_param_weather(truth_weather_init_conditions,length_simulations)"
   ]
  },
  {
   "cell_type": "code",
   "execution_count": 59,
   "metadata": {},
   "outputs": [],
   "source": [
    "np.save(\"../../data/simulation_runs/polynomial_param/weather_experiments/weather_array_longer.npy\",array)"
   ]
  }
 ],
 "metadata": {
  "kernelspec": {
   "display_name": "Python 3",
   "language": "python",
   "name": "python3"
  },
  "language_info": {
   "codemirror_mode": {
    "name": "ipython",
    "version": 3
   },
   "file_extension": ".py",
   "mimetype": "text/x-python",
   "name": "python",
   "nbconvert_exporter": "python",
   "pygments_lexer": "ipython3",
   "version": "3.8.5"
  }
 },
 "nbformat": 4,
 "nbformat_minor": 4
}
