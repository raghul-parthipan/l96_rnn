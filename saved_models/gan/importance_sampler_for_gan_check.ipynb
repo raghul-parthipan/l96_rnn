{
 "cells": [
  {
   "cell_type": "code",
   "execution_count": 1,
   "metadata": {},
   "outputs": [
    {
     "name": "stdout",
     "output_type": "stream",
     "text": [
      "No GPU was detected. LSTMs and CNNs can be very slow without a GPU.\n"
     ]
    }
   ],
   "source": [
    "import numpy as np\n",
    "import matplotlib.pyplot as plt\n",
    "import sklearn\n",
    "import time\n",
    "from pickle import load\n",
    "import tensorflow as tf\n",
    "from tensorflow import keras\n",
    "if not tf.config.list_physical_devices('GPU'):\n",
    "    print(\"No GPU was detected. LSTMs and CNNs can be very slow without a GPU.\")\n",
    "\n",
    "tf.random.set_seed(42)\n",
    "K = keras.backend\n",
    "\n",
    "from sklearn.preprocessing import StandardScaler,PowerTransformer\n",
    "import math\n",
    "from scipy.stats import multivariate_normal\n",
    "from scipy.stats import norm\n",
    "import os\n",
    "import pandas as pd\n",
    "import pickle\n",
    "from helper import *\n"
   ]
  },
  {
   "cell_type": "code",
   "execution_count": 2,
   "metadata": {},
   "outputs": [],
   "source": [
    "K.set_floatx(\"float32\")"
   ]
  },
  {
   "cell_type": "code",
   "execution_count": 3,
   "metadata": {},
   "outputs": [],
   "source": [
    "k = 8\n",
    "J = 32\n",
    "save_time_step = 0.005\n",
    "h=1 \n",
    "F=20\n",
    "c=10\n",
    "b=10"
   ]
  },
  {
   "cell_type": "markdown",
   "metadata": {},
   "source": [
    "# Prepare data #"
   ]
  },
  {
   "cell_type": "code",
   "execution_count": 4,
   "metadata": {},
   "outputs": [],
   "source": [
    "history_length = 100\n",
    "test_seq_length = 1000"
   ]
  },
  {
   "cell_type": "code",
   "execution_count": 5,
   "metadata": {},
   "outputs": [],
   "source": [
    "#load train, validation and test datasets \n",
    "train_dataset = np.load(\"../../data/truth_run/training_dataset.npy\")\n",
    "valid_dataset = np.load(\"../../data/truth_run/val_dataset.npy\")"
   ]
  },
  {
   "cell_type": "code",
   "execution_count": 6,
   "metadata": {},
   "outputs": [],
   "source": [
    "x_train = train_dataset[:,:,0]\n",
    "x_valid = valid_dataset[:,:,0]"
   ]
  },
  {
   "cell_type": "code",
   "execution_count": 7,
   "metadata": {},
   "outputs": [],
   "source": [
    "##### Functions to work out the exact U for each x #########\n",
    "\n",
    "def _rhs_X_dt(X, U,dt=0.005):\n",
    "    \"\"\"Compute the right hand side of the X-ODE.\"\"\"\n",
    "\n",
    "    dXdt = (-np.roll(X, 1,axis=1) * (np.roll(X, 2,axis=1) - np.roll(X, -1,axis=1)) -\n",
    "                X + F - U)\n",
    "\n",
    "    return dt * dXdt \n",
    "\n",
    "\n",
    "def U(Xt,Xt_1,dt=0.005):\n",
    "    k1_X = _rhs_X_dt(Xt, U=0)\n",
    "    k2_X = _rhs_X_dt(Xt + k1_X / 2, U=0)\n",
    "    Xt_1_pred = k2_X + Xt \n",
    "    #print(Xt_1_pred)\n",
    "    Ut = (Xt_1_pred - Xt_1 )/dt\n",
    "\n",
    "    return Ut"
   ]
  },
  {
   "cell_type": "code",
   "execution_count": 8,
   "metadata": {},
   "outputs": [],
   "source": [
    "u_t = U(x_train[:-1,:],x_train[1:,:])    \n",
    "u_t_valid = U(x_valid[:-1,:],x_valid[1:,:])  "
   ]
  },
  {
   "cell_type": "code",
   "execution_count": 9,
   "metadata": {},
   "outputs": [],
   "source": [
    "training_dataset = np.stack([x_train[:-1],u_t],axis=2)\n",
    "valid_dataset = np.stack([x_valid[:-1],u_t_valid],axis=2)\n"
   ]
  },
  {
   "cell_type": "code",
   "execution_count": 10,
   "metadata": {},
   "outputs": [],
   "source": [
    "def prepare_datasets_for_RNN(dataset,history_length):\n",
    "    max_index = (dataset.shape[0]-1)//history_length\n",
    "    dataset = dataset[:(max_index*history_length +1),:,:] \n",
    "    dataset_shape = dataset.shape[0]\n",
    "    last_elements = dataset[-1,:,:]\n",
    "    remaining_dataset = dataset[:-1,:,:]\n",
    "    reshaped = remaining_dataset.reshape(-1,history_length,k,2)\n",
    "    add_on = reshaped[1:,:1,:,:]\n",
    "    last_elements = last_elements.reshape(1,1,k,2)\n",
    "    add_on_combined = np.concatenate((add_on,last_elements),axis=0)\n",
    "    concat = np.concatenate((reshaped,add_on_combined),axis=1)\n",
    "    concat = concat.transpose((2,0,1,3)).reshape((-1,history_length+1,2),order=\"F\")\n",
    "    return concat.astype(\"float32\")"
   ]
  },
  {
   "cell_type": "code",
   "execution_count": 11,
   "metadata": {},
   "outputs": [],
   "source": [
    "train_nn_features = prepare_datasets_for_RNN(training_dataset,history_length)\n",
    "valid_nn_features = prepare_datasets_for_RNN(valid_dataset,test_seq_length)"
   ]
  },
  {
   "cell_type": "code",
   "execution_count": 12,
   "metadata": {},
   "outputs": [],
   "source": [
    "x_mean = np.mean(train_nn_features[:,:,0])\n",
    "x_std = np.std(train_nn_features[:,:,0])\n",
    "u_mean = np.mean(train_nn_features[:,:,1])\n",
    "u_std = np.std(train_nn_features[:,:,1])"
   ]
  },
  {
   "cell_type": "code",
   "execution_count": 13,
   "metadata": {},
   "outputs": [],
   "source": [
    "#scaling\n",
    "train_nn_features[:,:,0] = (train_nn_features[:,:,0] - x_mean)/x_std\n",
    "train_nn_features[:,:,1] = (train_nn_features[:,:,1] - u_mean)/u_std"
   ]
  },
  {
   "cell_type": "code",
   "execution_count": 14,
   "metadata": {},
   "outputs": [],
   "source": [
    "#scaling\n",
    "valid_nn_features[:,:,0] = (valid_nn_features[:,:,0] - x_mean)/x_std\n",
    "valid_nn_features[:,:,1] = (valid_nn_features[:,:,1] - u_mean)/u_std"
   ]
  },
  {
   "cell_type": "code",
   "execution_count": 15,
   "metadata": {},
   "outputs": [],
   "source": [
    "#train_nn_features_tf = tf.convert_to_tensor(train_nn_features)\n",
    "valid_nn_features_tf = tf.convert_to_tensor(valid_nn_features)"
   ]
  },
  {
   "cell_type": "code",
   "execution_count": 21,
   "metadata": {},
   "outputs": [],
   "source": [
    "@tf.function\n",
    "def sample_from_encoder(xu_seq,encoder,first_encoder,encoder_hidden_state_size,bi_rnn):\n",
    "    \n",
    "    length = xu_seq.shape[1]\n",
    "    batch_shape = xu_seq.shape[0]\n",
    "    \n",
    "    h_sequence = tf.TensorArray(dtype=tf.float32,size=0,dynamic_size=True)\n",
    "    h_mean_out = tf.TensorArray(dtype=tf.float32,size=0,dynamic_size=True)\n",
    "    h_log_var_out = tf.TensorArray(dtype=tf.float32,size=0,dynamic_size=True)\n",
    "    \n",
    "    u_summary = bi_rnn(xu_seq[:,:-1,:])\n",
    "\n",
    "    h_mean1,h_log_var1,h_prev = first_encoder([xu_seq[:,0,0],u_summary[:,0,0]])\n",
    "    h_sequence = h_sequence.write(0,h_prev)\n",
    "    h_mean_out = h_mean_out.write(0,h_mean1)\n",
    "    h_log_var_out = h_log_var_out.write(0,h_log_var1)\n",
    "\n",
    "    \n",
    "    hidden_state_1 = tf.zeros(shape=(batch_shape,encoder_hidden_state_size))\n",
    "    hidden_state_2 = tf.zeros(shape=(batch_shape,encoder_hidden_state_size))    \n",
    "    \n",
    "    for n in tf.range(0,length-2):\n",
    "        h_mean,h_log_var,h_sample,state,state2 = encoder([h_prev,u_summary[:,n+1:n+2,:],xu_seq[:,n+1:n+2,:1],\n",
    "                                                    hidden_state_1,hidden_state_2])\n",
    "        \n",
    "        h_sequence = h_sequence.write(n+1,h_sample)\n",
    "        h_prev = h_sample\n",
    "        h_mean_out = h_mean_out.write(n+1,h_mean)\n",
    "        h_log_var_out = h_log_var_out.write(n+1,h_log_var) \n",
    "        hidden_state_1 = state  \n",
    "        hidden_state_2 = state2     \n",
    "        \n",
    "    h_sequence = h_sequence.stack()        \n",
    "    h_mean_out_enc = h_mean_out.stack()\n",
    "    h_log_var_out = h_log_var_out.stack()\n",
    "    h_sequence = tf.transpose(h_sequence[:,:,0,:],[1,0,2])            \n",
    "    h_mean_out_enc = tf.transpose(h_mean_out_enc[:,:,0,:],[1,0,2])\n",
    "    h_log_var_out = tf.transpose(h_log_var_out[:,:,0,:],[1,0,2])\n",
    "\n",
    "    return h_sequence,h_mean_out_enc,h_log_var_out\n",
    "        "
   ]
  },
  {
   "cell_type": "code",
   "execution_count": 29,
   "metadata": {},
   "outputs": [],
   "source": [
    "sigma_gan = 0.001"
   ]
  },
  {
   "cell_type": "markdown",
   "metadata": {},
   "source": [
    "# Check on importance sampler # "
   ]
  },
  {
   "cell_type": "markdown",
   "metadata": {},
   "source": [
    "This shows what the importance sampler does (encodes x,u to h such that the generator will decode x,h back to u)."
   ]
  },
  {
   "cell_type": "code",
   "execution_count": null,
   "metadata": {},
   "outputs": [],
   "source": [
    "generator = keras.models.load_model(\"gan_generator_final.h5\")\n",
    "\n",
    "codings_size = 1 + 1 + 2*16"
   ]
  },
  {
   "cell_type": "code",
   "execution_count": 33,
   "metadata": {},
   "outputs": [
    {
     "name": "stdout",
     "output_type": "stream",
     "text": [
      "WARNING:tensorflow:No training configuration found in the save file, so the model was *not* compiled. Compile it manually.\n",
      "WARNING:tensorflow:No training configuration found in the save file, so the model was *not* compiled. Compile it manually.\n",
      "WARNING:tensorflow:No training configuration found in the save file, so the model was *not* compiled. Compile it manually.\n"
     ]
    }
   ],
   "source": [
    "h_encoder = keras.models.load_model(\"h_encoder_final.h5\",custom_objects={\n",
    "           \"Sampling\":Sampling})\n",
    "bi_rnn = keras.models.load_model(\"bi_rnn_final.h5\")\n",
    "h_encoder_first = keras.models.load_model(\"h_encoder_first_final.h5\",custom_objects={\n",
    "           \"Sampling\":Sampling})\n"
   ]
  },
  {
   "cell_type": "code",
   "execution_count": 34,
   "metadata": {},
   "outputs": [],
   "source": [
    "#encode seq\n",
    "\n",
    "seq_to_test = train_nn_features[11:12,:,:]\n",
    "\n",
    "h_sequence,h_mean_out_enc,h_log_var_out = sample_from_encoder(seq_to_test,h_encoder,h_encoder_first,\n",
    "                                                    encoder_hidden_state_size,bi_rnn)\n"
   ]
  },
  {
   "cell_type": "code",
   "execution_count": 35,
   "metadata": {},
   "outputs": [],
   "source": [
    "x_array =  seq_to_test[:,:-1,:1]\n",
    "x_array_reshape = tf.reshape(x_array,(-1,1))\n",
    "h_encoding_reshape = tf.reshape(h_mean_out_enc,(-1,h_shape))"
   ]
  },
  {
   "cell_type": "code",
   "execution_count": 36,
   "metadata": {},
   "outputs": [],
   "source": [
    "#decode the mean\n",
    "decoded_mean_u = generator([x_array_reshape,h_encoding_reshape])\n",
    "\n"
   ]
  },
  {
   "cell_type": "code",
   "execution_count": 37,
   "metadata": {
    "scrolled": true
   },
   "outputs": [
    {
     "data": {
      "text/plain": [
       "<matplotlib.collections.PathCollection at 0x7f107c14b1c0>"
      ]
     },
     "execution_count": 37,
     "metadata": {},
     "output_type": "execute_result"
    },
    {
     "data": {
      "image/png": "[encoded data removed]",
      "text/plain": [
       "<Figure size 432x288 with 1 Axes>"
      ]
     },
     "metadata": {
      "needs_background": "light"
     },
     "output_type": "display_data"
    }
   ],
   "source": [
    "#plot of u_true against time \n",
    "plt.scatter(y=np.ravel(seq_to_test[:,:-1,1:]),x=np.linspace(0,1,100))"
   ]
  },
  {
   "cell_type": "code",
   "execution_count": 38,
   "metadata": {},
   "outputs": [
    {
     "data": {
      "text/plain": [
       "<matplotlib.collections.PathCollection at 0x7f107c29ec70>"
      ]
     },
     "execution_count": 38,
     "metadata": {},
     "output_type": "execute_result"
    },
    {
     "data": {
      "image/png": "[encoded data removed]",
      "text/plain": [
       "<Figure size 432x288 with 1 Axes>"
      ]
     },
     "metadata": {
      "needs_background": "light"
     },
     "output_type": "display_data"
    }
   ],
   "source": [
    "#plot of u against time after x and u summary have been encoded and then decoded using the gan. Good match to above. \n",
    "#The encoding models have carried out learning.\n",
    "plt.scatter(y=np.ravel(decoded_mean_u),x=np.linspace(0,1,100))"
   ]
  }
 ],
 "metadata": {
  "kernelspec": {
   "display_name": "Python 3",
   "language": "python",
   "name": "python3"
  },
  "language_info": {
   "codemirror_mode": {
    "name": "ipython",
    "version": 3
   },
   "file_extension": ".py",
   "mimetype": "text/x-python",
   "name": "python",
   "nbconvert_exporter": "python",
   "pygments_lexer": "ipython3",
   "version": "3.8.5"
  }
 },
 "nbformat": 4,
 "nbformat_minor": 2
}
