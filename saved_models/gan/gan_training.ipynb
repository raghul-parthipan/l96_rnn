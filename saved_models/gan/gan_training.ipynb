{
 "cells": [
  {
   "cell_type": "markdown",
   "metadata": {},
   "source": [
    "These cells can be run in order to train the model.\n",
    "\n",
    "Some comments in below cells refer to files in the Gagne github (https://github.com/djgagne/lorenz_gan). "
   ]
  },
  {
   "cell_type": "code",
   "execution_count": 2,
   "metadata": {},
   "outputs": [
    {
     "name": "stdout",
     "output_type": "stream",
     "text": [
      "No GPU was detected. LSTMs and CNNs can be very slow without a GPU.\n"
     ]
    }
   ],
   "source": [
    "import numpy as np\n",
    "import matplotlib.pyplot as plt\n",
    "import sklearn\n",
    "import time\n",
    "from pickle import load\n",
    "import tensorflow as tf\n",
    "from tensorflow import keras\n",
    "if not tf.config.list_physical_devices('GPU'):\n",
    "    print(\"No GPU was detected. LSTMs and CNNs can be very slow without a GPU.\")\n",
    "\n",
    "tf.random.set_seed(42)\n",
    "K = keras.backend\n",
    "\n",
    "from sklearn.preprocessing import StandardScaler,PowerTransformer\n",
    "import math\n",
    "from scipy.stats import multivariate_normal\n",
    "from scipy.stats import norm\n",
    "import os\n",
    "import pandas as pd\n",
    "import pickle\n",
    "from helper import *\n",
    "\n",
    "\n",
    "import scipy.optimize\n"
   ]
  },
  {
   "cell_type": "markdown",
   "metadata": {},
   "source": [
    "Run the below cell if using a GPU."
   ]
  },
  {
   "cell_type": "code",
   "execution_count": null,
   "metadata": {},
   "outputs": [],
   "source": [
    "#using laptop gpu\n",
    "physical_devices = tf.config.list_physical_devices('GPU')\n",
    "tf.config.experimental.set_memory_growth(physical_devices[0], enable=True)"
   ]
  },
  {
   "cell_type": "code",
   "execution_count": 8,
   "metadata": {},
   "outputs": [],
   "source": [
    "k = 8\n",
    "J = 32\n",
    "save_time_step = 0.005\n",
    "h=1 \n",
    "c=10\n",
    "b=10\n",
    "F=20"
   ]
  },
  {
   "cell_type": "markdown",
   "metadata": {},
   "source": [
    "# Prepare data #"
   ]
  },
  {
   "cell_type": "code",
   "execution_count": 9,
   "metadata": {},
   "outputs": [],
   "source": [
    "train_dataset = np.load(\"../../data/truth_run/training_dataset.npy\")\n",
    "valid_dataset = np.load(\"../../data/truth_run/val_dataset.npy\")"
   ]
  },
  {
   "cell_type": "code",
   "execution_count": 10,
   "metadata": {},
   "outputs": [],
   "source": [
    "x_train = train_dataset[:,:,0]"
   ]
  },
  {
   "cell_type": "code",
   "execution_count": 11,
   "metadata": {},
   "outputs": [],
   "source": [
    "u_t = -np.roll(x_train[:-1,:],1,axis=1) * (np.roll(x_train[:-1,:],2,axis=1) - np.roll(x_train[:-1,:],-1,axis=1)) - x_train[:-1,:] + F -(x_train[1:,:] - x_train[:-1,:])/save_time_step"
   ]
  },
  {
   "cell_type": "code",
   "execution_count": 13,
   "metadata": {},
   "outputs": [],
   "source": [
    "x_t_ravel = np.ravel(x_train[:-1,:]).reshape(-1,1)\n",
    "u_t_ravel = np.ravel(u_t).reshape(-1,1)"
   ]
  },
  {
   "cell_type": "code",
   "execution_count": 14,
   "metadata": {},
   "outputs": [],
   "source": [
    "from sklearn.preprocessing import StandardScaler"
   ]
  },
  {
   "cell_type": "code",
   "execution_count": 15,
   "metadata": {},
   "outputs": [],
   "source": [
    "scaler1 = StandardScaler()\n",
    "scaler2 = StandardScaler()"
   ]
  },
  {
   "cell_type": "code",
   "execution_count": 16,
   "metadata": {},
   "outputs": [],
   "source": [
    "x_t_scaled = scaler1.fit_transform(x_t_ravel)\n",
    "u_t_scaled = scaler2.fit_transform(u_t_ravel)"
   ]
  },
  {
   "cell_type": "markdown",
   "metadata": {},
   "source": [
    "# Model # "
   ]
  },
  {
   "cell_type": "markdown",
   "metadata": {},
   "source": [
    "## x-sml-r ##"
   ]
  },
  {
   "cell_type": "code",
   "execution_count": 17,
   "metadata": {},
   "outputs": [],
   "source": [
    "\"\"\"\n",
    "Generator.\n",
    "\n",
    "Called \"generator_dense_stoch\" in the gagne github. The relevant files are:\n",
    "train_loren_gan.py - def train_lorenz_gan\n",
    "The config file used is lorenz_gan_travis.yaml\n",
    "gan structure is \"specified random\" which from the \"def train_lorenz_gan\" means generator is the generator_dense_stoch \n",
    "and discriminator is discriminator_dense, both of which are specified in gan.py (the model layers are specified) as\n",
    "separate functions\n",
    "\"\"\"\n",
    "\n",
    "codings_size = 1 + 1 + 2*16\n",
    "noise_sd_training = 0.01\n",
    "\n",
    "x_in = keras.layers.Input(shape=[1])\n",
    "z_in = keras.layers.Input(shape=[codings_size])\n",
    "\n",
    "z_in_input = z_in[:,:1]\n",
    "z_in_add_input = z_in[:,1:2]\n",
    "z_in_dense1 = z_in[:,2:2+16]\n",
    "z_in_dense2 = z_in[:,-16:]\n",
    "\n",
    "z_in_add_input_scaled = z_in_add_input*noise_sd_training\n",
    "z_in_dense1_scaled = z_in_dense1*noise_sd_training\n",
    "z_in_dense2_scaled = z_in_dense2*noise_sd_training\n",
    "\n",
    "noisy_x = x_in + z_in_add_input_scaled\n",
    "concat = keras.layers.Concatenate()([noisy_x,z_in_input])\n",
    "\n",
    "layer1 = keras.layers.Dense(16,activation=\"selu\",kernel_regularizer=keras.regularizers.l2(0.001))(concat)\n",
    "layer1_noise = layer1 + z_in_dense1_scaled\n",
    "\n",
    "layer2 = keras.layers.Dense(16,activation=\"selu\",kernel_regularizer=keras.regularizers.l2(0.001))(layer1_noise)\n",
    "layer2_noise = layer2 + z_in_dense2_scaled\n",
    "\n",
    "final = keras.layers.Dense(1,kernel_regularizer=keras.regularizers.l2(0.001))(layer2_noise)\n",
    "final_normalised = keras.layers.BatchNormalization()(final)\n",
    "\n",
    "generator = keras.models.Model(inputs=[x_in,z_in],outputs=[final_normalised])  "
   ]
  },
  {
   "cell_type": "code",
   "execution_count": 18,
   "metadata": {},
   "outputs": [],
   "source": [
    "\"\"\"\n",
    "Discriminator.\n",
    "\n",
    "Called \"discriminator_dense\" in Gagne github. See notes from generator above.\n",
    "\"\"\"\n",
    "\n",
    "u_in = keras.layers.Input(shape=[1])\n",
    "x_in = keras.layers.Input(shape=[1])\n",
    "concat = keras.layers.Concatenate()([x_in,u_in])\n",
    "add_noise_1 = keras.layers.GaussianNoise(noise_sd_training)(concat) #these noise layers are only used in training\n",
    "layer1 = keras.layers.Dense(16,activation=\"selu\",kernel_regularizer=keras.regularizers.l2(0.001))(add_noise_1)\n",
    "add_noise_2 = keras.layers.GaussianNoise(noise_sd_training)(layer1)\n",
    "layer2 = keras.layers.Dense(16,activation=\"selu\",kernel_regularizer=keras.regularizers.l2(0.001))(add_noise_2)\n",
    "final = keras.layers.Dense(1,activation=\"sigmoid\",kernel_regularizer=keras.regularizers.l2(0.001))(layer2)\n",
    "\n",
    "discriminator = keras.models.Model(inputs=[x_in,u_in],outputs=[final])\n"
   ]
  },
  {
   "cell_type": "code",
   "execution_count": 19,
   "metadata": {},
   "outputs": [],
   "source": [
    "#important to include this epsilon to prevent overflow and nans.\n",
    "def discriminator_loss(real_data,fake_data):\n",
    "    epsilon = 1e-7\n",
    "    epsilon_ = tf.constant(epsilon)\n",
    "    real_data_pred = tf.clip_by_value(discriminator(real_data),epsilon_,1. - epsilon_)\n",
    "    term1 = 0.5*(K.log(real_data_pred + epsilon_))\n",
    "    fake_data_pred = tf.clip_by_value(discriminator(fake_data),epsilon_,1. - epsilon_)\n",
    "    term2 = 0.5*(K.log(1.-fake_data_pred+ epsilon_))\n",
    "    loglik = term1+term2\n",
    "    loss = -tf.reduce_mean(loglik)\n",
    "    return loss\n",
    "\n",
    "#non saturating \n",
    "def generator_loss(fake_data):\n",
    "    epsilon = 1e-7\n",
    "    epsilon_ = tf.constant(epsilon)   \n",
    "    fake_data_pred = tf.clip_by_value(discriminator(fake_data),epsilon_,1. - epsilon_)\n",
    "    term = 0.5*(K.log(fake_data_pred + epsilon_))\n",
    "    loss = -tf.reduce_mean(term)\n",
    "    return loss"
   ]
  },
  {
   "cell_type": "code",
   "execution_count": 20,
   "metadata": {},
   "outputs": [],
   "source": [
    "d_optimizer=tf.keras.optimizers.Adam(learning_rate=0.0001)\n",
    "g_optimizer = tf.keras.optimizers.Adam(learning_rate=0.0001)\n",
    "\n",
    "@tf.function\n",
    "def disc_step(real_data,fake_data):\n",
    "    \"\"\"Decorated train_step function which applies a gradient update to the parameters\"\"\"\n",
    "    with tf.GradientTape() as tape:\n",
    "        loss = discriminator_loss(real_data,fake_data)\n",
    "        loss = tf.add_n([loss] + discriminator.losses)\n",
    "    gradients = tape.gradient(loss, discriminator.trainable_variables)\n",
    "    d_optimizer.apply_gradients(zip(gradients, discriminator.trainable_variables))\n",
    "    return loss\n",
    "\n",
    "@tf.function \n",
    "def gen_step(noise,real_data_x):\n",
    "    \"\"\"Decorated train_step function which applies a gradient update to the parameters\"\"\"\n",
    "    with tf.GradientTape() as tape:\n",
    "        fake_u = generator([real_data_x,noise])\n",
    "        fake_data = [real_data_x,fake_u]\n",
    "        loss = generator_loss(fake_data)\n",
    "        loss = tf.add_n([loss] + generator.losses)\n",
    "    gradients = tape.gradient(loss, generator.trainable_variables)\n",
    "    g_optimizer.apply_gradients(zip(gradients, generator.trainable_variables))\n",
    "    return loss"
   ]
  },
  {
   "cell_type": "code",
   "execution_count": 21,
   "metadata": {},
   "outputs": [],
   "source": [
    "def create_batch(input_list, batch_s=32):\n",
    "    \n",
    "    batch_list = []\n",
    "    shape_label = input_list[0].shape[0]\n",
    "    batch_idx_la = np.random.choice(list(range(shape_label)), batch_s)\n",
    "    for i in input_list: \n",
    "        batch_item = (i[batch_idx_la,])\n",
    "        batch_list.append(batch_item)\n",
    "    \n",
    "    del batch_idx_la\n",
    "            \n",
    "    return batch_list\n",
    "\n",
    "def list_average(list_of_loss):\n",
    "    return sum(list_of_loss)/len(list_of_loss)"
   ]
  },
  {
   "cell_type": "code",
   "execution_count": 22,
   "metadata": {},
   "outputs": [],
   "source": [
    "input_dataset = [x_t_scaled,u_t_scaled]"
   ]
  },
  {
   "cell_type": "code",
   "execution_count": 34,
   "metadata": {},
   "outputs": [],
   "source": [
    "def fit_model(input_list,epochs,\n",
    "              batch_size=1024):\n",
    "    \n",
    "    K.clear_session()    \n",
    "    batches_per_epoch = int(np.floor(input_list[0].shape[0]/batch_size))\n",
    "    gen_batch_loss = []\n",
    "    gen_history_full = []   \n",
    "    half_batch = int(batch_size/2)\n",
    "    for epoch in range(epochs):\n",
    "            print(\"Epoch {}/{}\".format(epoch+1,epochs))\n",
    "\n",
    "            for i in range(batches_per_epoch):\n",
    "\n",
    "                batch_list= create_batch(\n",
    "                    input_list,batch_size)\n",
    "                x_real = batch_list[0][:half_batch]\n",
    "                u_real = batch_list[1][:half_batch]\n",
    "                real_data = [x_real,u_real]                    \n",
    "                random_noise = tf.random.normal(shape=(half_batch,codings_size))\n",
    "                x_real_2 = batch_list[0][half_batch:]\n",
    "                u_fake = generator([x_real_2,random_noise])\n",
    "                fake_data = [x_real_2,u_fake]\n",
    "                loss = disc_step(real_data,fake_data)\n",
    "\n",
    "                batch_list= create_batch(\n",
    "                    input_list,batch_size)\n",
    "                random_noise = tf.random.normal(shape=(batch_size,codings_size))\n",
    "                x_real = batch_list[0]\n",
    "                loss = gen_step(random_noise,x_real)\n",
    "                gen_batch_loss.append(loss)\n",
    "                gen_average_batch_loss = list_average(gen_batch_loss)\n",
    "\n",
    "            gen_batch_loss = []\n",
    "            gen_history_full.append(gen_average_batch_loss)\n",
    "\n",
    "            generator.save(\"test_generator.h5\")\n",
    "            discriminator.save(\"test_discriminator.h5\")\n",
    "\n",
    "    plt.plot(gen_history_full,label=\"gen_training_loss\",color='g')\n"
   ]
  },
  {
   "cell_type": "markdown",
   "metadata": {},
   "source": [
    "# Training #"
   ]
  },
  {
   "cell_type": "code",
   "execution_count": 21,
   "metadata": {
    "scrolled": true
   },
   "outputs": [
    {
     "name": "stdout",
     "output_type": "stream",
     "text": [
      "Epoch 1/20\n",
      "Epoch 2/20\n",
      "Epoch 3/20\n",
      "Epoch 4/20\n",
      "Epoch 5/20\n",
      "Epoch 6/20\n",
      "Epoch 7/20\n",
      "Epoch 8/20\n",
      "Epoch 9/20\n",
      "Epoch 10/20\n",
      "Epoch 11/20\n",
      "Epoch 12/20\n",
      "Epoch 13/20\n",
      "Epoch 14/20\n",
      "Epoch 15/20\n",
      "Epoch 16/20\n",
      "Epoch 17/20\n",
      "Epoch 18/20\n",
      "Epoch 19/20\n",
      "Epoch 20/20\n"
     ]
    },
    {
     "data": {
      "image/png": "[encoded data removed]",
      "text/plain": [
       "<Figure size 432x288 with 1 Axes>"
      ]
     },
     "metadata": {},
     "output_type": "display_data"
    }
   ],
   "source": [
    "fit_model(input_dataset,20,batch_size=1024)"
   ]
  },
  {
   "cell_type": "code",
   "execution_count": 22,
   "metadata": {},
   "outputs": [],
   "source": [
    "# generator.save(\"gan_generator_updatedv2.h5\")\n",
    "# discriminator.save(\"gan_discriminator_updatedv2.h5\")\n"
   ]
  },
  {
   "cell_type": "code",
   "execution_count": 23,
   "metadata": {},
   "outputs": [
    {
     "name": "stdout",
     "output_type": "stream",
     "text": [
      "Epoch 1/10\n",
      "Epoch 2/10\n",
      "Epoch 3/10\n",
      "Epoch 4/10\n",
      "Epoch 5/10\n",
      "Epoch 6/10\n",
      "Epoch 7/10\n",
      "Epoch 8/10\n",
      "Epoch 9/10\n",
      "Epoch 10/10\n"
     ]
    },
    {
     "data": {
      "image/png": "[encoded data removed]",
      "text/plain": [
       "<Figure size 432x288 with 1 Axes>"
      ]
     },
     "metadata": {},
     "output_type": "display_data"
    }
   ],
   "source": [
    "fit_model(input_dataset,10,batch_size=1024)"
   ]
  },
  {
   "cell_type": "code",
   "execution_count": 24,
   "metadata": {},
   "outputs": [],
   "source": [
    "# save final models #\n",
    "\n",
    "# generator.save(\"gan_generator_final.h5\")\n",
    "# discriminator.save(\"gan_discriminator_final.h5\")\n"
   ]
  },
  {
   "cell_type": "markdown",
   "metadata": {},
   "source": [
    "## AR1 parameters ##"
   ]
  },
  {
   "cell_type": "code",
   "execution_count": 53,
   "metadata": {},
   "outputs": [
    {
     "name": "stdout",
     "output_type": "stream",
     "text": [
      "WARNING:tensorflow:No training configuration found in the save file, so the model was *not* compiled. Compile it manually.\n"
     ]
    }
   ],
   "source": [
    "generator = keras.models.load_model(\"gan_generator_final.h5\")"
   ]
  },
  {
   "cell_type": "code",
   "execution_count": 54,
   "metadata": {},
   "outputs": [],
   "source": [
    "input_dataset3 = [x_t_scaled,np.random.normal(size=(x_t_scaled.shape[0],codings_size))]"
   ]
  },
  {
   "cell_type": "code",
   "execution_count": 55,
   "metadata": {},
   "outputs": [],
   "source": [
    "u_t_pred = generator(input_dataset3)"
   ]
  },
  {
   "cell_type": "code",
   "execution_count": 56,
   "metadata": {},
   "outputs": [],
   "source": [
    "u_t_pred_unscaled_gagne_gan = scaler2.inverse_transform(u_t_pred)"
   ]
  },
  {
   "cell_type": "code",
   "execution_count": 57,
   "metadata": {},
   "outputs": [],
   "source": [
    "residual = u_t - u_t_pred_unscaled_gagne_gan.reshape(-1,k)"
   ]
  },
  {
   "cell_type": "code",
   "execution_count": 58,
   "metadata": {},
   "outputs": [],
   "source": [
    "residual_shaped = residual.reshape(-1,order=\"f\")\n"
   ]
  },
  {
   "cell_type": "code",
   "execution_count": 59,
   "metadata": {},
   "outputs": [
    {
     "data": {
      "text/plain": [
       "0.7482097450854712"
      ]
     },
     "execution_count": 59,
     "metadata": {},
     "output_type": "execute_result"
    }
   ],
   "source": [
    "phi = np.corrcoef(residual_shaped[:-1],residual_shaped[1:])[1,0]\n",
    "phi"
   ]
  },
  {
   "cell_type": "code",
   "execution_count": 60,
   "metadata": {},
   "outputs": [
    {
     "data": {
      "text/plain": [
       "0.6634622652111679"
      ]
     },
     "execution_count": 60,
     "metadata": {},
     "output_type": "execute_result"
    }
   ],
   "source": [
    "sigma = (1-phi**2)**0.5\n",
    "sigma"
   ]
  }
 ],
 "metadata": {
  "kernelspec": {
   "display_name": "Python 3",
   "language": "python",
   "name": "python3"
  },
  "language_info": {
   "codemirror_mode": {
    "name": "ipython",
    "version": 3
   },
   "file_extension": ".py",
   "mimetype": "text/x-python",
   "name": "python",
   "nbconvert_exporter": "python",
   "pygments_lexer": "ipython3",
   "version": "3.8.5"
  }
 },
 "nbformat": 4,
 "nbformat_minor": 2
}
