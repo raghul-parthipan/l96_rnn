{
 "cells": [
  {
   "cell_type": "markdown",
   "metadata": {},
   "source": [
    "Run cells in order to train importance sampler models."
   ]
  },
  {
   "cell_type": "code",
   "execution_count": 1,
   "metadata": {},
   "outputs": [
    {
     "name": "stdout",
     "output_type": "stream",
     "text": [
      "No GPU was detected. LSTMs and CNNs can be very slow without a GPU.\n"
     ]
    }
   ],
   "source": [
    "import numpy as np\n",
    "import matplotlib.pyplot as plt\n",
    "import sklearn\n",
    "import time\n",
    "from pickle import load\n",
    "import tensorflow as tf\n",
    "from tensorflow import keras\n",
    "if not tf.config.list_physical_devices('GPU'):\n",
    "    print(\"No GPU was detected. LSTMs and CNNs can be very slow without a GPU.\")\n",
    "\n",
    "tf.random.set_seed(42)\n",
    "K = keras.backend\n",
    "\n",
    "from sklearn.preprocessing import StandardScaler,PowerTransformer\n",
    "import math\n",
    "from scipy.stats import multivariate_normal\n",
    "from scipy.stats import norm\n",
    "import os\n",
    "import pandas as pd\n",
    "import pickle\n",
    "from helper import *\n"
   ]
  },
  {
   "cell_type": "code",
   "execution_count": 2,
   "metadata": {},
   "outputs": [],
   "source": [
    "K.set_floatx(\"float32\")"
   ]
  },
  {
   "cell_type": "markdown",
   "metadata": {},
   "source": [
    "Run the below cell if using a GPU."
   ]
  },
  {
   "cell_type": "code",
   "execution_count": null,
   "metadata": {},
   "outputs": [],
   "source": [
    "#using laptop gpu\n",
    "physical_devices = tf.config.list_physical_devices('GPU')\n",
    "tf.config.experimental.set_memory_growth(physical_devices[0], enable=True)"
   ]
  },
  {
   "cell_type": "code",
   "execution_count": 3,
   "metadata": {},
   "outputs": [],
   "source": [
    "k = 8\n",
    "J = 32\n",
    "save_time_step = 0.005\n",
    "h=1 \n",
    "F=20\n",
    "c=10\n",
    "b=10"
   ]
  },
  {
   "cell_type": "markdown",
   "metadata": {},
   "source": [
    "# Prepare data #"
   ]
  },
  {
   "cell_type": "code",
   "execution_count": 4,
   "metadata": {},
   "outputs": [],
   "source": [
    "history_length = 100\n",
    "test_seq_length = 1000"
   ]
  },
  {
   "cell_type": "code",
   "execution_count": 5,
   "metadata": {},
   "outputs": [],
   "source": [
    "#load train, validation and test datasets \n",
    "train_dataset = np.load(\"../../data/truth_run/training_dataset.npy\")\n",
    "valid_dataset = np.load(\"../../data/truth_run/val_dataset.npy\")"
   ]
  },
  {
   "cell_type": "code",
   "execution_count": 6,
   "metadata": {},
   "outputs": [],
   "source": [
    "x_train = train_dataset[:,:,0]\n",
    "x_valid = valid_dataset[:,:,0]"
   ]
  },
  {
   "cell_type": "code",
   "execution_count": 7,
   "metadata": {},
   "outputs": [],
   "source": [
    "##### Functions to work out the exact U for each x #########\n",
    "\n",
    "def _rhs_X_dt(X, U,dt=0.005):\n",
    "    \"\"\"Compute the right hand side of the X-ODE.\"\"\"\n",
    "\n",
    "    dXdt = (-np.roll(X, 1,axis=1) * (np.roll(X, 2,axis=1) - np.roll(X, -1,axis=1)) -\n",
    "                X + F - U)\n",
    "\n",
    "    return dt * dXdt \n",
    "\n",
    "\n",
    "def U(Xt,Xt_1,dt=0.005):\n",
    "    k1_X = _rhs_X_dt(Xt, U=0)\n",
    "    k2_X = _rhs_X_dt(Xt + k1_X / 2, U=0)\n",
    "    Xt_1_pred = k2_X + Xt \n",
    "    #print(Xt_1_pred)\n",
    "    Ut = (Xt_1_pred - Xt_1 )/dt\n",
    "\n",
    "    return Ut"
   ]
  },
  {
   "cell_type": "code",
   "execution_count": 8,
   "metadata": {},
   "outputs": [],
   "source": [
    "u_t = U(x_train[:-1,:],x_train[1:,:])    \n",
    "u_t_valid = U(x_valid[:-1,:],x_valid[1:,:])  "
   ]
  },
  {
   "cell_type": "code",
   "execution_count": 9,
   "metadata": {},
   "outputs": [],
   "source": [
    "training_dataset = np.stack([x_train[:-1],u_t],axis=2)\n",
    "valid_dataset = np.stack([x_valid[:-1],u_t_valid],axis=2)\n"
   ]
  },
  {
   "cell_type": "code",
   "execution_count": 10,
   "metadata": {},
   "outputs": [],
   "source": [
    "def prepare_datasets_for_RNN(dataset,history_length):\n",
    "    max_index = (dataset.shape[0]-1)//history_length\n",
    "    dataset = dataset[:(max_index*history_length +1),:,:] \n",
    "    dataset_shape = dataset.shape[0]\n",
    "    last_elements = dataset[-1,:,:]\n",
    "    remaining_dataset = dataset[:-1,:,:]\n",
    "    reshaped = remaining_dataset.reshape(-1,history_length,k,2)\n",
    "    add_on = reshaped[1:,:1,:,:]\n",
    "    last_elements = last_elements.reshape(1,1,k,2)\n",
    "    add_on_combined = np.concatenate((add_on,last_elements),axis=0)\n",
    "    concat = np.concatenate((reshaped,add_on_combined),axis=1)\n",
    "    concat = concat.transpose((2,0,1,3)).reshape((-1,history_length+1,2),order=\"F\")\n",
    "    return concat.astype(\"float32\")"
   ]
  },
  {
   "cell_type": "code",
   "execution_count": 11,
   "metadata": {},
   "outputs": [],
   "source": [
    "train_nn_features = prepare_datasets_for_RNN(training_dataset,history_length)\n",
    "valid_nn_features = prepare_datasets_for_RNN(valid_dataset,test_seq_length)"
   ]
  },
  {
   "cell_type": "code",
   "execution_count": 12,
   "metadata": {},
   "outputs": [],
   "source": [
    "x_mean = np.mean(train_nn_features[:,:,0])\n",
    "x_std = np.std(train_nn_features[:,:,0])\n",
    "u_mean = np.mean(train_nn_features[:,:,1])\n",
    "u_std = np.std(train_nn_features[:,:,1])"
   ]
  },
  {
   "cell_type": "code",
   "execution_count": 13,
   "metadata": {},
   "outputs": [],
   "source": [
    "#scaling\n",
    "train_nn_features[:,:,0] = (train_nn_features[:,:,0] - x_mean)/x_std\n",
    "train_nn_features[:,:,1] = (train_nn_features[:,:,1] - u_mean)/u_std"
   ]
  },
  {
   "cell_type": "code",
   "execution_count": 14,
   "metadata": {},
   "outputs": [],
   "source": [
    "#scaling\n",
    "valid_nn_features[:,:,0] = (valid_nn_features[:,:,0] - x_mean)/x_std\n",
    "valid_nn_features[:,:,1] = (valid_nn_features[:,:,1] - u_mean)/u_std"
   ]
  },
  {
   "cell_type": "code",
   "execution_count": 15,
   "metadata": {},
   "outputs": [],
   "source": [
    "#train_nn_features_tf = tf.convert_to_tensor(train_nn_features)\n",
    "valid_nn_features_tf = tf.convert_to_tensor(valid_nn_features)"
   ]
  },
  {
   "cell_type": "markdown",
   "metadata": {},
   "source": [
    "# Model #"
   ]
  },
  {
   "cell_type": "code",
   "execution_count": 16,
   "metadata": {},
   "outputs": [],
   "source": [
    "h_shape = 34 # this is gan coding size"
   ]
  },
  {
   "cell_type": "code",
   "execution_count": 17,
   "metadata": {},
   "outputs": [],
   "source": [
    "####################################################\n",
    "############## BIDIRECTIONAL RNN ###################\n",
    "####################################################\n",
    "######to summarise the u sequence ##################\n",
    "\n",
    "hidden_state_size_bi = 32\n",
    "\n",
    "xu_seq = keras.layers.Input(shape=[None,2])\n",
    "\n",
    "layer1 = keras.layers.Bidirectional(keras.layers.GRU(hidden_state_size_bi,return_sequences=True))(inputs=xu_seq)\n",
    "layer2 = keras.layers.Bidirectional(keras.layers.GRU(hidden_state_size_bi,return_sequences=True))(inputs=layer1)\n",
    "layer3 = keras.layers.Bidirectional(keras.layers.GRU(hidden_state_size_bi,return_sequences=True))(inputs=layer2)\n",
    "output = keras.layers.TimeDistributed(keras.layers.Dense(1,bias_initializer=\"zeros\"))(layer3)\n",
    "\n",
    "bi_rnn = keras.models.Model(inputs=xu_seq,outputs=output)\n"
   ]
  },
  {
   "cell_type": "code",
   "execution_count": 18,
   "metadata": {},
   "outputs": [],
   "source": [
    "class Sampling(keras.layers.Layer):\n",
    "    def call(self, inputs):\n",
    "        mean, log_var = inputs\n",
    "        return K.random_normal(tf.shape(log_var)) * K.exp(log_var / 2) + mean\n"
   ]
  },
  {
   "cell_type": "code",
   "execution_count": 19,
   "metadata": {},
   "outputs": [],
   "source": [
    "#########################################################\n",
    "################### H ENCODER ######################\n",
    "#########################################################\n",
    "\n",
    "encoder_hidden_state_size=32\n",
    "\n",
    "u_summary = keras.layers.Input(shape=[None,1])\n",
    "h_prev = keras.layers.Input(shape=[None,h_shape])\n",
    "x_in = keras.layers.Input(shape=[None,1])\n",
    "concat = keras.layers.Concatenate()([h_prev,u_summary,x_in])\n",
    "\n",
    "hidden_state_in = keras.layers.Input(shape=[encoder_hidden_state_size])\n",
    "hidden_state_in_2 = keras.layers.Input(shape=[encoder_hidden_state_size])\n",
    "\n",
    "output,state = keras.layers.GRU(encoder_hidden_state_size,return_sequences=True,return_state=True)(inputs=concat,initial_state=hidden_state_in)\n",
    "output2,state2 = keras.layers.GRU(encoder_hidden_state_size,return_sequences=True,return_state=True)(inputs=output,initial_state=hidden_state_in_2)\n",
    "\n",
    "h_mean = keras.layers.Dense(h_shape)(output2) + h_prev*0.7486\n",
    "h_log_var = keras.layers.Dense(h_shape)(output2)\n",
    "h_sample = Sampling()([h_mean,h_log_var])\n",
    "\n",
    "h_encoder = keras.models.Model(inputs=[h_prev,u_summary,x_in,hidden_state_in,hidden_state_in_2],outputs=[h_mean,h_log_var,h_sample,state,state2])\n"
   ]
  },
  {
   "cell_type": "code",
   "execution_count": 20,
   "metadata": {},
   "outputs": [],
   "source": [
    "#########################################################\n",
    "################### First H step ######################\n",
    "#########################################################\n",
    "\n",
    "u_summary = keras.layers.Input(shape=[1])\n",
    "x_in = keras.layers.Input(shape=[1])\n",
    "\n",
    "concat = keras.layers.Concatenate()([u_summary,x_in])\n",
    "\n",
    "layer1 = keras.layers.Dense(16,activation=\"selu\")(concat)\n",
    "layer2 = keras.layers.Dense(16,activation=\"selu\")(layer1)\n",
    "layer3 = keras.layers.Dense(16,activation=\"selu\")(layer2)\n",
    "\n",
    "\n",
    "h_mean = keras.layers.Dense(h_shape)(layer3) \n",
    "h_log_var = keras.layers.Dense(h_shape)(layer3)\n",
    "\n",
    "h_mean = keras.layers.Reshape([1,h_shape])(h_mean)\n",
    "h_log_var = keras.layers.Reshape([1,h_shape])(h_log_var)\n",
    "h_sample = Sampling()([h_mean,h_log_var])\n",
    "\n",
    "\n",
    "h_encoder_first = keras.models.Model(inputs=[x_in,u_summary],outputs=[h_mean,h_log_var,h_sample])"
   ]
  },
  {
   "cell_type": "code",
   "execution_count": 21,
   "metadata": {},
   "outputs": [],
   "source": [
    "@tf.function\n",
    "def sample_from_encoder(xu_seq,encoder,first_encoder,encoder_hidden_state_size,bi_rnn):\n",
    "    \n",
    "    length = xu_seq.shape[1]\n",
    "    batch_shape = xu_seq.shape[0]\n",
    "    \n",
    "    h_sequence = tf.TensorArray(dtype=tf.float32,size=0,dynamic_size=True)\n",
    "    h_mean_out = tf.TensorArray(dtype=tf.float32,size=0,dynamic_size=True)\n",
    "    h_log_var_out = tf.TensorArray(dtype=tf.float32,size=0,dynamic_size=True)\n",
    "    \n",
    "    u_summary = bi_rnn(xu_seq[:,:-1,:])\n",
    "\n",
    "    h_mean1,h_log_var1,h_prev = first_encoder([xu_seq[:,0,0],u_summary[:,0,0]])\n",
    "    h_sequence = h_sequence.write(0,h_prev)\n",
    "    h_mean_out = h_mean_out.write(0,h_mean1)\n",
    "    h_log_var_out = h_log_var_out.write(0,h_log_var1)\n",
    "\n",
    "    \n",
    "    hidden_state_1 = tf.zeros(shape=(batch_shape,encoder_hidden_state_size))\n",
    "    hidden_state_2 = tf.zeros(shape=(batch_shape,encoder_hidden_state_size))    \n",
    "    \n",
    "    for n in tf.range(0,length-2):\n",
    "        h_mean,h_log_var,h_sample,state,state2 = encoder([h_prev,u_summary[:,n+1:n+2,:],xu_seq[:,n+1:n+2,:1],\n",
    "                                                    hidden_state_1,hidden_state_2])\n",
    "        \n",
    "        h_sequence = h_sequence.write(n+1,h_sample)\n",
    "        h_prev = h_sample\n",
    "        h_mean_out = h_mean_out.write(n+1,h_mean)\n",
    "        h_log_var_out = h_log_var_out.write(n+1,h_log_var) \n",
    "        hidden_state_1 = state  \n",
    "        hidden_state_2 = state2     \n",
    "        \n",
    "    h_sequence = h_sequence.stack()        \n",
    "    h_mean_out_enc = h_mean_out.stack()\n",
    "    h_log_var_out = h_log_var_out.stack()\n",
    "    h_sequence = tf.transpose(h_sequence[:,:,0,:],[1,0,2])            \n",
    "    h_mean_out_enc = tf.transpose(h_mean_out_enc[:,:,0,:],[1,0,2])\n",
    "    h_log_var_out = tf.transpose(h_log_var_out[:,:,0,:],[1,0,2])\n",
    "\n",
    "    return h_sequence,h_mean_out_enc,h_log_var_out\n",
    "        "
   ]
  },
  {
   "cell_type": "code",
   "execution_count": 22,
   "metadata": {},
   "outputs": [
    {
     "name": "stdout",
     "output_type": "stream",
     "text": [
      "WARNING:tensorflow:No training configuration found in the save file, so the model was *not* compiled. Compile it manually.\n"
     ]
    }
   ],
   "source": [
    "generator = keras.models.load_model(\"gan_generator_final.h5\")"
   ]
  },
  {
   "cell_type": "code",
   "execution_count": 23,
   "metadata": {},
   "outputs": [],
   "source": [
    "generator.trainable=False"
   ]
  },
  {
   "cell_type": "code",
   "execution_count": 24,
   "metadata": {},
   "outputs": [],
   "source": [
    "# generator.summary()"
   ]
  },
  {
   "cell_type": "code",
   "execution_count": 25,
   "metadata": {},
   "outputs": [],
   "source": [
    "@tf.function\n",
    "def loglik_gaussian_u_cond_h(xu_seq,h_encoding,sigma):\n",
    "    x_array =  xu_seq[:,:-1,:1]\n",
    "    x_array_reshape = tf.reshape(x_array,(-1,1))\n",
    "    u_array_reshape = tf.reshape(xu_seq[:,:-1,1:2],(-1,1))\n",
    "    h_encoding_reshape = tf.reshape(h_encoding,(-1,h_shape))\n",
    "    mean_u = generator([x_array_reshape,h_encoding_reshape])\n",
    "    term = -K.log((sigma**2) *2*math.pi) - tf.math.divide((u_array_reshape-mean_u),sigma)**2\n",
    "    loglik = 0.5*term\n",
    "    return tf.reduce_mean(loglik) #average over t and k\n",
    "    "
   ]
  },
  {
   "cell_type": "code",
   "execution_count": 26,
   "metadata": {},
   "outputs": [],
   "source": [
    "@tf.function\n",
    "def loglik_gaussian_h_encoder(h_encoding,h_mean,h_logvar):\n",
    "    term1 = -(1/2)*(K.log(2*math.pi) + h_logvar)\n",
    "    term2 = -((h_encoding-h_mean)**2)/(2*K.exp(h_logvar))\n",
    "    loglik = term1+term2\n",
    "    loglik = tf.reduce_sum(loglik,axis=[2]) #sum over the h dimensions \n",
    "    return tf.reduce_mean(loglik) #average over t and k "
   ]
  },
  {
   "cell_type": "code",
   "execution_count": 27,
   "metadata": {},
   "outputs": [],
   "source": [
    "@tf.function\n",
    "def loglik_gaussian_h_gan(h_encoding):\n",
    "    #### term 1 ####\n",
    "    ### h drawn from normal(0,1) ####\n",
    "    term = tf.reduce_sum(0.5*(-K.log((1**2) *2*math.pi) - tf.math.divide((h_encoding[:,:1,:]),1)**2),axis=2) #sum over z dimensions\n",
    "\n",
    "    #### term 2 #####\n",
    "    #### loglik for the rest of the markovian seq ####\n",
    "    array = h_encoding[:,1:,:]\n",
    "    phi = 0.7486\n",
    "    mean = h_encoding[:,:-1,:]*phi\n",
    "    sigma = (1-phi**2)**0.5\n",
    "    \n",
    "    term2 = 0.5*(-K.log((sigma**2) *2*math.pi) - tf.math.divide((array-mean),sigma)**2)\n",
    "    term2 = tf.reduce_sum(term2,axis=[2]) #sum over the h dimensions \n",
    "    \n",
    "    loglik_array = tf.concat([term,term2 ],axis=1)\n",
    "    \n",
    "    loglik = tf.reduce_mean(loglik_array) #average over t and batch_size (i.e. t and k) so that loglik is avg loglik per kt (what I do in other models)\n",
    "                                            \n",
    "    return loglik"
   ]
  },
  {
   "cell_type": "code",
   "execution_count": 28,
   "metadata": {},
   "outputs": [],
   "source": [
    "@tf.function\n",
    "def elbo_loss(loglik_u,loglik_h_gan,loglik_h_encoder):\n",
    "    elbo = loglik_u + loglik_h_gan - loglik_h_encoder\n",
    "    loss = -elbo\n",
    "    return loss"
   ]
  },
  {
   "cell_type": "code",
   "execution_count": 29,
   "metadata": {},
   "outputs": [],
   "source": [
    "sigma_gan = 0.001"
   ]
  },
  {
   "cell_type": "code",
   "execution_count": 30,
   "metadata": {},
   "outputs": [],
   "source": [
    "class elbo_model(keras.models.Model):\n",
    "        \n",
    "    def __init__(self,gan_generator,h_encoder,h_encoder_first,bi_rnn,encoder_hidden_state_size,**kwargs):\n",
    "        super().__init__(**kwargs) \n",
    "        self.gan_generator = gan_generator\n",
    "        self.h_encoder = h_encoder\n",
    "        self.h_encoder_first = h_encoder_first\n",
    "        self.bi_rnn = bi_rnn\n",
    "        self.encoder_hidden_state_size = encoder_hidden_state_size\n",
    "        self.gan_generator.trainable = False\n",
    "    \n",
    "    def call(self,inputs,sigma_gan):\n",
    "        \"\"\"\n",
    "        Inputs is just [training_nn_input] shape batch_size x history_length x 2\n",
    "        \"\"\"\n",
    "        \n",
    "        ##### Sample h sequences #####\n",
    "        \n",
    "        ### only 1 sample taken for importance sampling ###\n",
    "        \n",
    "        h_sequence,h_mean_out_enc,h_log_var_out = sample_from_encoder(inputs,self.h_encoder,self.h_encoder_first,\n",
    "                                                                     self.encoder_hidden_state_size,self.bi_rnn)\n",
    "        \n",
    "        ### compute loglik and loss ###\n",
    "        \n",
    "        loglik_u = loglik_gaussian_u_cond_h(inputs,h_sequence,sigma_gan)\n",
    "        loglik_h_gan = loglik_gaussian_h_gan(h_sequence)\n",
    "        loglik_h_encoder = loglik_gaussian_h_encoder(h_sequence,h_mean_out_enc,h_log_var_out)\n",
    "        loss = elbo_loss(loglik_u,loglik_h_gan,loglik_h_encoder)\n",
    "        \n",
    "        return loss"
   ]
  },
  {
   "cell_type": "code",
   "execution_count": 31,
   "metadata": {},
   "outputs": [],
   "source": [
    "model = elbo_model(gan_generator=generator,h_encoder=h_encoder,h_encoder_first=h_encoder_first,\n",
    "                  bi_rnn=bi_rnn,encoder_hidden_state_size=encoder_hidden_state_size)"
   ]
  },
  {
   "cell_type": "markdown",
   "metadata": {},
   "source": [
    "# Train model #"
   ]
  },
  {
   "cell_type": "code",
   "execution_count": 38,
   "metadata": {},
   "outputs": [],
   "source": [
    "optimizer=keras.optimizers.Adam(learning_rate=0.001)"
   ]
  },
  {
   "cell_type": "code",
   "execution_count": 39,
   "metadata": {},
   "outputs": [],
   "source": [
    "@tf.function\n",
    "def train_step(inputs):\n",
    "    \"\"\"Decorated train_step function which applies a gradient update to the parameters\"\"\"\n",
    "    with tf.GradientTape() as tape:\n",
    "        loss = model(inputs,sigma_gan,training=True)\n",
    "        loss = tf.add_n([loss] + model.losses)\n",
    "    gradients = tape.gradient(loss, model.trainable_variables)\n",
    "    optimizer.apply_gradients(zip(gradients, model.trainable_variables))\n",
    "\n",
    "    return loss\n"
   ]
  },
  {
   "cell_type": "code",
   "execution_count": 40,
   "metadata": {},
   "outputs": [],
   "source": [
    "def create_batch_tf(input_data,batch_s=32):\n",
    "    shape_label = input_data.shape[0]\n",
    "    batch_idx_la = np.random.choice(list(range(shape_label)), batch_s)\n",
    "    batch_item = input_data[batch_idx_la,]\n",
    "    return tf.convert_to_tensor(batch_item)\n",
    "\n",
    "def fit_model(input_list,epochs,model,history,validation_loss,valid_list,batch_size=32):\n",
    "    \n",
    "    start = time.time()\n",
    "    K.clear_session()\n",
    "    batch_loss = []\n",
    "    batches_per_epoch = int(np.floor(input_list.shape[0]/batch_size))\n",
    "    \n",
    "    for epoch in tf.range(epochs):\n",
    "        print(\"Epoch {}/{}\".format(epoch+1,epochs))\n",
    "        \n",
    "        for i in range(batches_per_epoch):\n",
    "\n",
    "            batch_list= create_batch_tf(input_list,batch_size)\n",
    "            loss = train_step(batch_list)\n",
    "            batch_loss.append(loss)\n",
    "            average_batch_loss = list_average(batch_loss)\n",
    "            print_status_bar(i*batch_size,input_list.shape[0],loss)\n",
    "            \n",
    "        training_loss_for_epoch = list_average(batch_loss)\n",
    "        batch_loss = []\n",
    "        history.append(training_loss_for_epoch)\n",
    "        \n",
    "        val_loss = model(valid_list,sigma_gan)\n",
    "        validation_loss.append(val_loss)\n",
    "        \n",
    "        print_status_bar_epoch(input_list.shape[0]\n",
    "                 ,input_list.shape[0],training_loss_for_epoch,val_loss )\n",
    "        \n",
    "        if epoch%3 == 0:\n",
    "\n",
    "            h_encoder.save(\"h_encoder_test.h5\")\n",
    "            bi_rnn.save(\"bi_rnn_test.h5\")\n",
    "            h_encoder_first.save(\"h_encoder_first_test.h5\")\n",
    "\n",
    "            plt.plot(history,label=\"training\")\n",
    "            plt.plot(validation_loss,label=\"validation\")\n",
    "            plt.legend()\n",
    "            plt.show()\n",
    "        \n",
    "    return history, validation_loss"
   ]
  },
  {
   "cell_type": "code",
   "execution_count": 41,
   "metadata": {},
   "outputs": [],
   "source": [
    "tf.config.run_functions_eagerly(False)"
   ]
  },
  {
   "cell_type": "code",
   "execution_count": 42,
   "metadata": {},
   "outputs": [],
   "source": [
    "input_history = []\n",
    "\n",
    "valid_history = []"
   ]
  },
  {
   "cell_type": "code",
   "execution_count": 66,
   "metadata": {
    "scrolled": true
   },
   "outputs": [
    {
     "name": "stdout",
     "output_type": "stream",
     "text": [
      "Epoch 1/25\n",
      "31960/31960 [==============================] - trainLoss: 11560.6963  Val_loss: 506.4492 \n"
     ]
    },
    {
     "data": {
      "image/png": "[encoded data removed]",
      "text/plain": [
       "<Figure size 432x288 with 1 Axes>"
      ]
     },
     "metadata": {},
     "output_type": "display_data"
    },
    {
     "name": "stdout",
     "output_type": "stream",
     "text": [
      "Epoch 2/25\n",
      "31960/31960 [==============================] - trainLoss: 410.3439  Val_loss: 252.3412 \n",
      "Epoch 3/25\n",
      "31960/31960 [==============================] - trainLoss: 229.7653  Val_loss: 154.6894 \n",
      "Epoch 4/25\n",
      "31960/31960 [==============================] - trainLoss: 158.6560  Val_loss: 115.3791 \n"
     ]
    },
    {
     "data": {
      "image/png": "[encoded data removed]",
      "text/plain": [
       "<Figure size 432x288 with 1 Axes>"
      ]
     },
     "metadata": {},
     "output_type": "display_data"
    },
    {
     "name": "stdout",
     "output_type": "stream",
     "text": [
      "Epoch 5/25\n",
      "31960/31960 [==============================] - trainLoss: 127.6525  Val_loss: 98.0121 \n",
      "Epoch 6/25\n",
      "31960/31960 [==============================] - trainLoss: 112.0557  Val_loss: 80.1149 \n",
      "Epoch 7/25\n",
      "31960/31960 [==============================] - trainLoss: 94.1811  Val_loss: 136.7949 \n"
     ]
    },
    {
     "data": {
      "image/png": "[encoded data removed]",
      "text/plain": [
       "<Figure size 432x288 with 1 Axes>"
      ]
     },
     "metadata": {},
     "output_type": "display_data"
    },
    {
     "name": "stdout",
     "output_type": "stream",
     "text": [
      "Epoch 8/25\n",
      "31960/31960 [==============================] - trainLoss: 84.6109  Val_loss: 71.1780 \n",
      "Epoch 9/25\n",
      "31960/31960 [==============================] - trainLoss: 80.0661  Val_loss: 68.1989 \n",
      "Epoch 10/25\n",
      "31960/31960 [==============================] - trainLoss: 70.8862  Val_loss: 57.3498 \n"
     ]
    },
    {
     "data": {
      "image/png": "[encoded data removed]",
      "text/plain": [
       "<Figure size 432x288 with 1 Axes>"
      ]
     },
     "metadata": {},
     "output_type": "display_data"
    },
    {
     "name": "stdout",
     "output_type": "stream",
     "text": [
      "Epoch 11/25\n",
      "31960/31960 [==============================] - trainLoss: 72.2998  Val_loss: 58.6978 \n",
      "Epoch 12/25\n",
      "31960/31960 [==============================] - trainLoss: 69.7865  Val_loss: 52.4342 \n",
      "Epoch 13/25\n",
      "31960/31960 [==============================] - trainLoss: 54.7845  Val_loss: 49.8650 \n"
     ]
    },
    {
     "data": {
      "image/png": "[encoded data removed]",
      "text/plain": [
       "<Figure size 432x288 with 1 Axes>"
      ]
     },
     "metadata": {},
     "output_type": "display_data"
    },
    {
     "name": "stdout",
     "output_type": "stream",
     "text": [
      "Epoch 14/25\n",
      "31960/31960 [==============================] - trainLoss: 60.3476  Val_loss: 46.7356 \n",
      "Epoch 15/25\n",
      "31960/31960 [==============================] - trainLoss: 50.6894  Val_loss: 44.7222 \n",
      "Epoch 16/25\n",
      "31960/31960 [==============================] - trainLoss: 52.7332  Val_loss: 44.4737 \n"
     ]
    },
    {
     "data": {
      "image/png": "[encoded data removed]",
      "text/plain": [
       "<Figure size 432x288 with 1 Axes>"
      ]
     },
     "metadata": {},
     "output_type": "display_data"
    },
    {
     "name": "stdout",
     "output_type": "stream",
     "text": [
      "Epoch 17/25\n",
      "31960/31960 [==============================] - trainLoss: 52.0273  Val_loss: 44.0813 \n",
      "Epoch 18/25\n",
      "31960/31960 [==============================] - trainLoss: 47.1657  Val_loss: 39.2437 \n",
      "Epoch 19/25\n",
      "31960/31960 [==============================] - trainLoss: 42.8903  Val_loss: 37.8396 \n"
     ]
    },
    {
     "data": {
      "image/png": "[encoded data removed]",
      "text/plain": [
       "<Figure size 432x288 with 1 Axes>"
      ]
     },
     "metadata": {},
     "output_type": "display_data"
    },
    {
     "name": "stdout",
     "output_type": "stream",
     "text": [
      "Epoch 20/25\n",
      "31960/31960 [==============================] - trainLoss: 42.7166  Val_loss: 39.0298 \n",
      "Epoch 21/25\n",
      "31960/31960 [==============================] - trainLoss: 42.7827  Val_loss: 33.7131 \n",
      "Epoch 22/25\n",
      "31960/31960 [==============================] - trainLoss: 40.3632  Val_loss: 43.3185 \n"
     ]
    },
    {
     "data": {
      "image/png": "[encoded data removed]",
      "text/plain": [
       "<Figure size 432x288 with 1 Axes>"
      ]
     },
     "metadata": {},
     "output_type": "display_data"
    },
    {
     "name": "stdout",
     "output_type": "stream",
     "text": [
      "Epoch 23/25\n",
      "31960/31960 [==============================] - trainLoss: 41.6379  Val_loss: 32.7627 \n",
      "Epoch 24/25\n",
      "31960/31960 [==============================] - trainLoss: 39.0374  Val_loss: 31.0292 \n",
      "Epoch 25/25\n",
      "31960/31960 [==============================] - trainLoss: 38.3564  Val_loss: 42.2471 \n"
     ]
    },
    {
     "data": {
      "image/png": "[encoded data removed]",
      "text/plain": [
       "<Figure size 432x288 with 1 Axes>"
      ]
     },
     "metadata": {},
     "output_type": "display_data"
    },
    {
     "data": {
      "text/plain": [
       "([<tf.Tensor: shape=(), dtype=float32, numpy=11560.696>,\n",
       "  <tf.Tensor: shape=(), dtype=float32, numpy=410.34393>,\n",
       "  <tf.Tensor: shape=(), dtype=float32, numpy=229.76534>,\n",
       "  <tf.Tensor: shape=(), dtype=float32, numpy=158.65604>,\n",
       "  <tf.Tensor: shape=(), dtype=float32, numpy=127.65246>,\n",
       "  <tf.Tensor: shape=(), dtype=float32, numpy=112.05571>,\n",
       "  <tf.Tensor: shape=(), dtype=float32, numpy=94.18114>,\n",
       "  <tf.Tensor: shape=(), dtype=float32, numpy=84.61087>,\n",
       "  <tf.Tensor: shape=(), dtype=float32, numpy=80.06606>,\n",
       "  <tf.Tensor: shape=(), dtype=float32, numpy=70.88619>,\n",
       "  <tf.Tensor: shape=(), dtype=float32, numpy=72.29978>,\n",
       "  <tf.Tensor: shape=(), dtype=float32, numpy=69.78649>,\n",
       "  <tf.Tensor: shape=(), dtype=float32, numpy=54.78451>,\n",
       "  <tf.Tensor: shape=(), dtype=float32, numpy=60.347633>,\n",
       "  <tf.Tensor: shape=(), dtype=float32, numpy=50.689373>,\n",
       "  <tf.Tensor: shape=(), dtype=float32, numpy=52.733166>,\n",
       "  <tf.Tensor: shape=(), dtype=float32, numpy=52.027325>,\n",
       "  <tf.Tensor: shape=(), dtype=float32, numpy=47.16572>,\n",
       "  <tf.Tensor: shape=(), dtype=float32, numpy=42.890266>,\n",
       "  <tf.Tensor: shape=(), dtype=float32, numpy=42.716618>,\n",
       "  <tf.Tensor: shape=(), dtype=float32, numpy=42.78274>,\n",
       "  <tf.Tensor: shape=(), dtype=float32, numpy=40.36323>,\n",
       "  <tf.Tensor: shape=(), dtype=float32, numpy=41.637897>,\n",
       "  <tf.Tensor: shape=(), dtype=float32, numpy=39.037445>,\n",
       "  <tf.Tensor: shape=(), dtype=float32, numpy=38.356396>],\n",
       " [<tf.Tensor: shape=(), dtype=float32, numpy=506.44922>,\n",
       "  <tf.Tensor: shape=(), dtype=float32, numpy=252.3412>,\n",
       "  <tf.Tensor: shape=(), dtype=float32, numpy=154.68942>,\n",
       "  <tf.Tensor: shape=(), dtype=float32, numpy=115.3791>,\n",
       "  <tf.Tensor: shape=(), dtype=float32, numpy=98.01208>,\n",
       "  <tf.Tensor: shape=(), dtype=float32, numpy=80.11485>,\n",
       "  <tf.Tensor: shape=(), dtype=float32, numpy=136.79488>,\n",
       "  <tf.Tensor: shape=(), dtype=float32, numpy=71.17803>,\n",
       "  <tf.Tensor: shape=(), dtype=float32, numpy=68.198906>,\n",
       "  <tf.Tensor: shape=(), dtype=float32, numpy=57.349804>,\n",
       "  <tf.Tensor: shape=(), dtype=float32, numpy=58.6978>,\n",
       "  <tf.Tensor: shape=(), dtype=float32, numpy=52.434155>,\n",
       "  <tf.Tensor: shape=(), dtype=float32, numpy=49.865044>,\n",
       "  <tf.Tensor: shape=(), dtype=float32, numpy=46.735577>,\n",
       "  <tf.Tensor: shape=(), dtype=float32, numpy=44.722157>,\n",
       "  <tf.Tensor: shape=(), dtype=float32, numpy=44.4737>,\n",
       "  <tf.Tensor: shape=(), dtype=float32, numpy=44.081303>,\n",
       "  <tf.Tensor: shape=(), dtype=float32, numpy=39.243713>,\n",
       "  <tf.Tensor: shape=(), dtype=float32, numpy=37.83964>,\n",
       "  <tf.Tensor: shape=(), dtype=float32, numpy=39.029842>,\n",
       "  <tf.Tensor: shape=(), dtype=float32, numpy=33.713127>,\n",
       "  <tf.Tensor: shape=(), dtype=float32, numpy=43.318493>,\n",
       "  <tf.Tensor: shape=(), dtype=float32, numpy=32.76275>,\n",
       "  <tf.Tensor: shape=(), dtype=float32, numpy=31.02917>,\n",
       "  <tf.Tensor: shape=(), dtype=float32, numpy=42.247105>])"
      ]
     },
     "execution_count": 66,
     "metadata": {},
     "output_type": "execute_result"
    }
   ],
   "source": [
    "fit_model(train_nn_features,25,model,input_history,valid_history,valid_nn_features_tf,batch_size=64)"
   ]
  },
  {
   "cell_type": "code",
   "execution_count": 70,
   "metadata": {},
   "outputs": [],
   "source": [
    "# h_encoder.save(\"h_encoder_final.h5\")\n",
    "# bi_rnn.save(\"bi_rnn_final.h5\")\n",
    "# h_encoder_first.save(\"h_encoder_first_final.h5\")\n"
   ]
  },
  {
   "cell_type": "markdown",
   "metadata": {},
   "source": [
    "# Check on importance sampler # "
   ]
  },
  {
   "cell_type": "markdown",
   "metadata": {},
   "source": [
    "This shows what the importance sampler does (encodes x,u to h such that the generator will decode x,h back to u)."
   ]
  },
  {
   "cell_type": "code",
   "execution_count": 33,
   "metadata": {},
   "outputs": [
    {
     "name": "stdout",
     "output_type": "stream",
     "text": [
      "WARNING:tensorflow:No training configuration found in the save file, so the model was *not* compiled. Compile it manually.\n",
      "WARNING:tensorflow:No training configuration found in the save file, so the model was *not* compiled. Compile it manually.\n",
      "WARNING:tensorflow:No training configuration found in the save file, so the model was *not* compiled. Compile it manually.\n"
     ]
    }
   ],
   "source": [
    "h_encoder = keras.models.load_model(\"h_encoder_final.h5\",custom_objects={\n",
    "           \"Sampling\":Sampling})\n",
    "bi_rnn = keras.models.load_model(\"bi_rnn_final.h5\")\n",
    "h_encoder_first = keras.models.load_model(\"h_encoder_first_final.h5\",custom_objects={\n",
    "           \"Sampling\":Sampling})\n"
   ]
  },
  {
   "cell_type": "code",
   "execution_count": 34,
   "metadata": {},
   "outputs": [],
   "source": [
    "#encode seq\n",
    "\n",
    "seq_to_test = train_nn_features[11:12,:,:]\n",
    "\n",
    "h_sequence,h_mean_out_enc,h_log_var_out = sample_from_encoder(seq_to_test,h_encoder,h_encoder_first,\n",
    "                                                    encoder_hidden_state_size,bi_rnn)\n"
   ]
  },
  {
   "cell_type": "code",
   "execution_count": 35,
   "metadata": {},
   "outputs": [],
   "source": [
    "x_array =  seq_to_test[:,:-1,:1]\n",
    "x_array_reshape = tf.reshape(x_array,(-1,1))\n",
    "h_encoding_reshape = tf.reshape(h_mean_out_enc,(-1,h_shape))"
   ]
  },
  {
   "cell_type": "code",
   "execution_count": 36,
   "metadata": {},
   "outputs": [],
   "source": [
    "#decode the mean\n",
    "decoded_mean_u = generator([x_array_reshape,h_encoding_reshape])\n",
    "\n"
   ]
  },
  {
   "cell_type": "code",
   "execution_count": 37,
   "metadata": {
    "scrolled": true
   },
   "outputs": [
    {
     "data": {
      "text/plain": [
       "<matplotlib.collections.PathCollection at 0x7f107c14b1c0>"
      ]
     },
     "execution_count": 37,
     "metadata": {},
     "output_type": "execute_result"
    },
    {
     "data": {
      "image/png": "[encoded data removed]",
      "text/plain": [
       "<Figure size 432x288 with 1 Axes>"
      ]
     },
     "metadata": {
      "needs_background": "light"
     },
     "output_type": "display_data"
    }
   ],
   "source": [
    "#plot of u_true against time \n",
    "plt.scatter(y=np.ravel(seq_to_test[:,:-1,1:]),x=np.linspace(0,1,100))"
   ]
  },
  {
   "cell_type": "code",
   "execution_count": 38,
   "metadata": {},
   "outputs": [
    {
     "data": {
      "text/plain": [
       "<matplotlib.collections.PathCollection at 0x7f107c29ec70>"
      ]
     },
     "execution_count": 38,
     "metadata": {},
     "output_type": "execute_result"
    },
    {
     "data": {
      "image/png": "[encoded data removed]",
      "text/plain": [
       "<Figure size 432x288 with 1 Axes>"
      ]
     },
     "metadata": {
      "needs_background": "light"
     },
     "output_type": "display_data"
    }
   ],
   "source": [
    "#plot of u against time after x and u summary have been encoded and then decoded using the gan. Good match to above. \n",
    "#The encoding models have carried out learning.\n",
    "plt.scatter(y=np.ravel(decoded_mean_u),x=np.linspace(0,1,100))"
   ]
  },
  {
   "cell_type": "code",
   "execution_count": null,
   "metadata": {},
   "outputs": [],
   "source": []
  }
 ],
 "metadata": {
  "kernelspec": {
   "display_name": "Python 3",
   "language": "python",
   "name": "python3"
  },
  "language_info": {
   "codemirror_mode": {
    "name": "ipython",
    "version": 3
   },
   "file_extension": ".py",
   "mimetype": "text/x-python",
   "name": "python",
   "nbconvert_exporter": "python",
   "pygments_lexer": "ipython3",
   "version": "3.8.5"
  }
 },
 "nbformat": 4,
 "nbformat_minor": 2
}
