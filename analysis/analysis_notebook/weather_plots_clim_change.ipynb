{
 "cells": [
  {
   "cell_type": "code",
   "execution_count": 1,
   "metadata": {},
   "outputs": [],
   "source": [
    "import matplotlib.pyplot as plt\n",
    "# import seaborn as sns\n",
    "import numpy as np\n",
    "import sklearn\n",
    "# sns.set_style('whitegrid')\n",
    "# import seaborn as sns\n",
    "import time\n",
    "from pickle import load\n",
    "\n",
    "import math\n",
    "import os\n",
    "from matplotlib.ticker import MultipleLocator\n",
    "import matplotlib"
   ]
  },
  {
   "cell_type": "code",
   "execution_count": 2,
   "metadata": {},
   "outputs": [],
   "source": [
    "k = 8\n",
    "J = 32"
   ]
  },
  {
   "cell_type": "markdown",
   "metadata": {},
   "source": [
    "# F = 40 # "
   ]
  },
  {
   "cell_type": "markdown",
   "metadata": {},
   "source": [
    "# Load data # "
   ]
  },
  {
   "cell_type": "code",
   "execution_count": 3,
   "metadata": {},
   "outputs": [],
   "source": [
    "truth_weather = np.load(\"../../data/truth_run/weather_experiments/weather_array_40.npy\")[:,:]"
   ]
  },
  {
   "cell_type": "code",
   "execution_count": 4,
   "metadata": {},
   "outputs": [
    {
     "data": {
      "text/plain": [
       "(750, 700, 8)"
      ]
     },
     "execution_count": 4,
     "metadata": {},
     "output_type": "execute_result"
    }
   ],
   "source": [
    "truth_weather.shape"
   ]
  },
  {
   "cell_type": "code",
   "execution_count": 5,
   "metadata": {},
   "outputs": [],
   "source": [
    "truth_weather = truth_weather.transpose([0,2,1])"
   ]
  },
  {
   "cell_type": "code",
   "execution_count": 6,
   "metadata": {},
   "outputs": [
    {
     "data": {
      "text/plain": [
       "(750, 8, 700)"
      ]
     },
     "execution_count": 6,
     "metadata": {},
     "output_type": "execute_result"
    }
   ],
   "source": [
    "truth_weather.shape"
   ]
  },
  {
   "cell_type": "code",
   "execution_count": 7,
   "metadata": {},
   "outputs": [],
   "source": [
    "rnn_weather = np.load(\"../../data/simulation_runs/rnn/rnn_final/f_20_data/weather_array_40.npy\")[:,:,:,:]"
   ]
  },
  {
   "cell_type": "code",
   "execution_count": 8,
   "metadata": {},
   "outputs": [
    {
     "data": {
      "text/plain": [
       "(750, 40, 8, 700)"
      ]
     },
     "execution_count": 8,
     "metadata": {},
     "output_type": "execute_result"
    }
   ],
   "source": [
    "rnn_weather.shape"
   ]
  },
  {
   "cell_type": "code",
   "execution_count": 9,
   "metadata": {},
   "outputs": [],
   "source": [
    "gan_weather = np.load(\"../../data/simulation_runs/gan_gagne/corrected_gans/weather_array_40.npy\")"
   ]
  },
  {
   "cell_type": "code",
   "execution_count": 10,
   "metadata": {},
   "outputs": [
    {
     "data": {
      "text/plain": [
       "(750, 40, 8, 700)"
      ]
     },
     "execution_count": 10,
     "metadata": {},
     "output_type": "execute_result"
    }
   ],
   "source": [
    "gan_weather.shape"
   ]
  },
  {
   "cell_type": "markdown",
   "metadata": {},
   "source": [
    "# Method #"
   ]
  },
  {
   "cell_type": "code",
   "execution_count": 11,
   "metadata": {},
   "outputs": [
    {
     "data": {
      "text/plain": [
       "(750, 8, 700)"
      ]
     },
     "execution_count": 11,
     "metadata": {},
     "output_type": "execute_result"
    }
   ],
   "source": [
    "truth_weather.shape"
   ]
  },
  {
   "cell_type": "code",
   "execution_count": 12,
   "metadata": {},
   "outputs": [],
   "source": [
    "expectation_rnn_x_tk = np.mean(rnn_weather[:,:,:,:],axis=1)\n",
    "\n",
    "error_square = np.mean((expectation_rnn_x_tk[:,:,:] - truth_weather[:,:,:])**2,axis=(0,1))\n",
    "    \n",
    "rnn_error_40 = error_square**0.5"
   ]
  },
  {
   "cell_type": "code",
   "execution_count": 13,
   "metadata": {},
   "outputs": [],
   "source": [
    "expectation_gan_x_tk = np.mean(gan_weather[:,:,:,:],axis=1)\n",
    "\n",
    "error_square = np.mean((expectation_gan_x_tk[:,:,:] - truth_weather[:,:,:])**2,axis=(0,1))\n",
    "gan_error_40 = error_square**0.5"
   ]
  },
  {
   "cell_type": "code",
   "execution_count": 14,
   "metadata": {},
   "outputs": [],
   "source": [
    "rnn_repeat = np.repeat(expectation_rnn_x_tk[:,np.newaxis,:,:],40,axis=1)\n",
    "\n",
    "spread_square = np.mean((rnn_weather - rnn_repeat)**2,axis=(0,1,2))\n",
    "rnn_spread_40 = spread_square**0.5"
   ]
  },
  {
   "cell_type": "code",
   "execution_count": 15,
   "metadata": {},
   "outputs": [],
   "source": [
    "gan_repeat = np.repeat(expectation_gan_x_tk[:,np.newaxis,:,:],40,axis=1)\n",
    "\n",
    "spread_square = np.mean((gan_weather - gan_repeat)**2,axis=(0,1,2))\n",
    "gan_spread_40 = spread_square**0.5"
   ]
  },
  {
   "cell_type": "code",
   "execution_count": 16,
   "metadata": {},
   "outputs": [],
   "source": [
    "x_axis_new_40 = np.arange(0,3.5,3.5/700)\n"
   ]
  },
  {
   "cell_type": "markdown",
   "metadata": {},
   "source": [
    "# F = 35 # "
   ]
  },
  {
   "cell_type": "markdown",
   "metadata": {},
   "source": [
    "# Load data # "
   ]
  },
  {
   "cell_type": "code",
   "execution_count": 17,
   "metadata": {},
   "outputs": [],
   "source": [
    "truth_weather = np.load(\"../../data/truth_run/weather_experiments/weather_array_35.npy\")[:,:]"
   ]
  },
  {
   "cell_type": "code",
   "execution_count": 18,
   "metadata": {},
   "outputs": [
    {
     "data": {
      "text/plain": [
       "(750, 700, 8)"
      ]
     },
     "execution_count": 18,
     "metadata": {},
     "output_type": "execute_result"
    }
   ],
   "source": [
    "truth_weather.shape"
   ]
  },
  {
   "cell_type": "code",
   "execution_count": 19,
   "metadata": {},
   "outputs": [],
   "source": [
    "truth_weather = truth_weather.transpose([0,2,1])"
   ]
  },
  {
   "cell_type": "code",
   "execution_count": 20,
   "metadata": {},
   "outputs": [
    {
     "data": {
      "text/plain": [
       "(750, 8, 700)"
      ]
     },
     "execution_count": 20,
     "metadata": {},
     "output_type": "execute_result"
    }
   ],
   "source": [
    "truth_weather.shape"
   ]
  },
  {
   "cell_type": "code",
   "execution_count": 21,
   "metadata": {},
   "outputs": [],
   "source": [
    "rnn_weather = np.load(\"../../data/simulation_runs/rnn/rnn_final/f_20_data/weather_array_35.npy\")[:,:,:,:]"
   ]
  },
  {
   "cell_type": "code",
   "execution_count": 22,
   "metadata": {},
   "outputs": [
    {
     "data": {
      "text/plain": [
       "(750, 40, 8, 700)"
      ]
     },
     "execution_count": 22,
     "metadata": {},
     "output_type": "execute_result"
    }
   ],
   "source": [
    "rnn_weather.shape"
   ]
  },
  {
   "cell_type": "code",
   "execution_count": 23,
   "metadata": {},
   "outputs": [],
   "source": [
    "gan_weather = np.load(\"../../data/simulation_runs/gan_gagne/corrected_gans/weather_array_35.npy\")"
   ]
  },
  {
   "cell_type": "code",
   "execution_count": 24,
   "metadata": {},
   "outputs": [
    {
     "data": {
      "text/plain": [
       "(750, 40, 8, 700)"
      ]
     },
     "execution_count": 24,
     "metadata": {},
     "output_type": "execute_result"
    }
   ],
   "source": [
    "gan_weather.shape"
   ]
  },
  {
   "cell_type": "markdown",
   "metadata": {},
   "source": [
    "# Method #"
   ]
  },
  {
   "cell_type": "code",
   "execution_count": 25,
   "metadata": {},
   "outputs": [
    {
     "data": {
      "text/plain": [
       "(750, 8, 700)"
      ]
     },
     "execution_count": 25,
     "metadata": {},
     "output_type": "execute_result"
    }
   ],
   "source": [
    "truth_weather.shape"
   ]
  },
  {
   "cell_type": "code",
   "execution_count": 26,
   "metadata": {},
   "outputs": [],
   "source": [
    "expectation_rnn_x_tk = np.mean(rnn_weather[:,:,:,:],axis=1)\n",
    "\n",
    "error_square = np.mean((expectation_rnn_x_tk[:,:,:] - truth_weather[:,:,:])**2,axis=(0,1))\n",
    "    \n",
    "rnn_error_35 = error_square**0.5"
   ]
  },
  {
   "cell_type": "code",
   "execution_count": 27,
   "metadata": {},
   "outputs": [],
   "source": [
    "expectation_gan_x_tk = np.mean(gan_weather[:,:,:,:],axis=1)\n",
    "\n",
    "error_square = np.mean((expectation_gan_x_tk[:,:,:] - truth_weather[:,:,:])**2,axis=(0,1))\n",
    "gan_error_35 = error_square**0.5"
   ]
  },
  {
   "cell_type": "code",
   "execution_count": 28,
   "metadata": {},
   "outputs": [],
   "source": [
    "rnn_repeat = np.repeat(expectation_rnn_x_tk[:,np.newaxis,:,:],40,axis=1)\n",
    "\n",
    "spread_square = np.mean((rnn_weather - rnn_repeat)**2,axis=(0,1,2))\n",
    "rnn_spread_35 = spread_square**0.5"
   ]
  },
  {
   "cell_type": "code",
   "execution_count": 29,
   "metadata": {},
   "outputs": [],
   "source": [
    "gan_repeat = np.repeat(expectation_gan_x_tk[:,np.newaxis,:,:],40,axis=1)\n",
    "\n",
    "spread_square = np.mean((gan_weather - gan_repeat)**2,axis=(0,1,2))\n",
    "gan_spread_35 = spread_square**0.5"
   ]
  },
  {
   "cell_type": "code",
   "execution_count": 30,
   "metadata": {},
   "outputs": [],
   "source": [
    "x_axis_new_35 = np.arange(0,3.5,3.5/700)\n"
   ]
  },
  {
   "cell_type": "markdown",
   "metadata": {},
   "source": [
    "# F = 32 # "
   ]
  },
  {
   "cell_type": "markdown",
   "metadata": {},
   "source": [
    "# Load data # "
   ]
  },
  {
   "cell_type": "code",
   "execution_count": 31,
   "metadata": {},
   "outputs": [],
   "source": [
    "truth_weather = np.load(\"../../data/truth_run/weather_experiments/weather_array_32.npy\")[:,:]"
   ]
  },
  {
   "cell_type": "code",
   "execution_count": 32,
   "metadata": {},
   "outputs": [
    {
     "data": {
      "text/plain": [
       "(750, 500, 8)"
      ]
     },
     "execution_count": 32,
     "metadata": {},
     "output_type": "execute_result"
    }
   ],
   "source": [
    "truth_weather.shape"
   ]
  },
  {
   "cell_type": "code",
   "execution_count": 33,
   "metadata": {},
   "outputs": [],
   "source": [
    "truth_weather = truth_weather.transpose([0,2,1])"
   ]
  },
  {
   "cell_type": "code",
   "execution_count": 34,
   "metadata": {},
   "outputs": [],
   "source": [
    "rnn_weather = np.load(\"../../data/simulation_runs/rnn/rnn_final/f_20_data/weather_array_32.npy\")[:,:,:,:]"
   ]
  },
  {
   "cell_type": "code",
   "execution_count": 35,
   "metadata": {},
   "outputs": [
    {
     "data": {
      "text/plain": [
       "(750, 40, 8, 500)"
      ]
     },
     "execution_count": 35,
     "metadata": {},
     "output_type": "execute_result"
    }
   ],
   "source": [
    "rnn_weather.shape"
   ]
  },
  {
   "cell_type": "code",
   "execution_count": 36,
   "metadata": {},
   "outputs": [],
   "source": [
    "gan_weather = np.load(\"../../data/simulation_runs/gan_gagne/corrected_gans/weather_array_32.npy\")"
   ]
  },
  {
   "cell_type": "markdown",
   "metadata": {},
   "source": [
    "# Method #"
   ]
  },
  {
   "cell_type": "code",
   "execution_count": 37,
   "metadata": {},
   "outputs": [
    {
     "data": {
      "text/plain": [
       "(750, 8, 500)"
      ]
     },
     "execution_count": 37,
     "metadata": {},
     "output_type": "execute_result"
    }
   ],
   "source": [
    "truth_weather.shape"
   ]
  },
  {
   "cell_type": "code",
   "execution_count": 38,
   "metadata": {},
   "outputs": [],
   "source": [
    "expectation_rnn_x_tk = np.mean(rnn_weather[:,:,:,:],axis=1)\n",
    "\n",
    "error_square = np.mean((expectation_rnn_x_tk[:,:,:] - truth_weather[:,:,:])**2,axis=(0,1))\n",
    "    \n",
    "rnn_error_32 = error_square**0.5"
   ]
  },
  {
   "cell_type": "code",
   "execution_count": 39,
   "metadata": {},
   "outputs": [],
   "source": [
    "expectation_gan_x_tk = np.mean(gan_weather[:,:,:,:],axis=1)\n",
    "\n",
    "error_square = np.mean((expectation_gan_x_tk[:,:,:] - truth_weather[:,:,:])**2,axis=(0,1))\n",
    "gan_error_32 = error_square**0.5"
   ]
  },
  {
   "cell_type": "code",
   "execution_count": 40,
   "metadata": {},
   "outputs": [],
   "source": [
    "rnn_repeat = np.repeat(expectation_rnn_x_tk[:,np.newaxis,:,:],40,axis=1)\n",
    "\n",
    "spread_square = np.mean((rnn_weather - rnn_repeat)**2,axis=(0,1,2))\n",
    "rnn_spread_32 = spread_square**0.5"
   ]
  },
  {
   "cell_type": "code",
   "execution_count": 41,
   "metadata": {},
   "outputs": [],
   "source": [
    "gan_repeat = np.repeat(expectation_gan_x_tk[:,np.newaxis,:,:],40,axis=1)\n",
    "\n",
    "spread_square = np.mean((gan_weather - gan_repeat)**2,axis=(0,1,2))\n",
    "gan_spread_32 = spread_square**0.5"
   ]
  },
  {
   "cell_type": "code",
   "execution_count": 42,
   "metadata": {},
   "outputs": [],
   "source": [
    "x_axis_new_32 = np.arange(0,2.5,2.5/500)\n"
   ]
  },
  {
   "cell_type": "markdown",
   "metadata": {},
   "source": [
    "# F = 28 # "
   ]
  },
  {
   "cell_type": "markdown",
   "metadata": {},
   "source": [
    "# Load data # "
   ]
  },
  {
   "cell_type": "code",
   "execution_count": 43,
   "metadata": {},
   "outputs": [],
   "source": [
    "truth_weather = np.load(\"../../data/truth_run/weather_experiments/weather_array_28.npy\")[:,:]"
   ]
  },
  {
   "cell_type": "code",
   "execution_count": 44,
   "metadata": {},
   "outputs": [],
   "source": [
    "truth_weather = truth_weather.transpose([0,2,1])"
   ]
  },
  {
   "cell_type": "code",
   "execution_count": 45,
   "metadata": {},
   "outputs": [
    {
     "data": {
      "text/plain": [
       "(750, 8, 500)"
      ]
     },
     "execution_count": 45,
     "metadata": {},
     "output_type": "execute_result"
    }
   ],
   "source": [
    "truth_weather.shape"
   ]
  },
  {
   "cell_type": "code",
   "execution_count": 46,
   "metadata": {},
   "outputs": [],
   "source": [
    "rnn_weather = np.load(\"../../data/simulation_runs/rnn/rnn_final/f_20_data/weather_array_28.npy\")[:,:,:,:]"
   ]
  },
  {
   "cell_type": "code",
   "execution_count": 47,
   "metadata": {},
   "outputs": [
    {
     "data": {
      "text/plain": [
       "(750, 40, 8, 500)"
      ]
     },
     "execution_count": 47,
     "metadata": {},
     "output_type": "execute_result"
    }
   ],
   "source": [
    "rnn_weather.shape"
   ]
  },
  {
   "cell_type": "code",
   "execution_count": 48,
   "metadata": {},
   "outputs": [],
   "source": [
    "gan_weather = np.load(\"../../data/simulation_runs/gan_gagne/corrected_gans/weather_array_28.npy\")"
   ]
  },
  {
   "cell_type": "markdown",
   "metadata": {},
   "source": [
    "# Method #"
   ]
  },
  {
   "cell_type": "code",
   "execution_count": 49,
   "metadata": {},
   "outputs": [],
   "source": [
    "expectation_rnn_x_tk = np.mean(rnn_weather[:,:,:,:],axis=1)\n",
    "\n",
    "error_square = np.mean((expectation_rnn_x_tk[:,:,:] - truth_weather[:,:,:])**2,axis=(0,1))\n",
    "    \n",
    "rnn_error_28 = error_square**0.5"
   ]
  },
  {
   "cell_type": "code",
   "execution_count": 50,
   "metadata": {},
   "outputs": [],
   "source": [
    "expectation_gan_x_tk = np.mean(gan_weather[:,:,:,:],axis=1)\n",
    "\n",
    "error_square = np.mean((expectation_gan_x_tk[:,:,:] - truth_weather[:,:,:])**2,axis=(0,1))\n",
    "gan_error_28 = error_square**0.5"
   ]
  },
  {
   "cell_type": "code",
   "execution_count": 51,
   "metadata": {},
   "outputs": [],
   "source": [
    "rnn_repeat = np.repeat(expectation_rnn_x_tk[:,np.newaxis,:,:],40,axis=1)\n",
    "\n",
    "spread_square = np.mean((rnn_weather - rnn_repeat)**2,axis=(0,1,2))\n",
    "rnn_spread_28 = spread_square**0.5"
   ]
  },
  {
   "cell_type": "code",
   "execution_count": 52,
   "metadata": {},
   "outputs": [],
   "source": [
    "gan_repeat = np.repeat(expectation_gan_x_tk[:,np.newaxis,:,:],40,axis=1)\n",
    "\n",
    "spread_square = np.mean((gan_weather - gan_repeat)**2,axis=(0,1,2))\n",
    "gan_spread_28 = spread_square**0.5"
   ]
  },
  {
   "cell_type": "code",
   "execution_count": null,
   "metadata": {},
   "outputs": [],
   "source": []
  },
  {
   "cell_type": "code",
   "execution_count": 53,
   "metadata": {},
   "outputs": [],
   "source": [
    "x_axis_new_28 = np.arange(0,2.5,2.5/500)\n"
   ]
  },
  {
   "cell_type": "markdown",
   "metadata": {},
   "source": [
    "# Plot # "
   ]
  },
  {
   "cell_type": "code",
   "execution_count": 54,
   "metadata": {},
   "outputs": [],
   "source": [
    "from matplotlib.lines import Line2D\n",
    "legend_elements = [\n",
    "#                     Line2D([0],[0],color=\"#e41a1c\",lw=2,label=\"Polynomial Error\"),\n",
    "#     Line2D([0],[0],color=\"#e41a1c\",lw=2,label=\"Polynomial Spread\",linestyle=\"dashed\"),\n",
    "                  Line2D([0],[0],color=\"#377eb8\",lw=2,label=\"RNN Error\"),\n",
    "                      Line2D([0],[0],color=\"#377eb8\",lw=2,label=\"RNN Spread\",linestyle=\"dashed\"),\n",
    "\n",
    "                  Line2D([0],[0],color=\"#984ea3\",lw=2,label=\"GAN Error\"),\n",
    "                  Line2D([0],[0],color=\"#984ea3\",lw=2,label=\"GAN Spread\",linestyle=\"dashed\")]\n",
    "\n",
    "#Line2D([0],[0],color=\"cyan\",lw=2,label=\"RNN reset h\")]"
   ]
  },
  {
   "cell_type": "code",
   "execution_count": 61,
   "metadata": {},
   "outputs": [
    {
     "data": {
      "image/png": "[encoded data removed]",
      "text/plain": [
       "<Figure size 720x720 with 4 Axes>"
      ]
     },
     "metadata": {
      "needs_background": "light"
     },
     "output_type": "display_data"
    }
   ],
   "source": [
    "#recreating fig 7b / 8a\n",
    "fig,ax = plt.subplots(figsize=(10,10),nrows=2,ncols=2)\n",
    "\n",
    "fig.suptitle(\"Spread-Error plots for various forcing values\",fontsize=16,y=0.94)\n",
    "\n",
    "plt.rcParams['font.size'] = '14'\n",
    "\n",
    "# ax[0,0].plot(x_axis_poly_40,poly_error_40,color=\"#e41a1c\")\n",
    "# ax[0,0].plot(x_axis_poly_40,poly_spread_40,linestyle=\"dashed\",color=\"#e41a1c\")\n",
    "ax[0,0].plot(x_axis_new_40,rnn_error_40,color=\"#377eb8\")\n",
    "ax[0,0].plot(x_axis_new_40,rnn_spread_40,color=\"#377eb8\",linestyle=\"dashed\")\n",
    "ax[0,0].plot(x_axis_new_40,gan_error_40,color=\"#984ea3\")\n",
    "ax[0,0].plot(x_axis_new_40,gan_spread_40,color=\"#984ea3\",linestyle=\"dashed\")\n",
    "ax[0,0].text(0,1.07,\"(a) F = 40 \",fontsize=15,va=\"top\",transform=ax[0,0].transAxes)\n",
    "ax[0,0].set_ylim([0,11])\n",
    "ax[0,0].set_xlim([0,2.5])\n",
    "\n",
    "\n",
    "# ax[0,1].plot(x_axis_poly_35,poly_error_35,color=\"#e41a1c\")\n",
    "# ax[0,1].plot(x_axis_poly_35,poly_spread_35,linestyle=\"dashed\",color=\"#e41a1c\")\n",
    "ax[0,1].plot(x_axis_new_35,rnn_error_35,color=\"#377eb8\")\n",
    "ax[0,1].plot(x_axis_new_35,rnn_spread_35,color=\"#377eb8\",linestyle=\"dashed\")\n",
    "ax[0,1].plot(x_axis_new_35,gan_error_35,color=\"#984ea3\")\n",
    "ax[0,1].plot(x_axis_new_35,gan_spread_35,color=\"#984ea3\",linestyle=\"dashed\")\n",
    "ax[0,1].text(0,1.07,\"(b) F = 35 \",fontsize=15,va=\"top\",transform=ax[0,1].transAxes)\n",
    "ax[0,1].set_ylim([0,11])\n",
    "ax[0,1].set_xlim([0,2.5])\n",
    "\n",
    "\n",
    "ax[1,0].plot(x_axis_new_32,rnn_error_32,color=\"#377eb8\")\n",
    "ax[1,0].plot(x_axis_new_32,rnn_spread_32,color=\"#377eb8\",linestyle=\"dashed\")\n",
    "ax[1,0].plot(x_axis_new_32,gan_error_32,color=\"#984ea3\")\n",
    "ax[1,0].plot(x_axis_new_32,gan_spread_32,color=\"#984ea3\",linestyle=\"dashed\")\n",
    "ax[1,0].text(0,1.07,\"(c) F = 32 \",fontsize=15,va=\"top\",transform=ax[1,0].transAxes)\n",
    "ax[1,0].set_ylim([0,11])\n",
    "ax[1,0].set_xlim([0,2.5])\n",
    "\n",
    "# ax[1,1].plot(x_poly_new_28,poly_error_28,color=\"#e41a1c\")\n",
    "# ax[1,1].plot(x_poly_new_28,poly_spread_28,linestyle=\"dashed\",color=\"#e41a1c\")\n",
    "ax[1,1].plot(x_axis_new_28,rnn_error_28,color=\"#377eb8\")\n",
    "ax[1,1].plot(x_axis_new_28,rnn_spread_28,color=\"#377eb8\",linestyle=\"dashed\")\n",
    "ax[1,1].plot(x_axis_new_28,gan_error_28,color=\"#984ea3\")\n",
    "ax[1,1].plot(x_axis_new_28,gan_spread_28,color=\"#984ea3\",linestyle=\"dashed\")\n",
    "ax[1,1].text(0,1.07,\"(d) F = 28 \",fontsize=15,va=\"top\",transform=ax[1,1].transAxes)\n",
    "ax[1,1].set_ylim([0,11])\n",
    "ax[1,1].set_xlim([0,2.5])\n",
    "\n",
    "ax[0,0].set_xticks([])\n",
    "ax[0,1].set_xticks([])\n",
    "\n",
    "ax[0,1].set_yticks([])\n",
    "ax[1,1].set_yticks([])\n",
    "\n",
    "fig.legend(handles=legend_elements,loc=(0.24,0.58),prop={\"size\":14})\n",
    "\n",
    "\n",
    "\n",
    "fig.text(0.5, 0.045, 'Forecast period / MTU', ha='center', fontsize=\"15\")\n",
    "# fig.text(0.045, 0.5, '|| [PC3, PC4] ||', va='center', rotation='vertical',fontsize=\"15\")\n",
    "\n",
    "plt.savefig(\"weather_plots_generalise.pdf\",bbox_inches=\"tight\")\n",
    "\n",
    "\n",
    "plt.show()"
   ]
  },
  {
   "cell_type": "code",
   "execution_count": null,
   "metadata": {},
   "outputs": [],
   "source": []
  }
 ],
 "metadata": {
  "kernelspec": {
   "display_name": "Python 3",
   "language": "python",
   "name": "python3"
  },
  "language_info": {
   "codemirror_mode": {
    "name": "ipython",
    "version": 3
   },
   "file_extension": ".py",
   "mimetype": "text/x-python",
   "name": "python",
   "nbconvert_exporter": "python",
   "pygments_lexer": "ipython3",
   "version": "3.7.6"
  }
 },
 "nbformat": 4,
 "nbformat_minor": 4
}
