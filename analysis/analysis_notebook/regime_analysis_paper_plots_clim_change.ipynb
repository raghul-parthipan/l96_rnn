{
 "cells": [
  {
   "cell_type": "code",
   "execution_count": 1,
   "metadata": {},
   "outputs": [],
   "source": [
    "import matplotlib.pyplot as plt\n",
    "import numpy as np\n",
    "import sklearn\n",
    "\n",
    "import time\n",
    "from pickle import load\n",
    "\n",
    "import math\n",
    "import os\n",
    "from matplotlib.ticker import MultipleLocator\n",
    "import matplotlib"
   ]
  },
  {
   "cell_type": "code",
   "execution_count": 2,
   "metadata": {},
   "outputs": [],
   "source": [
    "k = 8\n",
    "J = 32"
   ]
  },
  {
   "cell_type": "markdown",
   "metadata": {},
   "source": [
    "# Load data #"
   ]
  },
  {
   "cell_type": "markdown",
   "metadata": {},
   "source": [
    "## Non climate change data ##"
   ]
  },
  {
   "cell_type": "code",
   "execution_count": 24,
   "metadata": {},
   "outputs": [],
   "source": [
    "truth_set_f_20 = np.load(\"../../data/truth_run/f_20_all.npy\")\n",
    "\n",
    "truth_set_f_21 = np.load(\"../../data/truth_run/climate_change_exp/full_val_21_5_set.npy\")[:,:,0] ##21.5\n"
   ]
  },
  {
   "cell_type": "markdown",
   "metadata": {},
   "source": [
    "## Climate change ##"
   ]
  },
  {
   "cell_type": "code",
   "execution_count": 4,
   "metadata": {},
   "outputs": [],
   "source": [
    "truth_set_full  = np.load(\"../../data/truth_run/climate_change_exp/full_28_set.npy\")[:,:,0]\n"
   ]
  },
  {
   "cell_type": "code",
   "execution_count": 5,
   "metadata": {},
   "outputs": [],
   "source": [
    "\n",
    "gan_full_f_28 = (np.load(\"../../data/simulation_runs/gan_gagne/corrected_gans/f_28_all.npy\"))"
   ]
  },
  {
   "cell_type": "code",
   "execution_count": 6,
   "metadata": {},
   "outputs": [],
   "source": [
    "\n",
    "rnn_full_28 =(np.load(\"../../data/simulation_runs/rnn/rnn_final/f_28_all.npy\"))"
   ]
  },
  {
   "cell_type": "markdown",
   "metadata": {},
   "source": [
    "# X_{k,t} marginal distribution # "
   ]
  },
  {
   "cell_type": "code",
   "execution_count": 7,
   "metadata": {},
   "outputs": [
    {
     "data": {
      "image/png": "[encoded data removed]",
      "text/plain": [
       "<Figure size 720x720 with 1 Axes>"
      ]
     },
     "metadata": {
      "needs_background": "light"
     },
     "output_type": "display_data"
    }
   ],
   "source": [
    "fig,ax = plt.subplots(figsize=(10,10))\n",
    "bin_seq = np.linspace(-30,35,50)\n",
    "ax.hist(np.ravel(truth_set_full),bins=bin_seq,histtype=\"step\",density=True,color=\"green\")\n",
    "ax.hist(np.ravel(gan_full_f_28),bins=bin_seq,histtype=\"step\",color=\"purple\",density=True)\n",
    "ax.hist(np.ravel(rnn_full_28),bins=bin_seq,histtype=\"step\",color=\"blue\",density=True)\n",
    "\n",
    "plt.show()"
   ]
  },
  {
   "cell_type": "code",
   "execution_count": 15,
   "metadata": {},
   "outputs": [],
   "source": [
    "fig,ax = plt.subplots(figsize=(10,10))\n",
    "bin_seq = np.linspace(-30,35,50)\n",
    "truth,_,_ = ax.hist(np.ravel(truth_set_full),bins=bin_seq,histtype=\"step\",density=True,color=\"green\")\n",
    "gan,_,_ = ax.hist(np.ravel(gan_full_f_28),bins=bin_seq,histtype=\"step\",color=\"purple\",density=True)\n",
    "rnn,_,_ = ax.hist(np.ravel(rnn_full_28),bins=bin_seq,histtype=\"step\",color=\"blue\",density=True)\n",
    "\n",
    "plt.close()"
   ]
  },
  {
   "cell_type": "code",
   "execution_count": 16,
   "metadata": {},
   "outputs": [],
   "source": [
    "#deal with numerical stuff due to y_true containing zero\n",
    "truth = truth + 1e-10\n",
    "rnn = rnn + 1e-10\n",
    "gan = gan + 1e-10\n",
    "\n"
   ]
  },
  {
   "cell_type": "code",
   "execution_count": 53,
   "metadata": {},
   "outputs": [
    {
     "data": {
      "text/plain": [
       "0.0015096053431956473"
      ]
     },
     "execution_count": 53,
     "metadata": {},
     "output_type": "execute_result"
    }
   ],
   "source": [
    "#kl between rnn and true\n",
    "np.sum(np.log(truth/rnn)*truth)\n"
   ]
  },
  {
   "cell_type": "code",
   "execution_count": 54,
   "metadata": {},
   "outputs": [
    {
     "data": {
      "text/plain": [
       "0.00245260195234201"
      ]
     },
     "execution_count": 54,
     "metadata": {},
     "output_type": "execute_result"
    }
   ],
   "source": [
    "#kl between gan and true\n",
    "np.sum(np.log(truth/gan)*truth)\n"
   ]
  },
  {
   "cell_type": "markdown",
   "metadata": {},
   "source": [
    "# Principal Component analysis #"
   ]
  },
  {
   "cell_type": "code",
   "execution_count": 7,
   "metadata": {},
   "outputs": [],
   "source": [
    "#PCA / EOF analysis\n",
    "from sklearn.decomposition import PCA"
   ]
  },
  {
   "cell_type": "code",
   "execution_count": 8,
   "metadata": {},
   "outputs": [],
   "source": [
    "#smoothing data temporally\n",
    "from scipy.ndimage import uniform_filter1d"
   ]
  },
  {
   "cell_type": "code",
   "execution_count": 9,
   "metadata": {},
   "outputs": [],
   "source": [
    "smoothed_data = uniform_filter1d(truth_set_full,size=80,axis=0)"
   ]
  },
  {
   "cell_type": "code",
   "execution_count": 26,
   "metadata": {},
   "outputs": [],
   "source": [
    "smoothed_data_f_20 = uniform_filter1d(truth_set_f_20,size=80,axis=0)\n",
    "smoothed_data_f_21 = uniform_filter1d(truth_set_f_21,size=80,axis=0)"
   ]
  },
  {
   "cell_type": "code",
   "execution_count": 11,
   "metadata": {},
   "outputs": [],
   "source": [
    "pca_smooth = PCA(n_components=4)"
   ]
  },
  {
   "cell_type": "code",
   "execution_count": 12,
   "metadata": {},
   "outputs": [],
   "source": [
    "pca_data_smooth_f_20 = pca_smooth.fit_transform(smoothed_data_f_20) #get the original pca components"
   ]
  },
  {
   "cell_type": "code",
   "execution_count": 27,
   "metadata": {},
   "outputs": [],
   "source": [
    "pca_data_smooth_f_21 = pca_smooth.transform(smoothed_data_f_21) #get the original pca components"
   ]
  },
  {
   "cell_type": "code",
   "execution_count": 13,
   "metadata": {},
   "outputs": [],
   "source": [
    "pca_data_smooth_f_28 = pca_smooth.transform(smoothed_data) #for the f 28 test data"
   ]
  },
  {
   "cell_type": "code",
   "execution_count": 28,
   "metadata": {},
   "outputs": [],
   "source": [
    "dim1 = (pca_data_smooth_f_28[:,0]**2 + pca_data_smooth_f_28[:,1]**2)**0.5\n",
    "dim2 = (pca_data_smooth_f_28[:,2]**2 + pca_data_smooth_f_28[:,3]**2)**0.5\n",
    "dim1_f21 = (pca_data_smooth_f_21[:,0]**2 + pca_data_smooth_f_21[:,1]**2)**0.5\n",
    "dim2_f21 = (pca_data_smooth_f_21[:,2]**2 + pca_data_smooth_f_21[:,3]**2)**0.5"
   ]
  },
  {
   "cell_type": "code",
   "execution_count": 29,
   "metadata": {},
   "outputs": [],
   "source": [
    "def cmap_discretize(cmap, N):\n",
    "    \"\"\"Return a discrete colormap from the continuous colormap cmap.\n",
    "    \n",
    "        cmap: colormap instance, eg. cm.jet. \n",
    "        N: number of colors.\n",
    "    \"\"\"\n",
    "    if type(cmap) == str:\n",
    "        cmap = get_cmap(cmap)\n",
    "    colors_i = np.concatenate((np.linspace(0, 1., N), (0.,0.,0.,0.)))\n",
    "    colors_rgba = cmap(colors_i)\n",
    "    indices = np.linspace(0, 1., N+1)\n",
    "    cdict = {}\n",
    "    for ki, key in enumerate(('red','green','blue')):\n",
    "        cdict[key] = [(indices[i], colors_rgba[i-1,ki], colors_rgba[i,ki]) for i in range(N+1)]\n",
    "    # Return colormap object.\n",
    "    return matplotlib.colors.LinearSegmentedColormap(cmap.name + \"_%d\"%N, cdict, 1024)"
   ]
  },
  {
   "cell_type": "code",
   "execution_count": 30,
   "metadata": {},
   "outputs": [],
   "source": [
    "discretized_jet = cmap_discretize(matplotlib.cm.turbo, 20)\n"
   ]
  },
  {
   "cell_type": "code",
   "execution_count": 31,
   "metadata": {},
   "outputs": [],
   "source": [
    "discretized_mono = cmap_discretize(matplotlib.cm.binary, 20)\n",
    "discretized_div = cmap_discretize(matplotlib.cm.RdBu, 20)"
   ]
  },
  {
   "cell_type": "code",
   "execution_count": 36,
   "metadata": {},
   "outputs": [],
   "source": [
    "density,xedges,yedges,d = plt.hist2d(x=dim1,y=dim2,bins=100,cmap=discretized_jet,density=True,vmax=0.04,range=[[0,15],[0,10]])\n",
    "density_21,xedges,yedges,d = plt.hist2d(x=dim1_f21,y=dim2_f21,bins=100,cmap=discretized_jet,density=True,vmax=0.04,range=[[0,15],[0,10]])\n",
    "plt.close()"
   ]
  },
  {
   "cell_type": "code",
   "execution_count": 37,
   "metadata": {},
   "outputs": [],
   "source": [
    "X,Y=np.meshgrid(xedges,yedges)"
   ]
  },
  {
   "cell_type": "code",
   "execution_count": 38,
   "metadata": {},
   "outputs": [],
   "source": [
    "diff_density = density.T - density_21.T"
   ]
  },
  {
   "cell_type": "code",
   "execution_count": 39,
   "metadata": {},
   "outputs": [
    {
     "data": {
      "text/plain": [
       "<matplotlib.collections.QuadMesh at 0x7f0cee0661f0>"
      ]
     },
     "execution_count": 39,
     "metadata": {},
     "output_type": "execute_result"
    },
    {
     "data": {
      "image/png": "[encoded data removed]",
      "text/plain": [
       "<Figure size 432x288 with 1 Axes>"
      ]
     },
     "metadata": {
      "needs_background": "light"
     },
     "output_type": "display_data"
    }
   ],
   "source": [
    "#this is the plot\n",
    "\n",
    "plt.pcolormesh(X,Y,diff_density,cmap=discretized_div,vmin=-0.05,vmax=0.04)\n"
   ]
  },
  {
   "cell_type": "code",
   "execution_count": 40,
   "metadata": {},
   "outputs": [
    {
     "data": {
      "image/png": "[encoded data removed]",
      "text/plain": [
       "<Figure size 360x360 with 2 Axes>"
      ]
     },
     "metadata": {
      "needs_background": "light"
     },
     "output_type": "display_data"
    }
   ],
   "source": [
    "#recreating fig 7b / 8a\n",
    "fig,ax = plt.subplots(figsize=(5,5))\n",
    "plt.rcParams['font.size'] = '13'\n",
    "\n",
    "ax.pcolormesh(X,Y,diff_density,cmap=discretized_div,vmin=-0.05,vmax=0.04)\n",
    "#ax.text(-0.1,10.7,\"(a) Truth\",fontsize=15,va=\"top\")\n",
    "\n",
    "\n",
    "norm = matplotlib.colors.Normalize(vmin=-0.05,vmax=0.04)\n",
    "sm = plt.cm.ScalarMappable(cmap=\"RdBu\", norm=norm)\n",
    "sm.set_array([])\n",
    "cax = fig.add_axes([0.93,0.2,0.04,0.6])\n",
    "fig.colorbar(sm, ticks=[-0.04,-0.02,0,0.02,0.04],cax=cax)\n",
    "\n",
    "fig.text(0.5, 0.03, '|| [PC1, PC2] ||', ha='center', fontsize=\"15\")\n",
    "fig.text(0.04, 0.5, '|| [PC3, PC4] ||', va='center', rotation='vertical',fontsize=\"15\")\n",
    "\n",
    "# plt.savefig(\"clim_change_diff.pdf\",bbox_inches=\"tight\")\n",
    "\n",
    "\n",
    "plt.show()"
   ]
  },
  {
   "cell_type": "markdown",
   "metadata": {},
   "source": [
    "### Comparing across models ###"
   ]
  },
  {
   "cell_type": "code",
   "execution_count": 24,
   "metadata": {},
   "outputs": [],
   "source": [
    "# #poly (with already trained pca components)\n",
    "# smoothed_data_poly_f_23 = uniform_filter1d(polynomial_data[:,:],size=80,axis=0)\n",
    "# smoothed_data_poly_f_20 = uniform_filter1d(polynomial_data_f_20[:,:],size=80,axis=0)\n",
    "\n",
    "# pca_data_poly_20 = pca_smooth.transform(smoothed_data_poly_f_20)\n",
    "# pca_data_poly_23 = pca_smooth.transform(smoothed_data_poly_f_23)\n",
    "\n",
    "\n",
    "# dim1_poly_20 = (pca_data_poly_20[:,0]**2 + pca_data_poly_20[:,1]**2)**0.5\n",
    "# dim2_poly_20 = (pca_data_poly_20[:,2]**2 + pca_data_poly_20[:,3]**2)**0.5\n",
    "\n",
    "# dim1_poly_23 = (pca_data_poly_23[:,0]**2 + pca_data_poly_23[:,1]**2)**0.5\n",
    "# dim2_poly_23 = (pca_data_poly_23[:,2]**2 + pca_data_poly_23[:,3]**2)**0.5\n",
    "\n",
    "# density_23_poly,xedges,yedges,d = plt.hist2d(x=dim1_poly_23,y=dim2_poly_23,bins=100,cmap=discretized_jet,density=True,vmax=0.04,range=[[0,15],[0,10]])\n",
    "# density_20_poly,xedges,yedges,d = plt.hist2d(x=dim1_poly_20,y=dim2_poly_20,bins=100,cmap=discretized_jet,density=True,vmax=0.04,range=[[0,15],[0,10]])\n",
    "# plt.close()\n",
    "\n",
    "# diff_density_poly = density_23_poly.T - density_20_poly.T\n",
    "\n",
    "\n",
    "# plt.pcolormesh(X,Y,diff_density_poly,cmap=discretized_jet,vmin=-0.05,vmax=0.04)\n"
   ]
  },
  {
   "cell_type": "code",
   "execution_count": 41,
   "metadata": {},
   "outputs": [],
   "source": [
    "#rnn\n",
    "smoothed_data_rnn_f_28 = uniform_filter1d(rnn_full_28[:,:],size=80,axis=0)\n",
    "\n",
    "pca_data_smooth_rnn_28 = pca_smooth.transform(smoothed_data_rnn_f_28)\n",
    "\n",
    "dim1_rnn_28 = (pca_data_smooth_rnn_28[:,0]**2 + pca_data_smooth_rnn_28[:,1]**2)**0.5\n",
    "dim2_rnn_28 = (pca_data_smooth_rnn_28[:,2]**2 + pca_data_smooth_rnn_28[:,3]**2)**0.5"
   ]
  },
  {
   "cell_type": "code",
   "execution_count": 42,
   "metadata": {},
   "outputs": [],
   "source": [
    "density_28_rnn,xedges,yedges,d = plt.hist2d(x=dim1_rnn_28,y=dim2_rnn_28,bins=100,cmap=discretized_jet,density=True,vmax=0.04,range=[[0,15],[0,10]])\n",
    "plt.close()"
   ]
  },
  {
   "cell_type": "code",
   "execution_count": 43,
   "metadata": {},
   "outputs": [],
   "source": [
    "#gan (with already trained pca components)\n",
    "\n",
    "smoothed_data_gan_f_28 = uniform_filter1d(gan_full_f_28[:,:],size=80,axis=0)\n",
    "\n",
    "pca_data_gan_28 = pca_smooth.transform(smoothed_data_gan_f_28)\n",
    "\n",
    "dim1_gan_28 = (pca_data_gan_28[:,0]**2 + pca_data_gan_28[:,1]**2)**0.5\n",
    "dim2_gan_28 = (pca_data_gan_28[:,2]**2 + pca_data_gan_28[:,3]**2)**0.5"
   ]
  },
  {
   "cell_type": "code",
   "execution_count": 44,
   "metadata": {},
   "outputs": [],
   "source": [
    "density_28_gan,xedges,yedges,d = plt.hist2d(x=dim1_gan_28,y=dim2_gan_28,bins=100,cmap=discretized_jet,density=True,vmax=0.04,range=[[0,15],[0,10]])\n",
    "plt.close()"
   ]
  },
  {
   "cell_type": "code",
   "execution_count": 45,
   "metadata": {},
   "outputs": [],
   "source": [
    "density_gan_kl = density_28_gan+ 1e-10\n",
    "density_rnn_kl = density_28_rnn+ 1e-10\n",
    "density_true_kl = density+ 1e-10\n"
   ]
  },
  {
   "cell_type": "code",
   "execution_count": 46,
   "metadata": {},
   "outputs": [
    {
     "data": {
      "text/plain": [
       "0.578930142221426"
      ]
     },
     "execution_count": 46,
     "metadata": {},
     "output_type": "execute_result"
    }
   ],
   "source": [
    "#kl between rnn and true\n",
    "np.sum(np.log(density_true_kl/density_rnn_kl)*density_true_kl)\n"
   ]
  },
  {
   "cell_type": "code",
   "execution_count": 47,
   "metadata": {},
   "outputs": [
    {
     "data": {
      "text/plain": [
       "0.7122701435759689"
      ]
     },
     "execution_count": 47,
     "metadata": {},
     "output_type": "execute_result"
    }
   ],
   "source": [
    "#kl between gan and true\n",
    "np.sum(np.log(density_true_kl/density_gan_kl)*density_true_kl)\n"
   ]
  },
  {
   "cell_type": "code",
   "execution_count": 48,
   "metadata": {},
   "outputs": [],
   "source": [
    "import matplotlib as mpl\n"
   ]
  },
  {
   "cell_type": "code",
   "execution_count": 50,
   "metadata": {},
   "outputs": [
    {
     "data": {
      "image/png": "[encoded data removed]",
      "text/plain": [
       "<Figure size 720x720 with 5 Axes>"
      ]
     },
     "metadata": {
      "needs_background": "light"
     },
     "output_type": "display_data"
    }
   ],
   "source": [
    "#recreating fig 7b / 8a\n",
    "fig,ax = plt.subplots(figsize=(10,10),nrows=2,ncols=2)\n",
    "\n",
    "plt.rcParams['font.size'] = '14'\n",
    "\n",
    "ax[0,0].hist2d(x=dim1,y=dim2,bins=100,cmap=discretized_jet,density=True,vmax=0.06,range=[[0,15],[0,10]])\n",
    "ax[0,0].text(-0.1,10.7,\"(a) Truth\",fontsize=15,va=\"top\")\n",
    "\n",
    "# ax[0,1].hist2d(x=dim1_poly_23,y=dim2_poly_23,bins=100,cmap=discretized_jet,density=True,vmax=0.06,range=[[0,15],[0,10]])\n",
    "# ax[0,1].text(-0.1,10.7,\"(b) Polynomial\",fontsize=15,va=\"top\")\n",
    "\n",
    "\n",
    "ax[1,0].hist2d(x=dim1_rnn_28,y=dim2_rnn_28,bins=100,cmap=discretized_jet,density=True,vmax=0.06,range=[[0,15],[0,10]])\n",
    "ax[1,0].text(-0.1,10.7,\"(c) RNN\",fontsize=15,va=\"top\")\n",
    "\n",
    "\n",
    "ax[1,1].hist2d(x=dim1_gan_28,y=dim2_gan_28,bins=100,cmap=discretized_jet,density=True,vmax=0.06,range=[[0,15],[0,10]])\n",
    "ax[1,1].text(-0.1,10.7,\"(d) GAN\",fontsize=15,va=\"top\")\n",
    "\n",
    "\n",
    "\n",
    "norm = mpl.colors.Normalize(vmin=0,vmax=0.06)\n",
    "sm = plt.cm.ScalarMappable(cmap=\"turbo\", norm=norm)\n",
    "sm.set_array([])\n",
    "cax = fig.add_axes([0.93,0.2,0.04,0.6])\n",
    "fig.colorbar(sm, ticks=[0,0.02,0.04,0.06,0.08],cax=cax)\n",
    "\n",
    "fig.text(0.5, 0.045, '|| [PC1, PC2] ||', ha='center', fontsize=\"15\")\n",
    "fig.text(0.045, 0.5, '|| [PC3, PC4] ||', va='center', rotation='vertical',fontsize=\"15\")\n",
    "\n",
    "# plt.savefig(\"regime_plots_clim_change.pdf\",bbox_inches=\"tight\")\n",
    "\n",
    "\n",
    "plt.show()"
   ]
  },
  {
   "cell_type": "code",
   "execution_count": 51,
   "metadata": {},
   "outputs": [],
   "source": [
    "from matplotlib.lines import Line2D\n",
    "legend_elements = [Line2D([0],[0],color=\"#4daf4a\",lw=4,label=\"Truth\"),\n",
    "                    \n",
    "                  Line2D([0],[0],color=\"#377eb8\",lw=2,label=\"RNN\"),\n",
    "                  Line2D([0],[0],color=\"#984ea3\",lw=2,label=\"GAN\")]"
   ]
  },
  {
   "cell_type": "code",
   "execution_count": 53,
   "metadata": {},
   "outputs": [
    {
     "data": {
      "image/png": "[encoded data removed]",
      "text/plain": [
       "<Figure size 1440x720 with 2 Axes>"
      ]
     },
     "metadata": {
      "needs_background": "light"
     },
     "output_type": "display_data"
    }
   ],
   "source": [
    "#joint figure of two regimes\n",
    "\n",
    "bin_seq = np.linspace(0,30,30)\n",
    "bin_seq2 = np.linspace(0,30,30)\n",
    "\n",
    "plt.rcParams['font.size'] = '18'\n",
    "\n",
    "fig, ax = plt.subplots(nrows=1,ncols=2,figsize=(20,10))\n",
    "\n",
    "ax[0].hist(np.ravel(dim1),bins=bin_seq,color=\"#4daf4a\",density=True,histtype=\"step\",linewidth=3)\n",
    "ax[0].hist(np.ravel(dim1_rnn_28[:]),bins=bin_seq,color=\"#377eb8\",density=True,histtype=\"step\")\n",
    "ax[0].hist(np.ravel(dim1_gan_28[:]),bins=bin_seq,color=\"#984ea3\",density=True,histtype=\"step\")\n",
    "\n",
    "ax[1].hist(np.ravel(dim2[:]),bins=bin_seq2,color=\"#4daf4a\",density=True,histtype=\"step\",linewidth=3)\n",
    "ax[1].hist(np.ravel(dim2_rnn_28[:]),bins=bin_seq2,color=\"#377eb8\",density=True,histtype=\"step\")\n",
    "ax[1].hist(np.ravel(dim2_gan_28[:]),bins=bin_seq2,color=\"#984ea3\",density=True,histtype=\"step\")\n",
    "\n",
    "\n",
    "\n",
    "ax[0].text(15, -0.015, '|| [PC1, PC2] ||', ha='center', fontsize=\"19\")\n",
    "ax[1].text(15, -0.015, '|| [PC3, PC4] ||', ha='center', fontsize=\"19\")\n",
    "\n",
    "ax[0].text(-2,0.185,\"(a)\",fontsize=20,va=\"top\")\n",
    "ax[1].text(-2,0.185,\"(b)\",fontsize=20,va=\"top\")\n",
    "\n",
    "fig.legend(handles=legend_elements,loc=(0.075,0.72),prop={\"size\":19})\n",
    "\n",
    "fig.text(0.076, 0.5, 'density', va='center', rotation='vertical',fontsize=\"19\")\n",
    "\n",
    "# ax[0].set_xlim([0,20])\n",
    "ax[0].set_ylim([0,0.175])\n",
    "\n",
    "# ax[1].set_xlim([0,13])\n",
    "ax[1].set_ylim([0,0.175])\n",
    "\n",
    "# plt.savefig(\"clim_change_regime_hists.pdf\",bbox_inches=\"tight\")\n",
    "\n",
    "\n",
    "\n",
    "\n",
    "plt.show()"
   ]
  },
  {
   "cell_type": "code",
   "execution_count": 54,
   "metadata": {},
   "outputs": [],
   "source": [
    "fig,ax = plt.subplots()\n",
    "bin_seq = np.linspace(0,22,30)\n",
    "\n",
    "y_true,_,_ = ax.hist(np.ravel(dim1),bins=bin_seq,color=\"grey\",density=True,histtype=\"step\")\n",
    "y_rnn,_,_ = ax.hist(np.ravel(dim1_rnn_28),bins=bin_seq,color=\"blue\",density=True,histtype=\"step\")\n",
    "y_gan,_,_ = ax.hist(np.ravel(dim1_gan_28),bins=bin_seq,color=\"purple\",density=True,histtype=\"step\")\n",
    "plt.close()\n"
   ]
  },
  {
   "cell_type": "code",
   "execution_count": 55,
   "metadata": {},
   "outputs": [],
   "source": [
    "#deal with numerical stuff due to y_true containing zero\n",
    "y_true = y_true + 1e-10\n",
    "y_rnn = y_rnn + 1e-10\n",
    "y_gan = y_gan + 1e-10\n",
    "\n"
   ]
  },
  {
   "cell_type": "code",
   "execution_count": 56,
   "metadata": {},
   "outputs": [
    {
     "data": {
      "text/plain": [
       "0.007945549419230096"
      ]
     },
     "execution_count": 56,
     "metadata": {},
     "output_type": "execute_result"
    }
   ],
   "source": [
    "#kl between rnn and true\n",
    "np.sum(np.log(y_true/y_rnn)*y_true)\n"
   ]
  },
  {
   "cell_type": "code",
   "execution_count": 57,
   "metadata": {},
   "outputs": [
    {
     "data": {
      "text/plain": [
       "0.008655001673121774"
      ]
     },
     "execution_count": 57,
     "metadata": {},
     "output_type": "execute_result"
    }
   ],
   "source": [
    "#kl between gan and true\n",
    "np.sum(np.log(y_true/y_gan)*y_true)\n",
    "\n"
   ]
  },
  {
   "cell_type": "code",
   "execution_count": 59,
   "metadata": {},
   "outputs": [],
   "source": [
    "fig,ax = plt.subplots()\n",
    "bin_seq2 = np.linspace(0,20,30)\n",
    "\n",
    "\n",
    "y_true2,_,_ = ax.hist(np.ravel(dim2),bins=bin_seq2,color=\"grey\",density=True,histtype=\"step\")\n",
    "y_rnn2,_,_ = ax.hist(np.ravel(dim2_rnn_28),bins=bin_seq2,color=\"blue\",density=True,histtype=\"step\")\n",
    "y_gan2,_,_ = ax.hist(np.ravel(dim2_gan_28),bins=bin_seq2,color=\"blue\",density=True,histtype=\"step\")\n",
    "\n",
    "plt.close()"
   ]
  },
  {
   "cell_type": "code",
   "execution_count": 60,
   "metadata": {},
   "outputs": [],
   "source": [
    "#deal with numerical stuff due to y_true containing zero\n",
    "y_true2 = y_true2 + 1e-10\n",
    "y_rnn2 = y_rnn2 + 1e-10\n",
    "y_gan2= y_gan2 + 1e-10"
   ]
  },
  {
   "cell_type": "code",
   "execution_count": 61,
   "metadata": {},
   "outputs": [
    {
     "data": {
      "text/plain": [
       "0.005562571001021655"
      ]
     },
     "execution_count": 61,
     "metadata": {},
     "output_type": "execute_result"
    }
   ],
   "source": [
    "#kl between rnn and true\n",
    "np.sum(np.log(y_true2/y_rnn2)*y_true2)\n"
   ]
  },
  {
   "cell_type": "code",
   "execution_count": 62,
   "metadata": {},
   "outputs": [
    {
     "data": {
      "text/plain": [
       "0.0038167633698695017"
      ]
     },
     "execution_count": 62,
     "metadata": {},
     "output_type": "execute_result"
    }
   ],
   "source": [
    "#kl between gan and true\n",
    "np.sum(np.log(y_true2/y_gan2)*y_true2)\n"
   ]
  }
 ],
 "metadata": {
  "kernelspec": {
   "display_name": "Python 3",
   "language": "python",
   "name": "python3"
  },
  "language_info": {
   "codemirror_mode": {
    "name": "ipython",
    "version": 3
   },
   "file_extension": ".py",
   "mimetype": "text/x-python",
   "name": "python",
   "nbconvert_exporter": "python",
   "pygments_lexer": "ipython3",
   "version": "3.8.5"
  }
 },
 "nbformat": 4,
 "nbformat_minor": 4
}
