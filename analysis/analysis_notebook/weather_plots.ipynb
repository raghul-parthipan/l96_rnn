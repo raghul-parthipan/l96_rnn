{
 "cells": [
  {
   "cell_type": "code",
   "execution_count": 1,
   "metadata": {},
   "outputs": [],
   "source": [
    "import matplotlib.pyplot as plt\n",
    "import seaborn as sns\n",
    "import numpy as np\n",
    "import sklearn\n",
    "sns.set_style('whitegrid')\n",
    "import seaborn as sns\n",
    "import time\n",
    "from pickle import load\n",
    "\n",
    "import math\n",
    "import os\n",
    "from matplotlib.ticker import MultipleLocator\n",
    "import matplotlib"
   ]
  },
  {
   "cell_type": "code",
   "execution_count": 2,
   "metadata": {},
   "outputs": [],
   "source": [
    "k = 8\n",
    "J = 32"
   ]
  },
  {
   "cell_type": "markdown",
   "metadata": {},
   "source": [
    "# Load data # "
   ]
  },
  {
   "cell_type": "code",
   "execution_count": 3,
   "metadata": {},
   "outputs": [],
   "source": [
    "truth_weather = np.load(\"../../data/truth_run/weather_experiments/weather_array_longer.npy\")"
   ]
  },
  {
   "cell_type": "code",
   "execution_count": 4,
   "metadata": {},
   "outputs": [
    {
     "data": {
      "text/plain": [
       "(745, 700, 8)"
      ]
     },
     "execution_count": 4,
     "metadata": {},
     "output_type": "execute_result"
    }
   ],
   "source": [
    "truth_weather.shape"
   ]
  },
  {
   "cell_type": "code",
   "execution_count": 5,
   "metadata": {},
   "outputs": [],
   "source": [
    "truth_weather = truth_weather.transpose([0,2,1])"
   ]
  },
  {
   "cell_type": "code",
   "execution_count": 6,
   "metadata": {},
   "outputs": [
    {
     "data": {
      "text/plain": [
       "(745, 8, 700)"
      ]
     },
     "execution_count": 6,
     "metadata": {},
     "output_type": "execute_result"
    }
   ],
   "source": [
    "truth_weather.shape"
   ]
  },
  {
   "cell_type": "code",
   "execution_count": 7,
   "metadata": {},
   "outputs": [],
   "source": [
    "poly_weather = np.load(\"../../data/simulation_runs/polynomial_param/weather_experiments/weather_array_longer.npy\")"
   ]
  },
  {
   "cell_type": "code",
   "execution_count": 8,
   "metadata": {},
   "outputs": [
    {
     "data": {
      "text/plain": [
       "(745, 40, 8, 700)"
      ]
     },
     "execution_count": 8,
     "metadata": {},
     "output_type": "execute_result"
    }
   ],
   "source": [
    "poly_weather.shape"
   ]
  },
  {
   "cell_type": "code",
   "execution_count": 9,
   "metadata": {},
   "outputs": [],
   "source": [
    "rnn_weather = np.load(\"../../data/simulation_runs/rnn/rnn_final/f_20_data/weather_array_long_700.npy\")"
   ]
  },
  {
   "cell_type": "code",
   "execution_count": 10,
   "metadata": {},
   "outputs": [],
   "source": [
    "gan_weather = np.load(\"../../data/simulation_runs/gan_gagne/corrected_gans/weather_array_longer.npy\")"
   ]
  },
  {
   "cell_type": "code",
   "execution_count": 11,
   "metadata": {},
   "outputs": [
    {
     "data": {
      "text/plain": [
       "(745, 40, 8, 700)"
      ]
     },
     "execution_count": 11,
     "metadata": {},
     "output_type": "execute_result"
    }
   ],
   "source": [
    "gan_weather.shape"
   ]
  },
  {
   "cell_type": "markdown",
   "metadata": {},
   "source": [
    "# Method #"
   ]
  },
  {
   "cell_type": "code",
   "execution_count": 12,
   "metadata": {},
   "outputs": [
    {
     "data": {
      "text/plain": [
       "(745, 40, 8, 700)"
      ]
     },
     "execution_count": 12,
     "metadata": {},
     "output_type": "execute_result"
    }
   ],
   "source": [
    "poly_weather.shape"
   ]
  },
  {
   "cell_type": "code",
   "execution_count": 13,
   "metadata": {},
   "outputs": [
    {
     "data": {
      "text/plain": [
       "(745, 8, 700)"
      ]
     },
     "execution_count": 13,
     "metadata": {},
     "output_type": "execute_result"
    }
   ],
   "source": [
    "truth_weather.shape"
   ]
  },
  {
   "cell_type": "code",
   "execution_count": 14,
   "metadata": {},
   "outputs": [],
   "source": [
    "expectation_poly_x_tk = np.mean(poly_weather[:,:,:,:],axis=1)"
   ]
  },
  {
   "cell_type": "code",
   "execution_count": 15,
   "metadata": {},
   "outputs": [
    {
     "data": {
      "text/plain": [
       "(745, 8, 700)"
      ]
     },
     "execution_count": 15,
     "metadata": {},
     "output_type": "execute_result"
    }
   ],
   "source": [
    "expectation_poly_x_tk.shape"
   ]
  },
  {
   "cell_type": "code",
   "execution_count": 16,
   "metadata": {},
   "outputs": [],
   "source": [
    "error_square = np.mean((expectation_poly_x_tk[:,:,:] - truth_weather[:,:,:])**2,axis=(0,1))"
   ]
  },
  {
   "cell_type": "code",
   "execution_count": 17,
   "metadata": {},
   "outputs": [],
   "source": [
    "poly_error = error_square**0.5"
   ]
  },
  {
   "cell_type": "code",
   "execution_count": 18,
   "metadata": {},
   "outputs": [],
   "source": [
    "expectation_rnn_x_tk = np.mean(rnn_weather[:,:,:,:],axis=1)\n",
    "\n",
    "error_square = np.mean((expectation_rnn_x_tk[:,:,:] - truth_weather[:,:,:])**2,axis=(0,1))\n",
    "    \n",
    "rnn_error = error_square**0.5"
   ]
  },
  {
   "cell_type": "code",
   "execution_count": 19,
   "metadata": {},
   "outputs": [],
   "source": [
    "expectation_gan_x_tk = np.mean(gan_weather[:,:,:,:],axis=1)\n",
    "\n",
    "error_square = np.mean((expectation_gan_x_tk[:,:,:] - truth_weather[:,:,:])**2,axis=(0,1))\n",
    "gan_error = error_square**0.5"
   ]
  },
  {
   "cell_type": "code",
   "execution_count": 20,
   "metadata": {},
   "outputs": [
    {
     "data": {
      "text/plain": [
       "(745, 40, 8, 700)"
      ]
     },
     "execution_count": 20,
     "metadata": {},
     "output_type": "execute_result"
    }
   ],
   "source": [
    "poly_repeat = np.repeat(expectation_poly_x_tk[:,np.newaxis,:,:],40,axis=1)\n",
    "poly_repeat.shape"
   ]
  },
  {
   "cell_type": "code",
   "execution_count": 21,
   "metadata": {},
   "outputs": [
    {
     "data": {
      "text/plain": [
       "(745, 40, 8, 700)"
      ]
     },
     "execution_count": 21,
     "metadata": {},
     "output_type": "execute_result"
    }
   ],
   "source": [
    "poly_weather.shape"
   ]
  },
  {
   "cell_type": "code",
   "execution_count": 22,
   "metadata": {},
   "outputs": [],
   "source": [
    "spread_square = np.mean((poly_weather - poly_repeat)**2,axis=(0,1,2))\n",
    "poly_spread = spread_square**0.5"
   ]
  },
  {
   "cell_type": "code",
   "execution_count": 23,
   "metadata": {},
   "outputs": [],
   "source": [
    "rnn_repeat = np.repeat(expectation_rnn_x_tk[:,np.newaxis,:,:],40,axis=1)\n",
    "\n",
    "spread_square = np.mean((rnn_weather - rnn_repeat)**2,axis=(0,1,2))\n",
    "rnn_spread = spread_square**0.5"
   ]
  },
  {
   "cell_type": "code",
   "execution_count": 24,
   "metadata": {},
   "outputs": [],
   "source": [
    "gan_repeat = np.repeat(expectation_gan_x_tk[:,np.newaxis,:,:],40,axis=1)\n",
    "\n",
    "spread_square = np.mean((gan_weather - gan_repeat)**2,axis=(0,1,2))\n",
    "gan_spread = spread_square**0.5"
   ]
  },
  {
   "cell_type": "code",
   "execution_count": 25,
   "metadata": {},
   "outputs": [],
   "source": [
    "from matplotlib.lines import Line2D\n",
    "legend_elements = [\n",
    "                    Line2D([0],[0],color=\"#e41a1c\",lw=2,label=\"Polynomial Error\"),\n",
    "    Line2D([0],[0],color=\"#e41a1c\",lw=2,label=\"Polynomial Spread\",linestyle=\"dashed\"),\n",
    "                  Line2D([0],[0],color=\"#377eb8\",lw=2,label=\"RNN Error\"),\n",
    "                      Line2D([0],[0],color=\"#377eb8\",lw=2,label=\"RNN Spread\",linestyle=\"dashed\"),\n",
    "\n",
    "                  Line2D([0],[0],color=\"#984ea3\",lw=2,label=\"GAN Error\",linestyle=\"dashed\"),\n",
    "                  Line2D([0],[0],color=\"#984ea3\",lw=2,label=\"GAN Spread\")]\n",
    "\n",
    "#Line2D([0],[0],color=\"cyan\",lw=2,label=\"RNN reset h\")]"
   ]
  },
  {
   "cell_type": "code",
   "execution_count": 37,
   "metadata": {},
   "outputs": [],
   "source": [
    "x_axis_new = np.arange(0,3.5,3.5/700)"
   ]
  },
  {
   "cell_type": "code",
   "execution_count": 38,
   "metadata": {},
   "outputs": [
    {
     "data": {
      "image/png": "[encoded data removed]",
      "text/plain": [
       "<Figure size 504x504 with 1 Axes>"
      ]
     },
     "metadata": {},
     "output_type": "display_data"
    }
   ],
   "source": [
    "#x_axis = np.arange(0,400,1)\n",
    "\n",
    "fig,ax = plt.subplots(figsize=(7,7))\n",
    "plt.rcParams['font.size'] = '15'\n",
    "\n",
    "ax.plot(x_axis_new,poly_error,color=\"#e41a1c\")\n",
    "ax.plot(x_axis_new,poly_spread,linestyle=\"dashed\",color=\"#e41a1c\")\n",
    "ax.plot(x_axis_new,rnn_error,color=\"#377eb8\")\n",
    "ax.plot(x_axis_new,rnn_spread,color=\"#377eb8\",linestyle=\"dashed\")\n",
    "ax.plot(x_axis_new,gan_error,color=\"#984ea3\")\n",
    "ax.plot(x_axis_new,gan_spread,color=\"#984ea3\",linestyle=\"dashed\")\n",
    "\n",
    "fig.legend(handles=legend_elements,loc=(0.5,0.13),prop={\"size\":15})\n",
    "fig.text(0.5, 0.05, 'Forecast period / MTU', ha='center',fontsize=\"16\")\n",
    "\n",
    "ax.set_xlim([0,3.5])\n",
    "ax.set_ylim([0,5])\n",
    "\n",
    "\n",
    "plt.savefig(\"weather_plot.pdf\",bbox_inches=\"tight\")\n",
    "\n",
    "\n",
    "plt.show()\n",
    "\n"
   ]
  },
  {
   "cell_type": "code",
   "execution_count": null,
   "metadata": {},
   "outputs": [],
   "source": []
  }
 ],
 "metadata": {
  "kernelspec": {
   "display_name": "Python 3",
   "language": "python",
   "name": "python3"
  },
  "language_info": {
   "codemirror_mode": {
    "name": "ipython",
    "version": 3
   },
   "file_extension": ".py",
   "mimetype": "text/x-python",
   "name": "python",
   "nbconvert_exporter": "python",
   "pygments_lexer": "ipython3",
   "version": "3.8.5"
  }
 },
 "nbformat": 4,
 "nbformat_minor": 4
}
