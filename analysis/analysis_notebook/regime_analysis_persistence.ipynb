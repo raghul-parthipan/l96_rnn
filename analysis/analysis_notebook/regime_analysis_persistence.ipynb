{
 "cells": [
  {
   "cell_type": "markdown",
   "metadata": {},
   "source": [
    "This analysis follows that from Christensen et al., (2015) where a covariance diagnostic is used to determine the regimes."
   ]
  },
  {
   "cell_type": "code",
   "execution_count": 1,
   "metadata": {},
   "outputs": [],
   "source": [
    "import matplotlib.pyplot as plt\n",
    "import seaborn as sns\n",
    "import numpy as np\n",
    "import sklearn\n",
    "sns.set_style('darkgrid')\n",
    "import seaborn as sns\n",
    "import time\n",
    "from pickle import load\n",
    "\n",
    "import math\n",
    "import os\n",
    "from matplotlib.ticker import MultipleLocator"
   ]
  },
  {
   "cell_type": "code",
   "execution_count": 2,
   "metadata": {},
   "outputs": [],
   "source": [
    "k = 8\n",
    "J = 32"
   ]
  },
  {
   "cell_type": "code",
   "execution_count": 3,
   "metadata": {},
   "outputs": [],
   "source": [
    "def sum_consecutive(s):\n",
    "    p = s[:1]   # final list\n",
    "    cur = s[0]  # keep track of last seen value\n",
    "\n",
    "    for i in s[1:]:  # your exercise: replace this with `range` \n",
    "        if i == cur:\n",
    "            p[-1] += i\n",
    "        else:\n",
    "            p.append(i)\n",
    "            cur = i\n",
    "\n",
    "    return p"
   ]
  },
  {
   "cell_type": "markdown",
   "metadata": {},
   "source": [
    "# F 21.5 #\n"
   ]
  },
  {
   "cell_type": "code",
   "execution_count": 4,
   "metadata": {},
   "outputs": [],
   "source": [
    "\n",
    "truth_set_full = np.load(\"../../data/truth_run/climate_change_exp/full_val_21_5_set.npy\")[:,:,0]\n",
    "\n",
    "train_dataset_x = truth_set_full[:1000000,:]\n",
    "\n",
    "total_energy_train = np.sum(train_dataset_x**2,axis=1)*0.5\n",
    "\n",
    "time = np.arange(0,train_dataset_x.shape[0],1)"
   ]
  },
  {
   "cell_type": "code",
   "execution_count": 5,
   "metadata": {},
   "outputs": [
    {
     "data": {
      "text/plain": [
       "18.916462583249167"
      ]
     },
     "execution_count": 5,
     "metadata": {},
     "output_type": "execute_result"
    }
   ],
   "source": [
    "train_dataset_x.max()"
   ]
  },
  {
   "cell_type": "code",
   "execution_count": 71,
   "metadata": {},
   "outputs": [
    {
     "data": {
      "text/plain": [
       "(array([2.20000e+01, 5.82000e+02, 4.12200e+03, 1.33800e+04, 2.71790e+04,\n",
       "        5.05040e+04, 8.04390e+04, 1.09732e+05, 1.36232e+05, 1.59791e+05,\n",
       "        1.83750e+05, 2.08131e+05, 2.50767e+05, 2.90545e+05, 3.28365e+05,\n",
       "        3.62266e+05, 3.89670e+05, 4.12743e+05, 4.37458e+05, 4.52091e+05,\n",
       "        4.50022e+05, 4.18481e+05, 3.84830e+05, 3.56247e+05, 3.32749e+05,\n",
       "        3.01222e+05, 2.76683e+05, 2.63223e+05, 2.48803e+05, 2.26692e+05,\n",
       "        2.05853e+05, 1.83216e+05, 1.57001e+05, 1.30595e+05, 9.03580e+04,\n",
       "        4.81940e+04, 1.97120e+04, 6.96100e+03, 1.25100e+03, 1.38000e+02]),\n",
       " array([-12.0304524 , -11.25677952, -10.48310665,  -9.70943378,\n",
       "         -8.9357609 ,  -8.16208803,  -7.38841515,  -6.61474228,\n",
       "         -5.8410694 ,  -5.06739653,  -4.29372365,  -3.52005078,\n",
       "         -2.7463779 ,  -1.97270503,  -1.19903216,  -0.42535928,\n",
       "          0.34831359,   1.12198647,   1.89565934,   2.66933222,\n",
       "          3.44300509,   4.21667797,   4.99035084,   5.76402372,\n",
       "          6.53769659,   7.31136946,   8.08504234,   8.85871521,\n",
       "          9.63238809,  10.40606096,  11.17973384,  11.95340671,\n",
       "         12.72707959,  13.50075246,  14.27442534,  15.04809821,\n",
       "         15.82177109,  16.59544396,  17.36911683,  18.14278971,\n",
       "         18.91646258]),\n",
       " <BarContainer object of 40 artists>)"
      ]
     },
     "execution_count": 71,
     "metadata": {},
     "output_type": "execute_result"
    },
    {
     "data": {
      "image/png": "[encoded data removed]",
      "text/plain": [
       "<Figure size 432x288 with 1 Axes>"
      ]
     },
     "metadata": {},
     "output_type": "display_data"
    }
   ],
   "source": [
    "plt.hist(np.ravel(train_dataset_x),bins=40)"
   ]
  },
  {
   "cell_type": "code",
   "execution_count": 64,
   "metadata": {},
   "outputs": [
    {
     "name": "stdout",
     "output_type": "stream",
     "text": [
      "99\n",
      "999799\n",
      "999999\n"
     ]
    }
   ],
   "source": [
    "#here a rolling window for cov_diagnostic is used\n",
    "cov_diagnostic_2 = np.zeros(train_dataset_x.shape[0],)\n",
    "step_for_diagnostic = 200\n",
    "for i in range(int(200/2)):\n",
    "    array = train_dataset_x[:200,:]\n",
    "    cov = np.cov(array,rowvar=False)\n",
    "    cov_values = cov[0,4] + cov[1,5] + cov[2,6] + cov[3,7]\n",
    "    cov_diagnostic_2[i,] = cov_values/4\n",
    "print(i)\n",
    "for j in np.arange(100,train_dataset_x.shape[0]-200):\n",
    "    array = train_dataset_x[j-100:j+100,:]\n",
    "    cov = np.cov(array,rowvar=False)\n",
    "    cov_values = cov[0,4] + cov[1,5] + cov[2,6] + cov[3,7]\n",
    "    cov_diagnostic_2[j,] = cov_values/4\n",
    "print(j)\n",
    "for m in np.arange(j+1,train_dataset_x.shape[0]):\n",
    "    array = train_dataset_x[j+1:,:]\n",
    "    cov = np.cov(array,rowvar=False)\n",
    "    cov_values = cov[0,4] + cov[1,5] + cov[2,6] + cov[3,7]\n",
    "    cov_diagnostic_2[m,] = cov_values/4\n",
    "print(m)"
   ]
  },
  {
   "cell_type": "code",
   "execution_count": 65,
   "metadata": {},
   "outputs": [],
   "source": [
    "regime_2 = np.zeros(train_dataset_x.shape[0],)\n",
    "for i in range(train_dataset_x.shape[0]):\n",
    "    if cov_diagnostic_2[i,] > 0:\n",
    "        regime_2[i,] = 1\n",
    "    else: regime_2[i,] = 0"
   ]
  },
  {
   "cell_type": "code",
   "execution_count": 67,
   "metadata": {},
   "outputs": [],
   "source": [
    "#work out time spend in regime a \n",
    "regime_a = sum_consecutive(regime_2.tolist())\n",
    "\n",
    "regime_a = [i for i in regime_a if i != 0.0]\n",
    "\n",
    "\n",
    "#now convert time into mtu\n",
    "regime_a = np.asarray(regime_a)*0.005"
   ]
  },
  {
   "cell_type": "code",
   "execution_count": 77,
   "metadata": {},
   "outputs": [
    {
     "data": {
      "image/png": "[encoded data removed]",
      "text/plain": [
       "<Figure size 432x288 with 1 Axes>"
      ]
     },
     "metadata": {},
     "output_type": "display_data"
    }
   ],
   "source": [
    "#fig 14 a \n",
    "plt.hist(regime_a,bins=20)\n",
    "plt.show()"
   ]
  },
  {
   "cell_type": "code",
   "execution_count": 78,
   "metadata": {},
   "outputs": [
    {
     "data": {
      "text/plain": [
       "3.72530303030303"
      ]
     },
     "execution_count": 78,
     "metadata": {},
     "output_type": "execute_result"
    }
   ],
   "source": [
    "np.mean(regime_a)"
   ]
  },
  {
   "cell_type": "code",
   "execution_count": 68,
   "metadata": {},
   "outputs": [],
   "source": [
    "#work out time spend in regime a \n",
    "regime_b = sum_consecutive((regime_2-1).tolist())\n",
    "\n",
    "regime_b = [i for i in regime_b if i != 0.0]\n",
    "\n",
    "\n",
    "#now convert time into mtu\n",
    "regime_b = np.asarray(regime_b)*0.005*-1"
   ]
  },
  {
   "cell_type": "code",
   "execution_count": 80,
   "metadata": {},
   "outputs": [
    {
     "data": {
      "image/png": "[encoded data removed]",
      "text/plain": [
       "<Figure size 432x288 with 1 Axes>"
      ]
     },
     "metadata": {},
     "output_type": "display_data"
    }
   ],
   "source": [
    "#fig 14 b\n",
    "plt.hist(regime_b,bins=20)\n",
    "plt.show()"
   ]
  },
  {
   "cell_type": "code",
   "execution_count": 40,
   "metadata": {},
   "outputs": [
    {
     "data": {
      "text/plain": [
       "2.321234939759036"
      ]
     },
     "execution_count": 40,
     "metadata": {},
     "output_type": "execute_result"
    }
   ],
   "source": [
    "np.mean(regime_b)"
   ]
  },
  {
   "cell_type": "markdown",
   "metadata": {},
   "source": [
    "Proportion of time spent in rarer regime."
   ]
  },
  {
   "cell_type": "code",
   "execution_count": 69,
   "metadata": {},
   "outputs": [
    {
     "data": {
      "text/plain": [
       "0.378614"
      ]
     },
     "execution_count": 69,
     "metadata": {},
     "output_type": "execute_result"
    }
   ],
   "source": [
    "1 - np.average(regime_2)"
   ]
  },
  {
   "cell_type": "markdown",
   "metadata": {},
   "source": [
    "# F = 28 "
   ]
  },
  {
   "cell_type": "code",
   "execution_count": 75,
   "metadata": {},
   "outputs": [],
   "source": [
    "truth_set_full = np.load(\"../../data/truth_run/climate_change_exp/full_28_set.npy\")[:,:,0]"
   ]
  },
  {
   "cell_type": "code",
   "execution_count": 59,
   "metadata": {},
   "outputs": [
    {
     "name": "stdout",
     "output_type": "stream",
     "text": [
      "99\n",
      "999799\n",
      "999999\n"
     ]
    }
   ],
   "source": [
    "train_dataset_x = truth_set_full[:1000000,:]\n",
    "\n",
    "total_energy_train = np.sum(train_dataset_x**2,axis=1)*0.5\n",
    "\n",
    "time = np.arange(0,train_dataset_x.shape[0],1)\n",
    "\n",
    "#here a rolling window for cov_diagnostic is used\n",
    "cov_diagnostic_2 = np.zeros(train_dataset_x.shape[0],)\n",
    "step_for_diagnostic = 200\n",
    "for i in range(int(200/2)):\n",
    "    array = train_dataset_x[:200,:]\n",
    "    cov = np.cov(array,rowvar=False)\n",
    "    cov_values = cov[0,4] + cov[1,5] + cov[2,6] + cov[3,7]\n",
    "    cov_diagnostic_2[i,] = cov_values/4\n",
    "print(i)\n",
    "for j in np.arange(100,train_dataset_x.shape[0]-200):\n",
    "    array = train_dataset_x[j-100:j+100,:]\n",
    "    cov = np.cov(array,rowvar=False)\n",
    "    cov_values = cov[0,4] + cov[1,5] + cov[2,6] + cov[3,7]\n",
    "    cov_diagnostic_2[j,] = cov_values/4\n",
    "print(j)\n",
    "for m in np.arange(j+1,train_dataset_x.shape[0]):\n",
    "    array = train_dataset_x[j+1:,:]\n",
    "    cov = np.cov(array,rowvar=False)\n",
    "    cov_values = cov[0,4] + cov[1,5] + cov[2,6] + cov[3,7]\n",
    "    cov_diagnostic_2[m,] = cov_values/4\n",
    "print(m)"
   ]
  },
  {
   "cell_type": "markdown",
   "metadata": {},
   "source": [
    "Proportion of time spent in rarer regime."
   ]
  },
  {
   "cell_type": "code",
   "execution_count": 60,
   "metadata": {},
   "outputs": [
    {
     "data": {
      "text/plain": [
       "0.500576"
      ]
     },
     "execution_count": 60,
     "metadata": {},
     "output_type": "execute_result"
    }
   ],
   "source": [
    "regime_2 = np.zeros(train_dataset_x.shape[0],)\n",
    "for i in range(train_dataset_x.shape[0]):\n",
    "    if cov_diagnostic_2[i,] > 0:\n",
    "        regime_2[i,] = 1\n",
    "    else: regime_2[i,] = 0\n",
    "\n",
    "1 - np.average(regime_2)"
   ]
  }
 ],
 "metadata": {
  "kernelspec": {
   "display_name": "Python 3",
   "language": "python",
   "name": "python3"
  },
  "language_info": {
   "codemirror_mode": {
    "name": "ipython",
    "version": 3
   },
   "file_extension": ".py",
   "mimetype": "text/x-python",
   "name": "python",
   "nbconvert_exporter": "python",
   "pygments_lexer": "ipython3",
   "version": "3.8.5"
  }
 },
 "nbformat": 4,
 "nbformat_minor": 4
}
