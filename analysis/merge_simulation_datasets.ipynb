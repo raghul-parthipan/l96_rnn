{
 "cells": [
  {
   "cell_type": "markdown",
   "metadata": {},
   "source": [
    "If for computational reasons, you had to create consecutive chunks for the long simulation datasets, now you need to merge them into one array."
   ]
  },
  {
   "cell_type": "code",
   "execution_count": 1,
   "metadata": {},
   "outputs": [],
   "source": [
    "import numpy as np\n",
    "import sklearn\n",
    "import time\n",
    "from pickle import dump,load\n",
    "import os\n",
    "\n",
    "k = 8\n",
    "J = 32"
   ]
  },
  {
   "cell_type": "markdown",
   "metadata": {},
   "source": [
    "# RNN # "
   ]
  },
  {
   "cell_type": "code",
   "execution_count": null,
   "metadata": {},
   "outputs": [],
   "source": [
    "#load all the simulation data you made (if they were in separate files)\n",
    "\n",
    "# #e.g.#\n",
    "\n",
    "# set1 = np.load(\"../data/simulation_runs/rnn/rnn_final/f_20_data/0.npy\")\n",
    "# set2 = np.load(\"../data/simulation_runs/rnn/rnn_final/f_20_data/1.npy\")\n",
    "\n",
    "# full = np.concatenate([set1,set2],axis=1)\n",
    "# full = np.swapaxes(full,0,1)\n",
    "\n",
    "# np.save(\"../data/simulation_runs/rnn/rnn_final/f_20_data/f_20_all.npy\",full)"
   ]
  },
  {
   "cell_type": "code",
   "execution_count": null,
   "metadata": {},
   "outputs": [],
   "source": [
    "\n",
    "# set1 = np.load(\"../data/simulation_runs/rnn/rnn_final/clim_change/0.npy\")\n",
    "# set2 = np.load(\"../data/simulation_runs/rnn/rnn_final/clim_change/1.npy\")\n",
    "\n",
    "# full = np.concatenate([set1,set2],axis=1)\n",
    "# full = np.swapaxes(full,0,1)\n",
    "\n",
    "# np.save(\"../data/simulation_runs/rnn/rnn_final/clim_change/f_23_all.npy\",full)"
   ]
  },
  {
   "cell_type": "markdown",
   "metadata": {},
   "source": [
    "# GAN #"
   ]
  },
  {
   "cell_type": "code",
   "execution_count": null,
   "metadata": {},
   "outputs": [],
   "source": [
    "\n",
    "# set1 = np.load(\"../data/simulation_runs/gan_gagne/corrected_gans/extra.npy\")\n",
    "# set2 = np.load(\"../data/simulation_runs/gan_gagne/corrected_gans/extra2.npy\")\n",
    "\n",
    "# full = np.concatenate([set1,set2],axis=1)\n",
    "# full = np.swapaxes(full,0,1)\n",
    "\n",
    "# np.save(\"../data/simulation_runs/gan_gagne/corrected_gans/f_20_all.npy\",full)"
   ]
  },
  {
   "cell_type": "code",
   "execution_count": null,
   "metadata": {},
   "outputs": [],
   "source": [
    "\n",
    "# set1 = np.load(\"../data/simulation_runs/gan_gagne/corrected_gans/climate_change_exp2/extra.npy\")\n",
    "# set2 = np.load(\"../data/simulation_runs/gan_gagne/corrected_gans/climate_change_exp2/extra2.npy\")\n",
    "\n",
    "# full = np.concatenate([set1,set2],axis=1)\n",
    "# full = np.swapaxes(full,0,1)\n",
    "\n",
    "# np.save(\"../data/simulation_runs/gan_gagne/corrected_gans/climate_change_exp2/f_23_all.npy\",full)"
   ]
  },
  {
   "cell_type": "markdown",
   "metadata": {},
   "source": [
    "# Poly # "
   ]
  },
  {
   "cell_type": "code",
   "execution_count": null,
   "metadata": {},
   "outputs": [],
   "source": [
    "\n",
    "# set1 = np.load(\"../data/simulation_runs/polynomial_param/extra_dataset.npy\")\n",
    "# set2 = np.load(\"../data/simulation_runs/polynomial_param/extra_dataset2.npy\")\n",
    "\n",
    "# full = np.concatenate([set1,set2],axis=1)\n",
    "# full = np.swapaxes(full,0,1)\n",
    "\n",
    "# np.save(\"../data/simulation_runs/polynomial_param/f_20_all.npy\",full)"
   ]
  },
  {
   "cell_type": "code",
   "execution_count": null,
   "metadata": {},
   "outputs": [],
   "source": [
    "\n",
    "# set1 = np.load(\"../data/simulation_runs/polynomial_param/climate_change/extra_dataset_a.npy\")\n",
    "# set2 = np.load(\"../data/simulation_runs/polynomial_param/climate_change/extra_dataset2_a.npy\")\n",
    "\n",
    "# full = np.concatenate([set1,set2],axis=1)\n",
    "# full = np.swapaxes(full,0,1)\n",
    "\n",
    "# np.save(\"../data/simulation_runs/polynomial_param/climate_change/f_23_all.npy\",full)"
   ]
  }
 ],
 "metadata": {
  "kernelspec": {
   "display_name": "Python 3",
   "language": "python",
   "name": "python3"
  },
  "language_info": {
   "codemirror_mode": {
    "name": "ipython",
    "version": 3
   },
   "file_extension": ".py",
   "mimetype": "text/x-python",
   "name": "python",
   "nbconvert_exporter": "python",
   "pygments_lexer": "ipython3",
   "version": "3.8.5"
  }
 },
 "nbformat": 4,
 "nbformat_minor": 4
}
