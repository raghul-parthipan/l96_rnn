{
 "cells": [
  {
   "cell_type": "markdown",
   "metadata": {},
   "source": [
    "This creates the data for the weather analysis."
   ]
  },
  {
   "cell_type": "code",
   "execution_count": null,
   "metadata": {},
   "outputs": [],
   "source": [
    "import numpy as np\n",
    "import sklearn\n",
    "import time\n",
    "from pickle import dump,load\n",
    "import os"
   ]
  },
  {
   "cell_type": "code",
   "execution_count": null,
   "metadata": {},
   "outputs": [],
   "source": [
    "k = 8\n",
    "J = 32"
   ]
  },
  {
   "cell_type": "markdown",
   "metadata": {},
   "source": [
    "# Load F=20 data #"
   ]
  },
  {
   "cell_type": "code",
   "execution_count": null,
   "metadata": {},
   "outputs": [],
   "source": [
    "#load all the truth data you made (if they were in separate files)\n",
    "\n",
    "#e.g.#\n",
    "\n",
    "set1 = np.load(\"../data/truth_run/extra.npy\")\n",
    "set2 = np.load(\"../data/truth_run/extra2.npy\")\n",
    "\n",
    "truth_set_full = np.concatenate([set1,set2],axis=0)\n",
    "truth_list = [set1,set2]"
   ]
  },
  {
   "cell_type": "markdown",
   "metadata": {},
   "source": [
    "# Create weather truth array #"
   ]
  },
  {
   "cell_type": "code",
   "execution_count": null,
   "metadata": {},
   "outputs": [],
   "source": [
    "#select 750 initial conditions from truth attractor\n",
    "\n",
    "#start by creating empty array of size 750 x 400 x k, to store data\n",
    "\n",
    "weather_array = np.zeros(shape=(750,700,k))"
   ]
  },
  {
   "cell_type": "code",
   "execution_count": null,
   "metadata": {},
   "outputs": [],
   "source": [
    "num_init_conds = 750\n",
    "length_simulations = 700"
   ]
  },
  {
   "cell_type": "code",
   "execution_count": null,
   "metadata": {},
   "outputs": [],
   "source": [
    "a = 0\n",
    "for i in truth_list:\n",
    "    num_seq = int(i.shape[0]/truth_set_full.shape[0] * 750)\n",
    "    for j in range(num_seq):\n",
    "        starting_index = np.random.randint(0,i.shape[0]-length_simulations)\n",
    "        seq = i[starting_index:starting_index+length_simulations,:]\n",
    "        weather_array[a,:,:] = seq\n",
    "        a = a+1\n",
    "\n",
    "weather_array = weather_array[:a,:,:]"
   ]
  },
  {
   "cell_type": "code",
   "execution_count": null,
   "metadata": {},
   "outputs": [],
   "source": [
    "np.save(\"data/truth_run/weather_experiments/weather_array_longer.npy\",weather_array)"
   ]
  }
 ],
 "metadata": {
  "kernelspec": {
   "display_name": "Python 3",
   "language": "python",
   "name": "python3"
  },
  "language_info": {
   "codemirror_mode": {
    "name": "ipython",
    "version": 3
   },
   "file_extension": ".py",
   "mimetype": "text/x-python",
   "name": "python",
   "nbconvert_exporter": "python",
   "pygments_lexer": "ipython3",
   "version": "3.8.5"
  }
 },
 "nbformat": 4,
 "nbformat_minor": 4
}
