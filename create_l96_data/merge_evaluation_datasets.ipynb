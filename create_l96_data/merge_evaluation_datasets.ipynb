{
 "cells": [
  {
   "cell_type": "markdown",
   "metadata": {},
   "source": [
    "If for computational reasons, you had to create consecutive chunks for the eval datasets, now you need to merge them into one array."
   ]
  },
  {
   "cell_type": "code",
   "execution_count": 1,
   "metadata": {},
   "outputs": [],
   "source": [
    "import numpy as np\n",
    "import sklearn\n",
    "import time\n",
    "from pickle import dump,load\n",
    "import os\n",
    "\n",
    "k = 8\n",
    "J = 32"
   ]
  },
  {
   "cell_type": "markdown",
   "metadata": {},
   "source": [
    "# F=20 data #"
   ]
  },
  {
   "cell_type": "code",
   "execution_count": null,
   "metadata": {},
   "outputs": [],
   "source": [
    "#load all the truth data you made (if they were in separate files)\n",
    "\n",
    "#e.g.#\n",
    "\n",
    "set1 = np.load(\"../data/truth_run/extra.npy\")\n",
    "set2 = np.load(\"../data/truth_run/extra2.npy\")\n",
    "\n",
    "truth_set_full = np.concatenate([set1,set2],axis=0)\n",
    "\n",
    "np.save(\"../data/truth_run/climate_eval_dataset.npy\",truth_set_full)"
   ]
  },
  {
   "cell_type": "markdown",
   "metadata": {},
   "source": [
    "# F=28 data #"
   ]
  },
  {
   "cell_type": "code",
   "execution_count": null,
   "metadata": {},
   "outputs": [],
   "source": [
    "#load all the truth data you made (if they were in separate files)\n",
    "\n",
    "#e.g.#\n",
    "\n",
    "set1 = np.load(\"../data/truth_run/climate_change_exp/test_1.npy\")\n",
    "set2 = np.load(\"../data/truth_run/climate_change_exp/test_2.npy\")\n",
    "\n",
    "truth_set_full = np.concatenate([set1,set2],axis=0)\n",
    "\n",
    "np.save(\"../data/truth_run/climate_change_exp/full_test_set.npy\",truth_set_full)"
   ]
  }
 ],
 "metadata": {
  "kernelspec": {
   "display_name": "Python 3",
   "language": "python",
   "name": "python3"
  },
  "language_info": {
   "codemirror_mode": {
    "name": "ipython",
    "version": 3
   },
   "file_extension": ".py",
   "mimetype": "text/x-python",
   "name": "python",
   "nbconvert_exporter": "python",
   "pygments_lexer": "ipython3",
   "version": "3.8.5"
  }
 },
 "nbformat": 4,
 "nbformat_minor": 4
}
